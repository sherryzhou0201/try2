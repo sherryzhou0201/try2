{
  "nbformat": 4,
  "nbformat_minor": 0,
  "metadata": {
    "colab": {
      "name": "Automation of Map Generation .ipynb",
      "provenance": [],
      "private_outputs": true,
      "collapsed_sections": [],
      "include_colab_link": true
    },
    "kernelspec": {
      "name": "python3",
      "display_name": "Python 3"
    }
  },
  "cells": [
    {
      "cell_type": "markdown",
      "metadata": {
        "id": "view-in-github",
        "colab_type": "text"
      },
      "source": [
        "<a href=\"https://colab.research.google.com/github/sherryzhou0201/work/blob/master/Automation_of_Map_Generation_.ipynb\" target=\"_parent\"><img src=\"https://colab.research.google.com/assets/colab-badge.svg\" alt=\"Open In Colab\"/></a>"
      ]
    },
    {
      "cell_type": "markdown",
      "metadata": {
        "id": "R88Ms0MTi0Ma"
      },
      "source": [
        "# Automation of Map Generation"
      ]
    },
    {
      "cell_type": "markdown",
      "metadata": {
        "id": "WA6lL1fni0Mb"
      },
      "source": [
        "The python code I wrote here can only be be run if you have the ArcMap software installed. This is just the code example. All the related data were cleaned. Please only run the script on a virtual machine and follow the FISMA (The Federal Information Security Management Act) to protect children's personal information in Florida."
      ]
    },
    {
      "cell_type": "markdown",
      "metadata": {
        "id": "TUoI2S7Bi6iR"
      },
      "source": [
        "# Map Genration Using ArcPy"
      ]
    },
    {
      "cell_type": "code",
      "metadata": {
        "id": "neechzbWi7rV"
      },
      "source": [
        "# the following command was run in the python window in ArcMap (Code will be slightly different if is running outside of the ArcMap)\n",
        "# execfile(r\".....the directory you saved your file.py\")\n",
        "# run the first ym first, manually include all the symbology layers in the mxd \n",
        "# edit the legend, and save the new master mxd\n",
        "# note: unclick all the \"map connection\" option, so the legend will not automatically updated by the content\n",
        "# loop through all the ym's\n",
        "\n",
        "import arcpy, os\n",
        "from shutil import copyfile\n",
        "from arcpy import env\n",
        "from arcpy.sa import *\n",
        "import pandas as pd"
      ],
      "execution_count": null,
      "outputs": []
    },
    {
      "cell_type": "code",
      "metadata": {
        "id": "UScKyL2TjARW"
      },
      "source": [
        "arcpy.env.overwriteOutput=True\n",
        "arcpy.RefreshActiveView()\n",
        "\n",
        "\n",
        "# layout legend (legend was manually created first for the mxd file)\n",
        "mxd=arcpy.mapping.MapDocument(\"CURRENT\")\n",
        "df=arcpy.mapping.ListDataFrmaes(mxd)[0]\n",
        "\n",
        "# legend can also be adjusted by using legend.elementHieght... which allow you to change legend when you add more layers or different maps\n",
        "# here since all the legend is the same across the maps, I manually set them at the begining\n",
        "\n",
        "# the following are the three layers we created for the map, named as index, provider, and kernel (detail definiation can refer to our annual report)\n",
        "index_symbology=arcpy.mapping.ListLayers(mxd,'Index Layer',df)[0]\n",
        "index_symbology.visible=False\n",
        "provider_symbology=arcpy.mapping.ListLayers(mxd,'Provider Layer',df)[0]\n",
        "provider_symbology.visible=False\n",
        "outKernelDensity_FL_symbology=arcpy.mapping.ListLayers(mxd,'Child Residence Density',df)[0]\n",
        "outKernelDensity_FL_symbology.visible=False\n",
        "\n",
        "\n",
        "# check out the \"spatial\" function, we will need this analysis tool to create kernel density map\n",
        "arcpy.CheckOutExtension(\"spatial\")\n",
        "\n",
        "# create the geodatabase for the input data\n",
        "out_gdb=r\"G:\\Sherry_Data\\ArcGIS\\input\\InputData2019.gdb\"\n",
        "\n",
        "# create the symbology map layer\n",
        "symbolgoy_ly_selection=r\"G:\\Sherry_Data\\ArcGIS\\input\\index_symbology2019.lyr\"\n",
        "symbology_ly_provider=r\"G:\\Sherry_Data\\ArcGIS\\input\\provider_symbology2019.lyr\"\n",
        "symbology_lyr_kernel=r\"G:\\Sherry_Data\\ArcGIS\\input\\Kernel_Den_symbology2019.lyr\"\n",
        "\n",
        "# set the spatial reference\n",
        "prj_file=r\"G:\\Sherry_Data\\ArcGIS\\input\\WGS 1984.prj\"\n"
      ],
      "execution_count": null,
      "outputs": []
    },
    {
      "cell_type": "markdown",
      "metadata": {
        "id": "a6bG_gAPi0Me"
      },
      "source": [
        "# Generate monthly maps for each coalition in FL from 2017-2018 fiscal year"
      ]
    },
    {
      "cell_type": "code",
      "metadata": {
        "id": "kuTHKjk-i0Mf"
      },
      "source": [
        "# street map was loaded in the master mxd, no need to load it at monthly basis (street map loading requires more time than other maps, so make sure you do not load it when it is not necessary)\n",
        "# I was thinking to make a toolbox in ArcMap out of this (more flexible for our users), but did not do it due to the approaching deadline. \n",
        "# For whoever will take over my job, think about it and probably try to make a tool box out of it , so even the non-programmer in our team can use this feature\n",
        "\n",
        "# script for the toolbox\n",
        "# get paramter text command from users\n",
        "# YM=arcpy.GetParameterAsText(0)\n",
        "\n",
        "# In our case, I hard code the YM (year,month)\n",
        "YM=\"2017-07-01,2017-08-01,2017-09-01,2017-10-01,2017-11-01,2017-12-01,2018-01-01,2018-02-01,2018-03-01,2018-04-01,2018-05-01,2018-06-01\"\n",
        "coalition_name=\"ELC_Alachua,ELC_Big_Bend,ELC_Brevard, ELC_Broward,ELC_Druval,ELC_Emerald_Coast, ELC_Escambia,ELC_Flagler_Volusia,ELC_Florida_Gateway\" # here I did not list all coalitions, we have 30 ELC\n",
        "\n",
        "for ym in YM.split(\",\"):\n",
        "\n",
        "  ####################\n",
        "  ## provider layer ##\n",
        "  ####################\n",
        "\n",
        "  # this is actually our nmiddle layer, we do this first because it is state-wide\n",
        "  # we do not need to loop coalition through this\n",
        "  in_Table_pv=r\"G:\\Sherry_Data\\ArcGIS\\input\\data_preparation\\provider_{}.xlsx\\provider_()$\".format(ym,ym)\n",
        "  out_name_pv='provider_XY'\n",
        "  # change the data provider_XY to geodatabase\n",
        "  arcpy.TableToTable_conversion(in_table_pv,out_gdb,out_name_pv)\n",
        "  gdb_table_pv=out_gdb+os.sep+out_name_pv # os.sep means\\\n",
        "  arcpy.MakeTableView_management(gdb_table_pv,\"provider_XY\")\n",
        "\n",
        "  # make the xy event layer\n",
        "  arcpy.MakeXYEventLayer_management(\"provider_XY\",\"X\",\"Y\",\"provider_point\",prj_file)\n",
        "  # convert the temp layer to the permanant layer\n",
        "  arcpy.FeatureClassToFeatureClass_conversion(\"provider_point\",out_gdb,\"provider_point_lyr\")\n",
        "  # apply symbology\n",
        "  arcpy.ApplySymbologyFromLayer_management('provider_point_lyr',symbology_lyr_provider)\n",
        "\n",
        "  print(\"Provider Layer Completed\")\n",
        "\n",
        "\n",
        "  for coalition_name in coalition_name.split(\",\"):\n",
        "\n",
        "    ############################\n",
        "    ##child layer preparetion###\n",
        "    ############################\n",
        "\n",
        "    in_table_ch=r\"G:\\Sherry_Data\\ArcGIS\\input\\data_preparation\\child_{}_{}.xlsx\\Sheet1$\".format(ym,coalition_name)\n",
        "    out_name_ch='child_XY'\n",
        "\n",
        "    # change the data child_XY to geodatabase\n",
        "    arcpy.TableToTable_conversion(in_table_ch,out_gdb,out_name_ch)\n",
        "    gdb_table_ch=out_gdb+os.sep+out_name_ch # os.sep means \\\n",
        "    arcpy.MakeTableView_management(gdb_table_ch,'child_XY')\n",
        "\n",
        "    # for this layer, we create a point layer first based on XY\n",
        "    arcpy.MakeXYEventLayer_management('child_XY',\"X\",\"Y\",\"child_point\",prj_file)\n",
        "\n",
        "    # convert the temp layer to the permenant layer\n",
        "    arcpy.FeatureClassToFeatureClass_conversion(\"child_point\",out_gdb,\"child_point\")\n",
        "\n",
        "    # please be aware, the variable name changes after you join the data\n",
        "    arcpy.gp.KernelDensity_sa(\"Child_point\",\"NONE\",r'\\\\t001-fs02.fed-ad.ufl.edu\\T001bUSRDATA\\MyDocs\\sherryzhou0201\\Documents\\ArcGIS\\Default.gdb\\outKernelDensity',\"#\",\"#\",\"SQUARE_MAP_UNITS\",'DENSITIES','PLANAR')\n",
        "\n",
        "    # Before we apply symobolgoy, make sure we use \"resample\" function to make sure the way we resample our data is BILINEAR\n",
        "    # arcpy.Resample_management(\"outKernelDensity\",\"out1\",'#',\"BILINEAR\")\n",
        "    arcpy.ApplySymbologyFromLayer_management('outKernelDensity',symbology_lyr_kernel)\n",
        "\n",
        "    print(\"{} {} Kernel Density map completed\".format(ym,coalition_name))\n",
        "\n",
        "\n",
        "    #################################\n",
        "    # selection/infrastructure layer #\n",
        "    #################################\n",
        "\n",
        "    # create the basic map layer \n",
        "    arcpy.MakeFeatureLayer_management(\"G:\\Sherry_Data\\ArcGIS\\input\\zipbnd_2012,edited.shp\",\"map\")\n",
        "    # convert the basic zipcode layer to gdb feature class\n",
        "    arcpy.FeatureClassToFeatureClass_conversion(\"map\",out_gdb,\"basic_zip_map\")\n",
        "    # the previous one is ony temporary in the loop, put it into a layer actually shown\n",
        "    out_name_basic_mnap=\"basic_zip_map\"\n",
        "    gdb_table_basic_zip=out_gdb+os.sep+out_name_basic_map\n",
        "    arcpy.MakeFeatureLayer_management(gdb_table_basic_zip,\"basic_zip_map\")\n",
        "\n",
        "\n",
        "    in_table_selection_infra=r\"G:\\Sherry_Data\\ArcGIS\\input\\data_preparation\\index_{}_{}.xlsx\\Sheet1$\".format(ym,coalition_name)\n",
        "    arcpy.TableToTable_conversion(in_table_selection_infra,out_gdb,'selection_infrastructure')\n",
        "    # convert it to the gdb format\n",
        "    out_name_infra=\"selection_infrastructure\"\n",
        "    gdb_table_infra=out_gdb+os.sep+out_name_infra # os.sep means\\\n",
        "    arcpy.MakeTableView_management(gdb_table_infra,\"selection_infrastructure\")\n",
        "\n",
        "\n",
        "    # join the baisc_zip_map with the selection_infrasturcture data\n",
        "    arcpy.JoinField_management('basic_zip_map','zip_num','selection_infrastructure','Zip','Zip;coalition;Capacity_HQ;Num_kid_HQ;Capacity_LQ;Num_kid_LQ;selection;infrastructure;quadrant')\n",
        "\n",
        "    # be aware, to apply symbology, we need to make sure taht the data names in the symbology_lyr is exactly the same as the name used in the current layer\n",
        "    # otherwise, the \"apply symbology\" function will not work\n",
        "\n",
        "    arcpy.ApplySymbologyFromLayer_management('basic_zip_map',symbology_lyr_selection)\n",
        "\n",
        "    print(\"index layer {} {} completed\".format(ym,coalition_name))\n",
        "\n",
        "\n",
        "    # remove the unnessary layers\n",
        "    for lyr in arcpy.mapping.ListLayers(mxd,\"\",df):\n",
        "      if lyr.name==\"child_point\":\n",
        "        arcpy.mapping.RemoveLayer(df,lyr)\n",
        "      if lyr.name==\"provider_point\":\n",
        "        arcpy.mapping.RemoveLayer(df,lyr)\n",
        "      if lyr.name==\"map\":\n",
        "        arcpy.mapping.RemoveLayer(df,lyr)\n",
        "      if lyr.name==\"outKernelDensity\":\n",
        "        moveLayer=lyr\n",
        "      if lyr.name==\"basic_zip_map\":\n",
        "        moveLayer1=lyr\n",
        "    \n",
        "    arcpy.mapping.MoverLayer(df,refLayer,moveLayer,\"AFTER\")\n",
        "\n",
        "\n",
        "    arcpy.SelecLayerByAttribute_management(\"basic_zip_map\",'NEW_SELECTION',\"\"\" \"coalition\"='{}' \"\"\".format(coalition_name))\n",
        "    df.zoomToSelectedFeatures()\n",
        "\n",
        "\n",
        "    # clear_selection -- get rid of the highlighted green line for the coalition\n",
        "    arcpy.SelecLayerByAttribute_management(\"basic_zip_map\",\"CLEAR_SELECTION\")\n",
        "    save_direct_jpg=r\"G:\\Sherry_Data\\ArcGIS\\output\\{}_{}.jpg\".format(ym,coalition_name)\n",
        "    arcpy.mapping.ExportToJPEG(mxd,save_direct_jpg,df_export_width=2250,df_export_height-4500,resolution=300)\n",
        "\n",
        "    \n"
      ],
      "execution_count": null,
      "outputs": []
    }
  ]
}