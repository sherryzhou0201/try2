{
  "nbformat": 4,
  "nbformat_minor": 0,
  "metadata": {
    "colab": {
      "name": "BQ codes for EEP sub pipeline_1006.ipynb",
      "provenance": [],
      "collapsed_sections": [],
      "toc_visible": true,
      "authorship_tag": "ABX9TyNX+kiS5dHy0geaEfeK1Au/",
      "include_colab_link": true
    },
    "kernelspec": {
      "name": "python3",
      "display_name": "Python 3"
    }
  },
  "cells": [
    {
      "cell_type": "markdown",
      "metadata": {
        "id": "view-in-github",
        "colab_type": "text"
      },
      "source": [
        "<a href=\"https://colab.research.google.com/github/sherryzhou0201/work/blob/master/BQ_codes_for_EEP_sub_pipeline_1006.ipynb\" target=\"_parent\"><img src=\"https://colab.research.google.com/assets/colab-badge.svg\" alt=\"Open In Colab\"/></a>"
      ]
    },
    {
      "cell_type": "markdown",
      "metadata": {
        "id": "iT9gd38wih10"
      },
      "source": [
        "# BQ codes for the persistence score project (with embeddings)\n",
        "\n",
        "Step I:   Combine two weeks data (week-2 ,week-1) \n",
        "\n",
        "<br>Step II:  Generate the churn labels for week -2 data\n",
        "- cluster_id - individual\n",
        "- cluster_id - household\n",
        "\n",
        "<br>Step III: Generate the features (31, with TF-IDF vectors)\n",
        "- individual\n",
        "- household\n",
        "\n",
        "Step I to III were run in DAG. The tables were copied into our data set to proceed the next step\n",
        "\n",
        "<br>Step VI:  Combine the embeddings with the previous 31 features\n",
        "- individual\n",
        "- household\n",
        "\n",
        "<br>Step V :  hyperparmeter tuning \n",
        "- flatten the table \n",
        "- hyperparamter tuning [in gcloud notebook - insert link]\n",
        "\n",
        "<br>Step VI :   BQML with the optimal hyperparemters\n",
        "\n",
        "\n"
      ]
    },
    {
      "cell_type": "code",
      "metadata": {
        "id": "B4PZFqvKihOP",
        "colab": {
          "base_uri": "https://localhost:8080/"
        },
        "outputId": "9988c6d4-f846-42a3-caf6-c7fd0b11192e"
      },
      "source": [
        "# authentation\n",
        "from google.colab import auth\n",
        "auth.authenticate_user()\n",
        "print(\"Authenticated\")\n"
      ],
      "execution_count": 45,
      "outputs": [
        {
          "output_type": "stream",
          "text": [
            "Authenticated\n"
          ],
          "name": "stdout"
        }
      ]
    },
    {
      "cell_type": "code",
      "metadata": {
        "id": "lPljxHFYrmcN",
        "colab": {
          "base_uri": "https://localhost:8080/"
        },
        "outputId": "9c4eb2fc-8324-4dd0-c623-ba481ebed798"
      },
      "source": [
        "# enable data table display\n",
        "%load_ext google.colab.data_table\n",
        "# to use the magic command\n",
        "%load_ext google.cloud.bigquery\n",
        "# import packages\n",
        "from google.cloud import bigquery"
      ],
      "execution_count": 46,
      "outputs": [
        {
          "output_type": "stream",
          "text": [
            "The google.colab.data_table extension is already loaded. To reload it, use:\n",
            "  %reload_ext google.colab.data_table\n",
            "The google.cloud.bigquery extension is already loaded. To reload it, use:\n",
            "  %reload_ext google.cloud.bigquery\n"
          ],
          "name": "stdout"
        }
      ]
    },
    {
      "cell_type": "code",
      "metadata": {
        "id": "kUtIks_xr6-1"
      },
      "source": [
        "# project/data info\n",
        "global project_id,data_set\n",
        "project_id='tapad-identity-stg'\n",
        "data_set='persistence_embedding_sub_pipeline'\n",
        "client = bigquery.Client('tapad-identity-stg')"
      ],
      "execution_count": 47,
      "outputs": []
    },
    {
      "cell_type": "markdown",
      "metadata": {
        "id": "su3Mm6B00RUt"
      },
      "source": [
        "### STEP I Combine two weeks data (week-2 ,week-1)"
      ]
    },
    {
      "cell_type": "code",
      "metadata": {
        "id": "a3Fg4xSL0CTO"
      },
      "source": [
        "# this code is copied from DAG\n",
        "# run in DAG \n",
        "persistence_embedding_previous2weeks_combined_household= f'''\n",
        "    WITH\n",
        "              lastPersistentIdToAliasTable AS (\n",
        "            SELECT\n",
        "              DISTINCT household_id AS last_cluster_id,\n",
        "              device_id AS last_canonical_id,\n",
        "              a.id AS alias_id\n",
        "            FROM\n",
        "              `tapad-identity-stg.dg_internal_us_eep_control.device_graph_v001`,\n",
        "              UNNEST(aliases) a\n",
        "            WHERE\n",
        "              _PARTITIONTIME = '2020-10-06'\n",
        "              AND household_id IS NOT NULL\n",
        "            ),\n",
        "              currentPersistentIdToAliasTable AS (\n",
        "            SELECT\n",
        "              DISTINCT household_id AS current_cluster_id,\n",
        "              a.id AS alias_id\n",
        "            FROM\n",
        "              `tapad-identity-stg.dg_internal_us_eep_control.device_graph_v001`,\n",
        "              UNNEST(aliases) a\n",
        "            WHERE\n",
        "              _PARTITIONTIME = '2020-10-13'\n",
        "              AND household_id IS NOT NULL\n",
        "            ),\n",
        "              joined AS (\n",
        "            SELECT\n",
        "              l.alias_id,\n",
        "              l.last_canonical_id,\n",
        "              l.last_cluster_id,\n",
        "              c.current_cluster_id\n",
        "            FROM\n",
        "              lastPersistentIdToAliasTable l\n",
        "            LEFT JOIN\n",
        "              currentPersistentIdToAliasTable c\n",
        "            ON\n",
        "              l.alias_id = c.alias_id\n",
        "            )\n",
        "\n",
        "            SELECT\n",
        "              *,\n",
        "              IF(current_cluster_id IS NULL\n",
        "                AND last_cluster_id NOT IN (SELECT DISTINCT current_cluster_id FROM currentPersistentIdToAliasTable), 1, 0) AS is_lost_alias_churned,\n",
        "              IF(current_cluster_id IS NULL\n",
        "                AND last_cluster_id IN (SELECT DISTINCT current_cluster_id FROM currentPersistentIdToAliasTable), 1, 0) AS is_lost_alias_persisted,\n",
        "              IF(current_cluster_id = last_cluster_id, 1, 0) AS is_same_mapped,\n",
        "              IF(current_cluster_id IS NOT NULL\n",
        "                AND current_cluster_id <> last_cluster_id\n",
        "                AND last_cluster_id NOT IN (SELECT DISTINCT current_cluster_id FROM currentPersistentIdToAliasTable), 1, 0) AS is_different_mapped_churned,\n",
        "              IF(current_cluster_id IS NOT NULL\n",
        "                AND current_cluster_id <> last_cluster_id\n",
        "                AND last_cluster_id IN (SELECT DISTINCT current_cluster_id FROM currentPersistentIdToAliasTable), 1, 0) AS is_different_mapped_persisted\n",
        "            FROM\n",
        "              joined\n",
        "           '''"
      ],
      "execution_count": null,
      "outputs": []
    },
    {
      "cell_type": "markdown",
      "metadata": {
        "id": "tWoygxBV0vZW"
      },
      "source": [
        "### STEP II Generate the churn labels for week -2 data\n",
        "\n",
        "in the DAG, this step was run twice. The first 1,000,000 rows is our training data, and the second 1,000,000 (>1,000,000 and < 2,000,000) is our testing data"
      ]
    },
    {
      "cell_type": "code",
      "metadata": {
        "id": "1boTM3gk0Hej"
      },
      "source": [
        "# this code is copied from DAG\n",
        "# run in DAG \n",
        "persistence_embedding_binary_label_generation=f'''\n",
        "WITH\n",
        "              lostAliasChurnLabels AS (\n",
        "            WITH labels AS (\n",
        "            SELECT\n",
        "              alias_id,\n",
        "              last_canonical_id AS canonical_id,\n",
        "              last_cluster_id AS cluster_id,\n",
        "              1 AS label\n",
        "            FROM\n",
        "              `tapad-identity-stg.persistence_embedding_sub_pipeline_testing.persistence_embedding_previous2weeks_combined`\n",
        "            WHERE\n",
        "              is_lost_alias_churned = 1),\n",
        "            count AS (\n",
        "            SELECT\n",
        "              COUNT(*) AS cnt\n",
        "            FROM\n",
        "              labels\n",
        "            )\n",
        "            SELECT\n",
        "              alias_id,\n",
        "              canonical_id,\n",
        "              cluster_id,\n",
        "              label\n",
        "            FROM\n",
        "              labels\n",
        "            CROSS JOIN\n",
        "              count\n",
        "            WHERE\n",
        "              MOD(ABS(FARM_FINGERPRINT(alias_id)), cnt) >= 0 AND MOD(ABS(FARM_FINGERPRINT(alias_id)), cnt) <= 1000000\n",
        "            ),differentMappedAliasChurnLabels AS (\n",
        "            WITH labels AS (\n",
        "            SELECT\n",
        "              alias_id,\n",
        "              last_canonical_id AS canonical_id,\n",
        "              last_cluster_id AS cluster_id,\n",
        "              1 AS label\n",
        "            FROM\n",
        "              `tapad-identity-stg.persistence_embedding_sub_pipeline_testing.persistence_embedding_previous2weeks_combined`\n",
        "            WHERE\n",
        "              is_different_mapped_churned = 1),\n",
        "            count AS (\n",
        "            SELECT\n",
        "              COUNT(*) AS cnt\n",
        "            FROM\n",
        "              labels\n",
        "            )\n",
        "            SELECT\n",
        "              alias_id,\n",
        "              canonical_id,\n",
        "              cluster_id,\n",
        "              label\n",
        "            FROM\n",
        "              labels\n",
        "            CROSS JOIN\n",
        "              count\n",
        "            WHERE\n",
        "              MOD(ABS(FARM_FINGERPRINT(alias_id)), cnt) >= 0 AND MOD(ABS(FARM_FINGERPRINT(alias_id)), cnt) <= 1000000\n",
        "            ),sameMappedAliasLabels AS (\n",
        "            WITH labels AS (\n",
        "            SELECT\n",
        "              alias_id,\n",
        "              last_canonical_id AS canonical_id,\n",
        "              last_cluster_id AS cluster_id,\n",
        "              0 AS label\n",
        "            FROM\n",
        "              `tapad-identity-stg.persistence_embedding_sub_pipeline_testing.persistence_embedding_previous2weeks_combined`\n",
        "            WHERE\n",
        "              is_same_mapped = 1),\n",
        "            count AS (\n",
        "            SELECT\n",
        "              COUNT(*) AS cnt\n",
        "            FROM\n",
        "              labels\n",
        "            )\n",
        "            SELECT\n",
        "              alias_id,\n",
        "              canonical_id,\n",
        "              cluster_id,\n",
        "              label\n",
        "            FROM\n",
        "              labels\n",
        "            CROSS JOIN\n",
        "              count\n",
        "            WHERE\n",
        "              MOD(ABS(FARM_FINGERPRINT(alias_id)), cnt) >= 0 AND MOD(ABS(FARM_FINGERPRINT(alias_id)), cnt) <= 1000000\n",
        "            ),lostAliasPersistLabels AS (\n",
        "            WITH labels AS (\n",
        "            SELECT\n",
        "              alias_id,\n",
        "              last_canonical_id AS canonical_id,\n",
        "              last_cluster_id AS cluster_id,\n",
        "              0 AS label\n",
        "            FROM\n",
        "              `tapad-identity-stg.persistence_embedding_sub_pipeline_testing.persistence_embedding_previous2weeks_combined`\n",
        "            WHERE\n",
        "              is_lost_alias_persisted = 1),\n",
        "            count AS (\n",
        "            SELECT\n",
        "              COUNT(*) AS cnt\n",
        "            FROM\n",
        "              labels\n",
        "            )\n",
        "            SELECT\n",
        "              alias_id,\n",
        "              canonical_id,\n",
        "              cluster_id,\n",
        "              label\n",
        "            FROM\n",
        "              labels\n",
        "            CROSS JOIN\n",
        "              count\n",
        "            WHERE\n",
        "              MOD(ABS(FARM_FINGERPRINT(alias_id)), cnt) >= 0 AND MOD(ABS(FARM_FINGERPRINT(alias_id)), cnt) <= 1000000\n",
        "            ),differentMappedAliasPersistLabels AS (\n",
        "            WITH labels AS (\n",
        "            SELECT\n",
        "              alias_id,\n",
        "              last_canonical_id AS canonical_id,\n",
        "              last_cluster_id AS cluster_id,\n",
        "              0 AS label\n",
        "            FROM\n",
        "              `tapad-identity-stg.persistence_embedding_sub_pipeline_testing.persistence_embedding_previous2weeks_combined`\n",
        "            WHERE\n",
        "              is_different_mapped_persisted = 1),\n",
        "            count AS (\n",
        "            SELECT\n",
        "              COUNT(*) AS cnt\n",
        "            FROM\n",
        "              labels\n",
        "            )\n",
        "            SELECT\n",
        "              alias_id,\n",
        "              canonical_id,\n",
        "              cluster_id,\n",
        "              label\n",
        "            FROM\n",
        "              labels\n",
        "            CROSS JOIN\n",
        "              count\n",
        "            WHERE\n",
        "              MOD(ABS(FARM_FINGERPRINT(alias_id)), cnt) >= 0 AND MOD(ABS(FARM_FINGERPRINT(alias_id)), cnt) <= 1000000\n",
        "            ),\n",
        "              union_all_sqls AS (SELECT * FROM lostAliasChurnLabels UNION ALL SELECT * FROM differentMappedAliasChurnLabels UNION ALL SELECT * FROM sameMappedAliasLabels UNION ALL SELECT * FROM lostAliasPersistLabels UNION ALL SELECT * FROM differentMappedAliasPersistLabels),\n",
        "              dedup_canonicals AS (\n",
        "            SELECT DISTINCT\n",
        "              canonical_id,\n",
        "              cluster_id,\n",
        "              label\n",
        "            FROM\n",
        "            union_all_sqls\n",
        "            )\n",
        "\n",
        "            SELECT\n",
        "              *\n",
        "            FROM\n",
        "              dedup_canonicals\n",
        "\n",
        "\n",
        "''''\n",
        "# MOD(ABS(FARM_FINGERPRINT(alias_id)), cnt), mod() means how many equal portion you will have ,here we assign each row a hash code"
      ],
      "execution_count": null,
      "outputs": []
    },
    {
      "cell_type": "markdown",
      "metadata": {
        "id": "9rpvtmug1UCF"
      },
      "source": [
        "### STEP III Generate the features (31, with TF-IDF vectors and extra time information)"
      ]
    },
    {
      "cell_type": "code",
      "metadata": {
        "id": "HQCdkKwY1L2v"
      },
      "source": [
        "# this code is copied from DAG, this one is for household cluster\n",
        "#  run in DAG \n",
        "persistence_embedding_featurization=f'''\n",
        "CREATE TEMPORARY FUNCTION\n",
        "              dayQuadrantizerUdf(timestamps ARRAY<INT64>) AS ((\n",
        "                WITH\n",
        "                  unique_ts AS (\n",
        "                  SELECT\n",
        "                    TIMESTAMP_MILLIS(t) AS ts\n",
        "                  FROM\n",
        "                    UNNEST(timestamps) t ),\n",
        "                  day_quadrant_counts AS (\n",
        "                  SELECT\n",
        "                    IF(\n",
        "                      FORMAT_TIMESTAMP(\"%A\", ts) in ('Monday','Tuesday','Wednesday','Thursday','Friday','Saturday','Sunday'),\n",
        "                      FORMAT_TIMESTAMP(\"%A\", ts), \n",
        "                      'other_days'\n",
        "                      ) AS day,\n",
        "                    FLOOR(CAST(FORMAT_TIMESTAMP(\"%H\", ts) AS INT64)/3) AS day_quadrant,\n",
        "                    COUNT(*) AS frequency\n",
        "                  FROM\n",
        "                    unique_ts\n",
        "                  GROUP BY\n",
        "                    day,\n",
        "                    day_quadrant),\n",
        "                  aggregated_day_quadrants AS (\n",
        "                  SELECT\n",
        "                    day,\n",
        "                    ARRAY_AGG(day_quadrant order by frequency DESC,\n",
        "                    day_quadrant DESC LIMIT 1)[OFFSET(0)] AS day_quadrant\n",
        "                  FROM\n",
        "                    day_quadrant_counts\n",
        "                  GROUP BY\n",
        "                   day)\n",
        "                SELECT\n",
        "                  AS STRUCT\n",
        "                  (SELECT day_quadrant FROM aggregated_day_quadrants WHERE day = 'Monday') AS monday,\n",
        "            (SELECT day_quadrant FROM aggregated_day_quadrants WHERE day = 'Tuesday') AS tuesday,\n",
        "            (SELECT day_quadrant FROM aggregated_day_quadrants WHERE day = 'Wednesday') AS wednesday,\n",
        "            (SELECT day_quadrant FROM aggregated_day_quadrants WHERE day = 'Thursday') AS thursday,\n",
        "            (SELECT day_quadrant FROM aggregated_day_quadrants WHERE day = 'Friday') AS friday,\n",
        "            (SELECT day_quadrant FROM aggregated_day_quadrants WHERE day = 'Saturday') AS saturday,\n",
        "            (SELECT day_quadrant FROM aggregated_day_quadrants WHERE day = 'Sunday') AS sunday\n",
        "              ));\n",
        "\n",
        "\n",
        "            CREATE TEMPORARY FUNCTION\n",
        "              getTfidfVector(tfidf_ip_signal_strengths ARRAY<STRUCT<ip_address STRING,\n",
        "                num_full_sightings INT64,\n",
        "                num_imaginary_sightings INT64,\n",
        "                tfidf FLOAT64,\n",
        "                tfidf_rank INT64>>) AS (\n",
        "                (WITH tfidf_vector AS (\n",
        "                    SELECT\n",
        "                      ARRAY_AGG(IFNULL(ss.tfidf, 0) ORDER BY idx) AS tfidf\n",
        "                    FROM\n",
        "                      UNNEST(GENERATE_ARRAY(0, 9)) idx\n",
        "                    LEFT JOIN\n",
        "                      UNNEST(tfidf_ip_signal_strengths) ss WITH OFFSET pos\n",
        "                    ON\n",
        "                      idx = pos)\n",
        "                   SELECT\n",
        "                     AS STRUCT\n",
        "                     tfidf[OFFSET(0)] AS tfidf_1,\n",
        "            tfidf[OFFSET(1)] AS tfidf_2,\n",
        "            tfidf[OFFSET(2)] AS tfidf_3,\n",
        "            tfidf[OFFSET(3)] AS tfidf_4,\n",
        "            tfidf[OFFSET(4)] AS tfidf_5,\n",
        "            tfidf[OFFSET(5)] AS tfidf_6,\n",
        "            tfidf[OFFSET(6)] AS tfidf_7,\n",
        "            tfidf[OFFSET(7)] AS tfidf_8,\n",
        "            tfidf[OFFSET(8)] AS tfidf_9,\n",
        "            tfidf[OFFSET(9)] AS tfidf_10\n",
        "                   FROM\n",
        "                     tfidf_vector\n",
        "                 )\n",
        "            );\n",
        "\n",
        "\n",
        "            CREATE TEMPORARY FUNCTION\n",
        "              alias_id_type_to_string(id_type INT64) AS ((\n",
        "              SELECT\n",
        "                CASE\n",
        "                  WHEN id_type = 27 THEN 'HARDWARE_SECUREUDID'\n",
        "            WHEN id_type = 0 THEN 'UNSUPPORTED_TYPE'\n",
        "            WHEN id_type = 30 THEN 'HARDWARE_TV'\n",
        "            WHEN id_type = 1 THEN 'TAPAD_COOKIE'\n",
        "            WHEN id_type = 26 THEN 'HARDWARE_IDFV'\n",
        "            WHEN id_type = 14 THEN 'HARDWARE_MD5UDID'\n",
        "            WHEN id_type = 5 THEN 'PARTNER_PROVIDED_FIRST_PARTY_COOKIE'\n",
        "            WHEN id_type = 15 THEN 'HARDWARE_SHA1UDID'\n",
        "            WHEN id_type = 29 THEN 'HARDWARE_ANDROID_AD_ID'\n",
        "            WHEN id_type = 23 THEN 'HARDWARE_IDFA'\n",
        "            WHEN id_type = 28 THEN 'HARDWARE_SHA1WINDOWSDUID'\n",
        "            WHEN id_type = 18 THEN 'HARDWARE_ANDROIDID'\n",
        "            WHEN id_type = 11 THEN 'HARDWARE_OPENUDID'\n",
        "            WHEN id_type = 17 THEN 'HARDWARE_SHA1MAC'\n",
        "            WHEN id_type = 21 THEN 'HARDWARE_MD5ANDROIDPHONEID'\n",
        "            WHEN id_type = 4 THEN 'TAPAD_FIRST_PARTY_COOKIE'\n",
        "            WHEN id_type = 16 THEN 'HARDWARE_MD5MAC'\n",
        "            WHEN id_type = 12 THEN 'HARDWARE_MD5RAWMAC'\n",
        "            WHEN id_type = 22 THEN 'HARDWARE_SHA1ANDROIDPHONEID'\n",
        "            WHEN id_type = 2 THEN 'TAPAD_SIGNATURE'\n",
        "            WHEN id_type = 25 THEN 'HARDWARE_MD5IDFA'\n",
        "            WHEN id_type = 24 THEN 'HARDWARE_SHA1IDFA'\n",
        "            WHEN id_type = 31 THEN 'HARDWARE_OTHER'\n",
        "            WHEN id_type = 13 THEN 'HARDWARE_SHA1RAWMAC'\n",
        "            WHEN id_type = 20 THEN 'HARDWARE_SHA1ANDROIDID'\n",
        "            WHEN id_type = 19 THEN 'HARDWARE_MD5ANDROIDID'\n",
        "            WHEN id_type = 3 THEN 'THIRDPARTY'\n",
        "                  ELSE NULL\n",
        "                END AS id_type ));\n",
        "\n",
        "\n",
        "            CREATE TEMPORARY FUNCTION\n",
        "              min_timestamp(timestamps ARRAY<INT64>) AS ((\n",
        "                  SELECT\n",
        "                    MIN(t)\n",
        "                  FROM\n",
        "                    UNNEST(timestamps) t\n",
        "            ));\n",
        "\n",
        "\n",
        "            CREATE TEMPORARY FUNCTION\n",
        "              max_timestamp(timestamps ARRAY<INT64>) AS ((\n",
        "                  SELECT\n",
        "                    MAX(t)\n",
        "                  FROM\n",
        "                    UNNEST(timestamps) t\n",
        "            ));\n",
        "\n",
        "\n",
        "            CREATE TEMPORARY FUNCTION\n",
        "              avg_timestamp(timestamps ARRAY<INT64>) AS ((\n",
        "                  SELECT\n",
        "                    AVG(t)\n",
        "                  FROM\n",
        "                    UNNEST(timestamps) t\n",
        "            ));\n",
        "\n",
        "\n",
        "            CREATE TEMPORARY FUNCTION\n",
        "              pointwise_distance(x ARRAY<INT64>,\n",
        "                y ARRAY<INT64>) AS ((ARRAY(\n",
        "                      SELECT\n",
        "                        ABS(x - y)\n",
        "                      FROM\n",
        "                        UNNEST(x) x WITH OFFSET pos1\n",
        "                      JOIN\n",
        "                        UNNEST(y) y WITH OFFSET pos2\n",
        "                      ON\n",
        "                        pos1 = pos2\n",
        "                   ))\n",
        "            );\n",
        "\n",
        "\n",
        "            CREATE TEMPORARY FUNCTION\n",
        "              timestamp_lags(timestamps ARRAY<INT64>) AS ((\n",
        "                WITH sorted_ts AS (\n",
        "                SELECT\n",
        "                  ARRAY(SELECT ts FROM UNNEST(timestamps) ts ORDER BY ts DESC) AS ordered_ts),\n",
        "                lagged_ts AS (\n",
        "                SELECT\n",
        "                  ARRAY(SELECT ts FROM UNNEST(ordered_ts) ts WHERE ts <> ARRAY_REVERSE(ordered_ts)[SAFE_OFFSET(0)] ORDER BY ts) AS ordered_ts1,\n",
        "                  ARRAY(SELECT ts FROM UNNEST(ordered_ts) ts WHERE ts <> ordered_ts[SAFE_OFFSET(0)] ORDER BY ts) AS ordered_ts2\n",
        "                FROM\n",
        "                  sorted_ts)\n",
        "                SELECT\n",
        "                  pointwise_distance(ordered_ts1, ordered_ts2)\n",
        "                FROM\n",
        "                  lagged_ts\n",
        "            ));\n",
        "\n",
        "\n",
        "            CREATE TEMPORARY FUNCTION\n",
        "              last_week_timestamps(end_last_week STRING,\n",
        "                timestamps ARRAY<INT64>) AS ((\n",
        "                WITH\n",
        "                  last_week_intervals AS (\n",
        "                  SELECT\n",
        "                    UNIX_MILLIS(TIMESTAMP_SUB(TIMESTAMP(end_last_week), INTERVAL 6 DAY)) AS beginning_last_week_in_millis,\n",
        "                    UNIX_MILLIS(TIMESTAMP_ADD(TIMESTAMP(end_last_week), INTERVAL 1 DAY)) AS end_last_week_in_millis\n",
        "                )\n",
        "                SELECT\n",
        "                  ARRAY_AGG(ts)\n",
        "                FROM\n",
        "                  UNNEST(timestamps) ts,\n",
        "                  last_week_intervals\n",
        "                WHERE\n",
        "                  ts >= last_week_intervals.beginning_last_week_in_millis\n",
        "                  AND ts < last_week_intervals.end_last_week_in_millis\n",
        "            ));\n",
        "\n",
        "\n",
        "            CREATE TEMPORARY FUNCTION\n",
        "              array_distinct_source_company_ids(histories ARRAY<STRUCT< location_info_key INT64,\n",
        "                ip_address STRING,\n",
        "                device_info_key INT64,\n",
        "                user_agent_hash INT64,\n",
        "                event_type INT64,\n",
        "                source_company_id INT64,\n",
        "                timestamps ARRAY<INT64>,\n",
        "                company_id INT64 >>) AS ((\n",
        "                SELECT\n",
        "                  ARRAY_AGG(DISTINCT h.source_company_id)\n",
        "                FROM\n",
        "                  UNNEST(histories) h\n",
        "                WHERE\n",
        "                  h.source_company_id <> 0));\n",
        "\n",
        "\n",
        "            CREATE TEMPORARY FUNCTION\n",
        "              array_distinct_timestamps(histories ARRAY<STRUCT< location_info_key INT64,\n",
        "                ip_address STRING,\n",
        "                device_info_key INT64,\n",
        "                user_agent_hash INT64,\n",
        "                event_type INT64,\n",
        "                source_company_id INT64,\n",
        "                timestamps ARRAY<INT64>,\n",
        "                company_id INT64 >>) AS ((\n",
        "                SELECT\n",
        "                  ARRAY_AGG(DISTINCT ts)\n",
        "                FROM\n",
        "                  UNNEST(histories) h,\n",
        "                  UNNEST(timestamps) ts ));\n",
        "\n",
        "\n",
        "            CREATE TEMPORARY FUNCTION\n",
        "              num_hourly_bursts(timestamp_lags ARRAY<STRING>) AS ((\n",
        "                SELECT\n",
        "                  IF('' IN UNNEST(timestamp_lags) OR '0' IN UNNEST(timestamp_lags), 0, ARRAY_LENGTH(timestamp_lags)) \n",
        "            ));\n",
        "\n",
        "\n",
        "            CREATE TEMPORARY FUNCTION\n",
        "              is_burst_pointwise(x ARRAY<INT64>,\n",
        "                y ARRAY<INT64>) AS ((ARRAY(\n",
        "                      SELECT\n",
        "                        IF(y - x = 3600000, '1', '0') \n",
        "                      FROM\n",
        "                        UNNEST(x) x WITH OFFSET pos1\n",
        "                      JOIN\n",
        "                        UNNEST(y) y WITH OFFSET pos2\n",
        "                      ON\n",
        "                        pos1 = pos2\n",
        "                   ))\n",
        "            );\n",
        "\n",
        "\n",
        "            CREATE TEMPORARY FUNCTION\n",
        "              is_burst_sequence(timestamp_lags ARRAY<INT64>) AS ((\n",
        "                WITH sorted_ts AS (\n",
        "                SELECT\n",
        "                  ARRAY(SELECT ts FROM UNNEST(timestamp_lags) ts WITH OFFSET pos ORDER BY pos) AS ordered_ts),\n",
        "                lagged_ts AS (\n",
        "                SELECT\n",
        "                  ARRAY(SELECT ts FROM UNNEST(ordered_ts) ts WITH OFFSET pos WHERE pos < ARRAY_LENGTH(ordered_ts) - 1 ORDER BY pos) AS ordered_ts1,\n",
        "                  ARRAY(SELECT ts FROM UNNEST(ordered_ts) ts WITH OFFSET pos WHERE pos > 0 ORDER BY pos) AS ordered_ts2\n",
        "                FROM\n",
        "                  sorted_ts)\n",
        "                SELECT\n",
        "                  is_burst_pointwise(ordered_ts1, ordered_ts2)\n",
        "                FROM\n",
        "                  lagged_ts\n",
        "            ));\n",
        "\n",
        "\n",
        "            CREATE TEMPORARY FUNCTION\n",
        "              preprocess_bursts(timestamp_lags ARRAY<INT64>) AS ((\n",
        "                SELECT\n",
        "                  SPLIT(LTRIM(REPLACE(REPLACE(ARRAY_TO_STRING(is_burst_sequence(timestamp_lags), ''), '01', ' 1'), '0', '')), ' ')\n",
        "            ));\n",
        "\n",
        "\n",
        "            CREATE TEMPORARY FUNCTION\n",
        "              longest_burst(timestamp_lags ARRAY<STRING>) AS ((\n",
        "                SELECT\n",
        "                  IF('' IN UNNEST(timestamp_lags) OR '0' IN UNNEST(timestamp_lags), 0, 1 + MAX(LENGTH(s)))\n",
        "                FROM\n",
        "                  UNNEST(timestamp_lags) s\n",
        "                WHERE \n",
        "                  LENGTH(s) > 0      \n",
        "            ));\n",
        "\n",
        "\n",
        "            CREATE TEMPORARY FUNCTION\n",
        "              getFractionFullSightings(tfidf_ip_signal_strengths ARRAY<STRUCT<ip_address STRING,\n",
        "                num_full_sightings INT64,\n",
        "                num_imaginary_sightings INT64,\n",
        "                tfidf FLOAT64,\n",
        "                tfidf_rank INT64>>) AS ( (\n",
        "                WITH\n",
        "                  totals AS (\n",
        "                  SELECT\n",
        "                    SUM(ss.num_full_sightings) AS total_full_sightings,\n",
        "                    SUM(ss.num_imaginary_sightings) AS total_imaginary_sightings\n",
        "                  FROM\n",
        "                    UNNEST(tfidf_ip_signal_strengths) ss )\n",
        "                SELECT\n",
        "                  SAFE_DIVIDE(total_full_sightings, total_full_sightings + total_imaginary_sightings) AS fraction_full_sightings\n",
        "                FROM\n",
        "                  totals ) );\n",
        "\n",
        "\n",
        "            WITH\n",
        "              cluster_size_mapping AS (\n",
        "            SELECT\n",
        "              household_identifier.persistent_id AS cluster_id,\n",
        "              ARRAY_AGG(device_id) AS device_ids,\n",
        "              COUNT(device_id) AS cluster_size\n",
        "            FROM\n",
        "              `tapad-identity-stg.dg_internal_us_eep_control.household_build_v002`\n",
        "            WHERE\n",
        "              _PARTITIONTIME = '2020-10-07'\n",
        "              AND household_identifier.persistent_id IS NOT NULL\n",
        "            GROUP BY\n",
        "              household_identifier.persistent_id\n",
        "            ),\n",
        "              collated_timestamps_with_tfidf_ranks AS (\n",
        "            SELECT\n",
        "              device_id AS canonical_id,\n",
        "              csm.cluster_id AS cluster_id,\n",
        "              l.label AS label,\n",
        "              c.id_type AS id_type,\n",
        "              csm.cluster_size AS cluster_size,\n",
        "              r.alt_ip_signals,\n",
        "              array_distinct_source_company_ids(history) AS source_company_ids,\n",
        "              array_distinct_timestamps(history) AS timestamps\n",
        "            FROM\n",
        "              cluster_size_mapping csm,\n",
        "              UNNEST(device_ids) device_id\n",
        "              JOIN `tapad-identity-stg.application_tmp_us.canonical_to_household_classifier_training_labels_test_sherry_zhou_20201021_v001` l ON device_id = l.canonical_id\n",
        "            LEFT JOIN\n",
        "              `tapad-identity-stg.dg_internal_us_eep_control.agg_canonical_history_v002` c\n",
        "            ON\n",
        "              c._PARTITIONTIME = '2020-10-07'\n",
        "              AND device_id = c.canonical_id\n",
        "            LEFT JOIN\n",
        "              `tapad-identity-stg.dg_internal_us_eep_control.canonicals_ranked_by_tfidf_v001` r\n",
        "            ON\n",
        "              r._PARTITIONTIME = '2020-10-07'\n",
        "              AND device_id = r.canonical_id\n",
        "            ),\n",
        "              decorated_collated_timestamps_with_tfidf_ranks AS (\n",
        "            SELECT\n",
        "              canonical_id,\n",
        "              cluster_id,\n",
        "              label,\n",
        "              id_type,\n",
        "              cluster_size,\n",
        "              source_company_ids,\n",
        "              timestamps,\n",
        "              timestamp_lags(timestamps) AS timestamp_lags,\n",
        "              last_week_timestamps('2020-10-07', timestamps) AS last_week_timestamps,\n",
        "              alt_ip_signals\n",
        "            FROM\n",
        "              collated_timestamps_with_tfidf_ranks\n",
        "            ),\n",
        "              final_features AS (\n",
        "            SELECT\n",
        "              canonical_id,\n",
        "              cluster_id,\n",
        "              STRUCT(label AS label,\n",
        "            alias_id_type_to_string(id_type) AS id_type,\n",
        "            cluster_size AS cluster_size,\n",
        "            IFNULL(ARRAY_LENGTH(source_company_ids), 0) AS num_source_company_ids,\n",
        "            min_timestamp(timestamps) AS first_seen_timestamp,\n",
        "            max_timestamp(timestamps) AS last_seen_timestamp,\n",
        "            avg_timestamp(timestamps) AS avg_seen_timestamp,\n",
        "            ARRAY_LENGTH(timestamps) AS num_distinct_sightings,\n",
        "            dayQuadrantizerUdf(timestamps) AS day_quadrant_mode,\n",
        "            min_timestamp(timestamp_lags) AS min_timestamp_lag,\n",
        "            max_timestamp(timestamp_lags) AS max_timestamp_lag,\n",
        "            avg_timestamp(timestamp_lags) AS avg_timestamp_lag,\n",
        "            num_hourly_bursts(preprocess_bursts(timestamps)) AS num_hourly_bursts,\n",
        "            longest_burst(preprocess_bursts(timestamps)) AS longest_burst,\n",
        "            IF(ARRAY_LENGTH(last_week_timestamps) > 0, ARRAY_LENGTH(last_week_timestamps) / ARRAY_LENGTH(timestamps), 0) AS fraction_most_recent_week,\n",
        "            getFractionFullSightings(alt_ip_signals) AS fraction_full_sightings,\n",
        "            getTfidfVector(alt_ip_signals) AS tfidf_vector) AS features\n",
        "            FROM\n",
        "              decorated_collated_timestamps_with_tfidf_ranks\n",
        "            )\n",
        "\n",
        "            SELECT\n",
        "              *\n",
        "            FROM\n",
        "              final_features\n",
        "\n",
        "'''"
      ],
      "execution_count": null,
      "outputs": []
    },
    {
      "cell_type": "markdown",
      "metadata": {
        "id": "x6puUEGh2kQC"
      },
      "source": [
        "###Step VI:  Generate data for each conditions\n",
        "\n",
        "\n"
      ]
    },
    {
      "cell_type": "markdown",
      "metadata": {
        "id": "5oyFDH_jeGOf"
      },
      "source": [
        "#### Step VI-1: get the features same as the ones from the product line\n"
      ]
    },
    {
      "cell_type": "code",
      "metadata": {
        "id": "xvPh6Kh3gIER"
      },
      "source": [
        "# individual-training\n",
        "# flat\n",
        "input_table='individual_persistence_31features_training'\n",
        "output_table='individual_persistence_prd_features_training_flat'\n",
        "\n",
        "sql_code=f'''\n",
        "create table  {data_set}.{output_table} as (\n",
        "select canonical_id,cluster_id,features.label,features.id_type,features.cluster_size,\n",
        "      features.first_seen_timestamp,features.last_seen_timestamp,\n",
        "      features.avg_seen_timestamp,features.num_distinct_sightings,\n",
        "      features.day_quadrant_mode.monday,\n",
        "      features.day_quadrant_mode.tuesday,features.day_quadrant_mode.wednesday,\n",
        "      features.day_quadrant_mode.thursday,features.day_quadrant_mode.friday,\n",
        "      features.day_quadrant_mode.saturday,features.day_quadrant_mode.sunday,\n",
        "      features.min_timestamp_lag,features.max_timestamp_lag,features.avg_timestamp_lag\n",
        "from \n",
        "`{project_id}.{data_set}.{input_table}`\n",
        ")\n",
        "'''\n",
        "\n",
        "query_job=client.query(sql_code)\n",
        "query_job.result()"
      ],
      "execution_count": 12,
      "outputs": []
    },
    {
      "cell_type": "code",
      "metadata": {
        "colab": {
          "base_uri": "https://localhost:8080/"
        },
        "id": "0tO35yiN59bU",
        "outputId": "5f4ec1ad-a610-454e-877b-9e57bab91021"
      },
      "source": [
        "# nested\n",
        "input_table='individual_persistence_prd_features_training_flat'\n",
        "output_table='individual_persistence_prd_features_training'\n",
        "\n",
        "sql_code=f'''\n",
        "create table  {data_set}.{output_table} as (\n",
        "select canonical_id,cluster_id,\n",
        "      struct(\n",
        "      label,id_type,cluster_size,\n",
        "      first_seen_timestamp,last_seen_timestamp,\n",
        "      avg_seen_timestamp,num_distinct_sightings,\n",
        "      monday,tuesday,wednesday,thursday,friday,\n",
        "      saturday,sunday,min_timestamp_lag,max_timestamp_lag,avg_timestamp_lag) as features\n",
        "from \n",
        "`{project_id}.{data_set}.{input_table}`\n",
        ")\n",
        "'''\n",
        "\n",
        "query_job=client.query(sql_code)\n",
        "query_job.result()"
      ],
      "execution_count": 24,
      "outputs": [
        {
          "output_type": "execute_result",
          "data": {
            "text/plain": [
              "<google.cloud.bigquery.table._EmptyRowIterator at 0x7fced8152358>"
            ]
          },
          "metadata": {
            "tags": []
          },
          "execution_count": 24
        }
      ]
    },
    {
      "cell_type": "code",
      "metadata": {
        "colab": {
          "base_uri": "https://localhost:8080/"
        },
        "id": "KN8nzw5ggX2d",
        "outputId": "096585d7-ff63-4551-b5fc-2300a395fa11"
      },
      "source": [
        "# individual-testing\n",
        "# flat\n",
        "input_table='individual_persistence_31features_testing'\n",
        "output_table='individual_persistence_prd_features_testing_flat'\n",
        "\n",
        "sql_code=f'''\n",
        "create table  {data_set}.{output_table} as (\n",
        "select canonical_id,cluster_id,features.label,features.id_type,features.cluster_size,\n",
        "      features.first_seen_timestamp,features.last_seen_timestamp,\n",
        "      features.avg_seen_timestamp,features.num_distinct_sightings,\n",
        "      features.day_quadrant_mode.monday,\n",
        "      features.day_quadrant_mode.tuesday,features.day_quadrant_mode.wednesday,\n",
        "      features.day_quadrant_mode.thursday,features.day_quadrant_mode.friday,\n",
        "      features.day_quadrant_mode.saturday,features.day_quadrant_mode.sunday,\n",
        "      features.min_timestamp_lag,features.max_timestamp_lag,features.avg_timestamp_lag\n",
        "from \n",
        "`{project_id}.{data_set}.{input_table}`\n",
        ")\n",
        "'''\n",
        "\n",
        "query_job=client.query(sql_code)\n",
        "query_job.result()"
      ],
      "execution_count": 34,
      "outputs": [
        {
          "output_type": "execute_result",
          "data": {
            "text/plain": [
              "<google.cloud.bigquery.table._EmptyRowIterator at 0x7fced81809e8>"
            ]
          },
          "metadata": {
            "tags": []
          },
          "execution_count": 34
        }
      ]
    },
    {
      "cell_type": "code",
      "metadata": {
        "colab": {
          "base_uri": "https://localhost:8080/"
        },
        "id": "ByV9XXQUgUiF",
        "outputId": "ae6eb9bf-7cd7-4b44-d35a-b0f73aa052d4"
      },
      "source": [
        "# nested\n",
        "input_table='individual_persistence_prd_features_testing_flat'\n",
        "output_table='individual_persistence_prd_features_testing'\n",
        "\n",
        "sql_code=f'''\n",
        "create table  {data_set}.{output_table} as (\n",
        "select canonical_id,cluster_id,\n",
        "      struct(\n",
        "      label,id_type,cluster_size,\n",
        "      first_seen_timestamp,last_seen_timestamp,\n",
        "      avg_seen_timestamp,num_distinct_sightings,\n",
        "      monday,tuesday,wednesday,thursday,friday,\n",
        "      saturday,sunday,min_timestamp_lag,max_timestamp_lag,avg_timestamp_lag) as features\n",
        "from \n",
        "`{project_id}.{data_set}.{input_table}`\n",
        ")\n",
        "'''\n",
        "\n",
        "query_job=client.query(sql_code)\n",
        "query_job.result()"
      ],
      "execution_count": 35,
      "outputs": [
        {
          "output_type": "execute_result",
          "data": {
            "text/plain": [
              "<google.cloud.bigquery.table._EmptyRowIterator at 0x7fced80e0400>"
            ]
          },
          "metadata": {
            "tags": []
          },
          "execution_count": 35
        }
      ]
    },
    {
      "cell_type": "code",
      "metadata": {
        "colab": {
          "base_uri": "https://localhost:8080/"
        },
        "id": "yFhtZI_WeIfW",
        "outputId": "524540e7-80dd-4d0e-80fa-1756510115fe"
      },
      "source": [
        "# household - training\n",
        "# flat\n",
        "input_table='household_persistence_31features_training'\n",
        "output_table='household_persistence_prd_features_training_flat'\n",
        "\n",
        "sql_code=f'''\n",
        "create table  {data_set}.{output_table} as (\n",
        "select canonical_id,cluster_id,features.label,features.id_type,features.cluster_size,\n",
        "      features.first_seen_timestamp,features.last_seen_timestamp,\n",
        "      features.avg_seen_timestamp,features.num_distinct_sightings,\n",
        "      features.day_quadrant_mode.monday,\n",
        "      features.day_quadrant_mode.tuesday,features.day_quadrant_mode.wednesday,\n",
        "      features.day_quadrant_mode.thursday,features.day_quadrant_mode.friday,\n",
        "      features.day_quadrant_mode.saturday,features.day_quadrant_mode.sunday,\n",
        "      features.min_timestamp_lag,features.max_timestamp_lag,features.avg_timestamp_lag\n",
        "from \n",
        "`{project_id}.{data_set}.{input_table}`\n",
        ")\n",
        "'''\n",
        "\n",
        "query_job=client.query(sql_code)\n",
        "query_job.result()"
      ],
      "execution_count": 25,
      "outputs": [
        {
          "output_type": "execute_result",
          "data": {
            "text/plain": [
              "<google.cloud.bigquery.table._EmptyRowIterator at 0x7fced8138fd0>"
            ]
          },
          "metadata": {
            "tags": []
          },
          "execution_count": 25
        }
      ]
    },
    {
      "cell_type": "code",
      "metadata": {
        "colab": {
          "base_uri": "https://localhost:8080/"
        },
        "id": "HBxgg-hwfejX",
        "outputId": "51c89be9-4d76-49ba-9c3b-f1451f4afec3"
      },
      "source": [
        "# nested\n",
        "input_table='household_persistence_prd_features_training_flat'\n",
        "output_table='household_persistence_prd_features_training'\n",
        "\n",
        "sql_code=f'''\n",
        "create table  {data_set}.{output_table} as (\n",
        "select canonical_id,cluster_id,\n",
        "      struct(\n",
        "      label,id_type,cluster_size,\n",
        "      first_seen_timestamp,last_seen_timestamp,\n",
        "      avg_seen_timestamp,num_distinct_sightings,\n",
        "      monday,tuesday,wednesday,thursday,friday,\n",
        "      saturday,sunday,min_timestamp_lag,max_timestamp_lag,avg_timestamp_lag) as features\n",
        "from \n",
        "`{project_id}.{data_set}.{input_table}`\n",
        ")\n",
        "'''\n",
        "\n",
        "query_job=client.query(sql_code)\n",
        "query_job.result()"
      ],
      "execution_count": 26,
      "outputs": [
        {
          "output_type": "execute_result",
          "data": {
            "text/plain": [
              "<google.cloud.bigquery.table._EmptyRowIterator at 0x7fced80e0668>"
            ]
          },
          "metadata": {
            "tags": []
          },
          "execution_count": 26
        }
      ]
    },
    {
      "cell_type": "code",
      "metadata": {
        "colab": {
          "base_uri": "https://localhost:8080/"
        },
        "id": "c3IB2ECYglG6",
        "outputId": "83322a9f-96b2-421e-cc76-6329de59f150"
      },
      "source": [
        "# household - testing\n",
        "# flat\n",
        "input_table='household_persistence_31features_testing'\n",
        "output_table='household_persistence_prd_features_testing_flat'\n",
        "\n",
        "sql_code=f'''\n",
        "create table  {data_set}.{output_table} as (\n",
        "select canonical_id,cluster_id,features.label,features.id_type,features.cluster_size,\n",
        "      features.first_seen_timestamp,features.last_seen_timestamp,\n",
        "      features.avg_seen_timestamp,features.num_distinct_sightings,\n",
        "      features.day_quadrant_mode.monday,\n",
        "      features.day_quadrant_mode.tuesday,features.day_quadrant_mode.wednesday,\n",
        "      features.day_quadrant_mode.thursday,features.day_quadrant_mode.friday,\n",
        "      features.day_quadrant_mode.saturday,features.day_quadrant_mode.sunday,\n",
        "      features.min_timestamp_lag,features.max_timestamp_lag,features.avg_timestamp_lag\n",
        "from \n",
        "`{project_id}.{data_set}.{input_table}`\n",
        ")\n",
        "'''\n",
        "\n",
        "query_job=client.query(sql_code)\n",
        "query_job.result()"
      ],
      "execution_count": 36,
      "outputs": [
        {
          "output_type": "execute_result",
          "data": {
            "text/plain": [
              "<google.cloud.bigquery.table._EmptyRowIterator at 0x7fced8177710>"
            ]
          },
          "metadata": {
            "tags": []
          },
          "execution_count": 36
        }
      ]
    },
    {
      "cell_type": "code",
      "metadata": {
        "colab": {
          "base_uri": "https://localhost:8080/"
        },
        "id": "yxFM9rlRgmZH",
        "outputId": "55f00a5a-1817-4702-f6d8-2068c560ee76"
      },
      "source": [
        "# nested\n",
        "input_table='household_persistence_prd_features_testing_flat'\n",
        "output_table='household_persistence_prd_features_testing'\n",
        "\n",
        "sql_code=f'''\n",
        "create table  {data_set}.{output_table} as (\n",
        "select canonical_id,cluster_id,\n",
        "      struct(\n",
        "      label,id_type,cluster_size,\n",
        "      first_seen_timestamp,last_seen_timestamp,\n",
        "      avg_seen_timestamp,num_distinct_sightings,\n",
        "      monday,tuesday,wednesday,thursday,friday,\n",
        "      saturday,sunday,min_timestamp_lag,max_timestamp_lag,avg_timestamp_lag) as features\n",
        "from \n",
        "`{project_id}.{data_set}.{input_table}`\n",
        ")\n",
        "'''\n",
        "\n",
        "query_job=client.query(sql_code)\n",
        "query_job.result()"
      ],
      "execution_count": 37,
      "outputs": [
        {
          "output_type": "execute_result",
          "data": {
            "text/plain": [
              "<google.cloud.bigquery.table._EmptyRowIterator at 0x7fced82adf28>"
            ]
          },
          "metadata": {
            "tags": []
          },
          "execution_count": 37
        }
      ]
    },
    {
      "cell_type": "markdown",
      "metadata": {
        "id": "9UKk-pcOeI1f"
      },
      "source": [
        "#### step VI-2: combine the 31 features with the embeddings\n",
        "\n",
        "- step1 : get the location info key and device info key\n",
        "\n",
        "  right join was used here , so th e canonical_id, device_info_key and location_info_key comes from device graph data\n",
        "\n",
        "- step2 : join the embeddings with the other features\n",
        "\n",
        "  use canonical_id , device_info_key and location_info key. \n",
        "\n",
        "- ***NOTE***: the info_key was hashed differently for agg_ table and non agg_ table. Here we use device/location info key from non agg_table so it can be matched to the device graph info key."
      ]
    },
    {
      "cell_type": "code",
      "metadata": {
        "id": "zJDMMtb72xrx"
      },
      "source": [
        "# step1- get the location info and device info key \n",
        "agg_tbl_date='2020-09-30'\n",
        "graph_date='2020-10-06'\n",
        "\n",
        "table='persistence_embedding_device_location_info_extract'\n",
        "\n",
        "sql_code=f'''\n",
        "CREATE table as {data_set}.{table} as (\n",
        "WITH ip_info AS (\n",
        "     SELECT canonical_id,ip_signal.ip_address AS ip_address,\n",
        "     CASE WHEN ip_signal.ip_address IS NULL THEN '#na#'\n",
        "          ELSE SPLIT(REPLACE(ip_signal.ip_address,\":\",\".\"), \".\")[OFFSET(0)] END AS ip_1,\n",
        "     CASE WHEN ip_signal.ip_address IS NULL THEN '#na#'\n",
        "          WHEN ARRAY_LENGTH(SPLIT(REPLACE(ip_signal.ip_address,\":\",\".\"), \".\"))=1 THEN '#na#'\n",
        "          ELSE SPLIT(REPLACE(ip_signal.ip_address,\":\",\".\"), \".\")[OFFSET (1)] end AS ip_2,\n",
        "     CASE WHEN ip_signal.ip_address IS NULL THEN '#na#'\n",
        "          WHEN ARRAY_LENGTH(SPLIT(REPLACE(ip_signal.ip_address,\":\",\".\"), \".\"))<=2 THEN '#na#'\n",
        "          ELSE SPLIT(REPLACE(ip_signal.ip_address,\":\",\".\"), \".\")[OFFSET (2)] end AS ip_3,\n",
        "     CASE WHEN ip_signal.ip_address IS NULL THEN '#na#'\n",
        "          WHEN ARRAY_LENGTH(SPLIT(REPLACE(ip_signal.ip_address,\":\",\".\"), \".\"))<=3 THEN '#na#'\n",
        "          ELSE SPLIT(REPLACE(ip_signal.ip_address,\":\",\".\"), \".\")[OFFSET (3)] end AS ip_4,\n",
        "     from `tapad-identity-stg.dg_internal_us_eep_control.canonicals_ranked_by_tfidf_v001` a\n",
        "     where a._PARTITIONTIME = TIMESTAMP(\"{agg_tbl_date}\") and a.ip_signal.tfidf_rank=1\n",
        "     )\n",
        "SELECT b.device_id AS canonical_id, b.device_info_key,b.location_info_key, \n",
        "       c.ip_address,c.ip_1,c.ip_2,c.ip_3,c.ip_4\n",
        "FROM ip_info c\n",
        "RIGHT JOIN `tapad-identity-stg.dg_internal_us_eep_control.device_graph_v001`b \n",
        "ON b.device_id = c.canonical_id\n",
        "WHERE b._PARTITIONTIME=\"{graph_date}\")\n",
        "\n",
        "'''"
      ],
      "execution_count": 11,
      "outputs": []
    },
    {
      "cell_type": "code",
      "metadata": {
        "id": "mHH98NifuROG"
      },
      "source": [
        "# step2- use canoncial_id, device info key and location info to joing the embeddings with other features\n",
        "\n",
        "agg_tbl_date='2020_09_30'\n",
        "ind_hh='individuals'\n",
        "\n",
        "training_or_testing='testing'\n",
        "ind_hh_prefix='individual'\n",
        "output_table=f'{ind_hh_prefix}_persistence_31features_with_embeddings_{training_or_testing}'\n",
        "\n",
        "\n",
        "sql_code=f'''\n",
        "CREATE TABLE {data_set}.{output_table} as (\n",
        "SELECT\n",
        "  f.canonical_id,\n",
        "  STRUCT (features.label,\n",
        "    features.id_type,\n",
        "    features.cluster_size,\n",
        "    features. num_source_company_ids,\n",
        "    features.first_seen_timestamp,\n",
        "    features.last_seen_timestamp,\n",
        "    features.avg_seen_timestamp,\n",
        "    features.num_distinct_sightings,\n",
        "    features.day_quadrant_mode,\n",
        "    features.min_timestamp_lag,\n",
        "    features.max_timestamp_lag,\n",
        "    features.avg_timestamp_lag,\n",
        "    features.num_hourly_bursts,\n",
        "    features.longest_burst,\n",
        "    features.fraction_most_recent_week,\n",
        "    features.fraction_full_sightings,\n",
        "    features.tfidf_vector,\n",
        "\n",
        "    (\n",
        "    SELECT\n",
        "      AS STRUCT e.* EXCEPT(browser_name_embedding_browser_name)\n",
        "    FROM\n",
        "      `{project_id}.{data_set}.embedding_browser_name_dg5_{agg_tbl_date}_{ind_hh}` e\n",
        "    WHERE\n",
        "      COALESCE(d.device_info.browser_name,\n",
        "        '#na#') = e.browser_name_embedding_browser_name) AS browser_name_embedding,\n",
        "    (\n",
        "    SELECT\n",
        "      AS STRUCT e.* EXCEPT(browser_version_embedding_browser_version)\n",
        "    FROM\n",
        "      `{project_id}.{data_set}.embedding_browser_version_dg5_{agg_tbl_date}_{ind_hh}` e\n",
        "    WHERE\n",
        "      COALESCE(d.device_info.browser_version,\n",
        "        '#na#') = e.browser_version_embedding_browser_version) AS browser_version_embedding,\n",
        "    (\n",
        "    SELECT\n",
        "      AS STRUCT  e.* EXCEPT(carrier_name_embedding_carrier_name)\n",
        "    FROM\n",
        "      `{project_id}.{data_set}.embedding_carrier_name_dg5_{agg_tbl_date}_{ind_hh}` e\n",
        "    WHERE\n",
        "      COALESCE(l.location_info.carrier_name,\n",
        "        '#na#') = e.carrier_name_embedding_carrier_name) AS carrier_name_embedding,\n",
        "    (\n",
        "    SELECT\n",
        "      AS STRUCT e.* EXCEPT(connection_speed_embedding_connection_speed)\n",
        "    FROM\n",
        "      `{project_id}.{data_set}.embedding_connection_speed_dg5_{agg_tbl_date}_{ind_hh}` e\n",
        "    WHERE\n",
        "      COALESCE(l.location_info.connection_speed,\n",
        "        '#na#') = e.connection_speed_embedding_connection_speed) AS connection_speed_embedding,\n",
        "    (\n",
        "    SELECT\n",
        "      AS STRUCT e.* EXCEPT(country_code_embedding_country_code)\n",
        "    FROM\n",
        "      `{project_id}.{data_set}.embedding_country_code_dg5_{agg_tbl_date}_{ind_hh}` e\n",
        "    WHERE\n",
        "      COALESCE(l.location_info.country_code,\n",
        "        '#na#') = e.country_code_embedding_country_code) AS country_code_embedding,\n",
        "    (\n",
        "    SELECT\n",
        "      AS STRUCT e.* EXCEPT(domain_name_embedding_domain_name)\n",
        "    FROM\n",
        "      `{project_id}.{data_set}.embedding_domain_name_dg5_{agg_tbl_date}_{ind_hh}` e\n",
        "    WHERE\n",
        "      COALESCE(l.location_info.domain_name,\n",
        "        '#na#') = e.domain_name_embedding_domain_name) AS domain_name_embedding,\n",
        "    (\n",
        "    SELECT\n",
        "      AS STRUCT e.* EXCEPT(gmt_offset_embedding_gmt_offset)\n",
        "    FROM\n",
        "      `{project_id}.{data_set}.embedding_gmt_offset_dg5_{agg_tbl_date}_{ind_hh}` e\n",
        "    WHERE\n",
        "      COALESCE(CAST(l.location_info.gmt_offset AS STRING),\n",
        "        '#na#') = e.gmt_offset_embedding_gmt_offset) AS gmt_offset_embedding,\n",
        "    (\n",
        "    SELECT\n",
        "      AS STRUCT e.* EXCEPT(id_type_embedding_id_type)\n",
        "    FROM\n",
        "      `{project_id}.{data_set}.embedding_id_type_dg5_{agg_tbl_date}_{ind_hh}` e\n",
        "    WHERE\n",
        "      COALESCE(features.id_type,\n",
        "        '#na#') = e.id_type_embedding_id_type) AS id_type_embedding,\n",
        "    (\n",
        "    SELECT\n",
        "      AS STRUCT  e.* EXCEPT(manufacturer_embedding_manufacturer)\n",
        "    FROM\n",
        "      `{project_id}.{data_set}.embedding_manufacturer_dg5_{agg_tbl_date}_{ind_hh}` e\n",
        "    WHERE\n",
        "      COALESCE(d.device_info.manufacturer,\n",
        "        '#na#') = e.manufacturer_embedding_manufacturer) AS manufacturer_embedding,\n",
        "    (\n",
        "    SELECT\n",
        "      AS STRUCT e.* EXCEPT(marketing_name_embedding_marketing_name)\n",
        "    FROM\n",
        "      `{project_id}.{data_set}.embedding_marketing_name_dg5_{agg_tbl_date}_{ind_hh}` e\n",
        "    WHERE\n",
        "      d.device_info.marketing_name = COALESCE(e.marketing_name_embedding_marketing_name,\n",
        "        '#na#')) AS marketing_name_embedding,\n",
        "    (\n",
        "    SELECT\n",
        "      AS STRUCT e.* EXCEPT(metro_code_embedding_metro_code)\n",
        "    FROM\n",
        "      `{project_id}.{data_set}.embedding_metro_code_dg5_{agg_tbl_date}_{ind_hh}` e\n",
        "    WHERE\n",
        "      COALESCE(l.location_info.metro_code,\n",
        "        '#na#') = e.metro_code_embedding_metro_code) AS metro_code_embedding,\n",
        "    (\n",
        "    SELECT\n",
        "      AS STRUCT * EXCEPT(model_embedding_model)\n",
        "    FROM\n",
        "      `{project_id}.{data_set}.embedding_model_dg5_{agg_tbl_date}_{ind_hh}` e\n",
        "    WHERE\n",
        "      COALESCE(d.device_info.model,\n",
        "        '#na#') = e.model_embedding_model) AS model_embedding,\n",
        "    (\n",
        "    SELECT\n",
        "      AS STRUCT e.* EXCEPT(os_name_embedding_os_name)\n",
        "    FROM\n",
        "      `{project_id}.{data_set}.embedding_os_name_dg5_{agg_tbl_date}_{ind_hh}` e\n",
        "    WHERE\n",
        "      COALESCE(d.device_info.os_name,\n",
        "        '#na#') = e.os_name_embedding_os_name) AS os_name_embedding,\n",
        "    (\n",
        "    SELECT\n",
        "      AS STRUCT e.* EXCEPT(postal_code_embedding_postal_code)\n",
        "    FROM\n",
        "      `{project_id}.{data_set}.embedding_postal_code_dg5_{agg_tbl_date}_{ind_hh}` e\n",
        "    WHERE\n",
        "      COALESCE(l.location_info.postal_code,\n",
        "        '#na#') = e.postal_code_embedding_postal_code) AS postal_code_embedding,\n",
        "    (\n",
        "    SELECT\n",
        "      AS STRUCT e.* EXCEPT(region_code_embedding_region_code)\n",
        "    FROM\n",
        "      `{project_id}.{data_set}.embedding_region_code_dg5_{agg_tbl_date}_{ind_hh}` e\n",
        "    WHERE\n",
        "      COALESCE(l.location_info.region_code,\n",
        "        '#na#') = e.region_code_embedding_region_code) AS region_code_embedding,\n",
        "    (\n",
        "    SELECT\n",
        "      AS STRUCT e.* EXCEPT(vendor_embedding_vendor)\n",
        "    FROM\n",
        "      `{project_id}.{data_set}.embedding_vendor_dg5_{agg_tbl_date}_{ind_hh}` e\n",
        "    WHERE\n",
        "      COALESCE(d.device_info.vendor,\n",
        "        '#na#') = e.vendor_embedding_vendor) AS vendor_embedding,\n",
        "    (\n",
        "    SELECT\n",
        "      AS STRUCT e.* EXCEPT(ip_1_embedding_ip_1)\n",
        "    FROM\n",
        "      `{project_id}.{data_set}.embedding_ip_1_dg5_{agg_tbl_date}_{ind_hh}` e\n",
        "    WHERE\n",
        "      k.ip_1 = e.ip_1_embedding_ip_1) AS ip_1_embedding,\n",
        "    (\n",
        "    SELECT\n",
        "      AS STRUCT e.* EXCEPT(ip_2_embedding_ip_2)\n",
        "    FROM\n",
        "      `{project_id}.{data_set}.embedding_ip_2_dg5_{agg_tbl_date}_{ind_hh}` e\n",
        "    WHERE\n",
        "      k.ip_2 = e.ip_2_embedding_ip_2) AS ip_2_embedding,\n",
        "    (\n",
        "    SELECT\n",
        "      AS STRUCT e.* EXCEPT(ip_3_embedding_ip_3)\n",
        "    FROM\n",
        "      `{project_id}.{data_set}.embedding_ip_3_dg5_{agg_tbl_date}_{ind_hh}` e\n",
        "    WHERE\n",
        "      k.ip_3 = e.ip_3_embedding_ip_3) AS ip_3_embedding,\n",
        "    (\n",
        "    SELECT\n",
        "      AS STRUCT e.* EXCEPT(ip_4_embedding_ip_4)\n",
        "    FROM\n",
        "      `{project_id}.{data_set}.embedding_ip_4_dg5_{agg_tbl_date}_{ind_hh}` e\n",
        "    WHERE\n",
        "      k.ip_4 = e.ip_4_embedding_ip_4) AS ip_4_embedding) AS features\n",
        "FROM\n",
        "  `{project_id}.{data_set}.{ind_hh_prefix}_persistence_31features_{training_or_testing}` f\n",
        "JOIN\n",
        "  `{project_id}.{data_set}.persistence_embedding_device_location_info_extract` k\n",
        "ON\n",
        "  f.canonical_id = k.canonical_id\n",
        "JOIN\n",
        "  `tapad-identity-stg.dg_internal_us_eep_control.device_info_v001` d\n",
        "ON\n",
        "  d._PARTITIONTIME = TIMESTAMP(\"{graph_date}\")\n",
        "  AND k.device_info_key = d.device_info_key\n",
        "JOIN\n",
        "  `tapad-identity-stg.dg_internal_us_eep_control.location_info_v001` l\n",
        "ON\n",
        "  l._PARTITIONTIME = TIMESTAMP(\"{graph_date}\")\n",
        "  AND k.location_info_key = l.location_info_key\n",
        ")\n",
        "'''"
      ],
      "execution_count": 31,
      "outputs": []
    },
    {
      "cell_type": "code",
      "metadata": {
        "colab": {
          "base_uri": "https://localhost:8080/"
        },
        "id": "Vg7NNzxTuaxU",
        "outputId": "77bf07a9-8de9-46d8-c7b9-6971ef0472c3"
      },
      "source": [
        "query_job=client.query(sql_code)\n",
        "query_job.result()"
      ],
      "execution_count": 32,
      "outputs": [
        {
          "output_type": "execute_result",
          "data": {
            "text/plain": [
              "<google.cloud.bigquery.table._EmptyRowIterator at 0x7fc35a286438>"
            ]
          },
          "metadata": {
            "tags": []
          },
          "execution_count": 32
        }
      ]
    },
    {
      "cell_type": "markdown",
      "metadata": {
        "id": "PszyZgnW2qAz"
      },
      "source": [
        "###Step V:  BQML with the optimal hyperparemters\n"
      ]
    },
    {
      "cell_type": "markdown",
      "metadata": {
        "id": "iRnrkvP430s3"
      },
      "source": [
        "####Step V-1:  flatten the table\n",
        "unnest table - for the hyperparameter training\n",
        "\n",
        "the training was conducted using local jupter notebook and the gcloud notebook. Before we started the training, the data were flattened first, exported to gcs as .csv file, and the notebook read data from gcs. \n",
        "\n"
      ]
    },
    {
      "cell_type": "code",
      "metadata": {
        "id": "Jt7ebtpZ4aD2"
      },
      "source": [
        "# condition 1\n",
        "input_table='individual_persistence_31features_training'\n",
        "output_table='individual_persistence_31features_training_flat'\n",
        "flatten_table(input_table,output_table)\n",
        "\n",
        "input_table='household_persistence_31features_training'\n",
        "output_table='household_persistence_31features_training_flat'\n",
        "flatten_table(input_table,output_table)\n",
        "\n"
      ],
      "execution_count": null,
      "outputs": []
    },
    {
      "cell_type": "code",
      "metadata": {
        "id": "iXtlPu3dzk3v"
      },
      "source": [
        ""
      ],
      "execution_count": null,
      "outputs": []
    },
    {
      "cell_type": "code",
      "metadata": {
        "id": "hKlCtGHkygo0"
      },
      "source": [
        "#condition 3\n",
        "input_table='individual_persistence_31features_with_embeddings_training'\n",
        "output_table='individual_persistence_31features_with_embeddings_training_flat'\n",
        "flatten_table(input_table,output_table)\n",
        "\n",
        "input_table='household_persistence_31features_with_embeddings_training'\n",
        "output_table='household_persistence_31features_with_embeddings_training_flat'\n",
        "flatten_table(input_table,output_table)"
      ],
      "execution_count": null,
      "outputs": []
    },
    {
      "cell_type": "markdown",
      "metadata": {
        "id": "nHdG5ps-4bQD"
      },
      "source": [
        "#### Step V-2: train model with the optimal hyperparameters\n",
        "\n",
        "***NOTE***: The following script can be run in notebook directly.\n"
      ]
    },
    {
      "cell_type": "markdown",
      "metadata": {
        "id": "yMqUrtQwL2zl"
      },
      "source": [
        "Condition 1.1 : \n",
        "- features : 31 features \n",
        "- individual\n",
        "\n",
        "\n"
      ]
    },
    {
      "cell_type": "code",
      "metadata": {
        "colab": {
          "base_uri": "https://localhost:8080/",
          "height": 142
        },
        "id": "L4f0GfohsYPm",
        "outputId": "a7bf5e55-2b89-410a-ab56-e3f5fa365364"
      },
      "source": [
        "# input table\n",
        "table='individual_persistence_31features_testing'\n",
        "# create a our model name\n",
        "model_name='individual_persistence_31features_training_model'\n",
        "\n",
        "# hyperparameters\n",
        "res=run_bqml(max_tree_depth=10,learn_rate=0.126)\n",
        "res"
      ],
      "execution_count": 9,
      "outputs": [
        {
          "output_type": "execute_result",
          "data": {
            "application/vnd.google.colaboratory.module+javascript": "\n      import \"https://ssl.gstatic.com/colaboratory/data_table/a6224c040fa35dcf/data_table.js\";\n\n      window.createDataTable({\n        data: [[{\n            'v': 0,\n            'f': \"0\",\n        },\n{\n            'v': 0.717,\n            'f': \"0.717\",\n        },\n{\n            'v': 0.626,\n            'f': \"0.626\",\n        },\n{\n            'v': 0.75,\n            'f': \"0.75\",\n        },\n{\n            'v': 0.668,\n            'f': \"0.668\",\n        },\n{\n            'v': 0.511,\n            'f': \"0.511\",\n        },\n{\n            'v': 0.825,\n            'f': \"0.825\",\n        },\n\"individual_persistence_31features_training_model\",\n{\n            'v': 544.604,\n            'f': \"544.604\",\n        },\n\"0.0h 9.0min 5.0s\"]],\n        columns: [[\"number\", \"index\"], [\"number\", \"precision\"], [\"number\", \"recall\"], [\"number\", \"accuracy\"], [\"number\", \"f1_score\"], [\"number\", \"log_loss\"], [\"number\", \"roc_auc\"], [\"string\", \"model_name\"], [\"number\", \"time_sec\"], [\"string\", \"time\"]],\n        columnOptions: [{\"width\": \"1px\", \"className\": \"index_column\"}],\n        rowsPerPage: 25,\n        helpUrl: \"https://colab.research.google.com/notebooks/data_table.ipynb\",\n        suppressOutputScrolling: true,\n        minimumWidth: undefined,\n      });\n    ",
            "text/html": [
              "<div>\n",
              "<style scoped>\n",
              "    .dataframe tbody tr th:only-of-type {\n",
              "        vertical-align: middle;\n",
              "    }\n",
              "\n",
              "    .dataframe tbody tr th {\n",
              "        vertical-align: top;\n",
              "    }\n",
              "\n",
              "    .dataframe thead th {\n",
              "        text-align: right;\n",
              "    }\n",
              "</style>\n",
              "<table border=\"1\" class=\"dataframe\">\n",
              "  <thead>\n",
              "    <tr style=\"text-align: right;\">\n",
              "      <th></th>\n",
              "      <th>precision</th>\n",
              "      <th>recall</th>\n",
              "      <th>accuracy</th>\n",
              "      <th>f1_score</th>\n",
              "      <th>log_loss</th>\n",
              "      <th>roc_auc</th>\n",
              "      <th>model_name</th>\n",
              "      <th>time_sec</th>\n",
              "      <th>time</th>\n",
              "    </tr>\n",
              "  </thead>\n",
              "  <tbody>\n",
              "    <tr>\n",
              "      <th>0</th>\n",
              "      <td>0.717</td>\n",
              "      <td>0.626</td>\n",
              "      <td>0.75</td>\n",
              "      <td>0.668</td>\n",
              "      <td>0.511</td>\n",
              "      <td>0.825</td>\n",
              "      <td>individual_persistence_31features_training_model</td>\n",
              "      <td>544.604</td>\n",
              "      <td>0.0h 9.0min 5.0s</td>\n",
              "    </tr>\n",
              "  </tbody>\n",
              "</table>\n",
              "</div>"
            ],
            "text/plain": [
              "   precision  recall  ...  time_sec              time\n",
              "0      0.717   0.626  ...   544.604  0.0h 9.0min 5.0s\n",
              "\n",
              "[1 rows x 9 columns]"
            ]
          },
          "metadata": {
            "tags": []
          },
          "execution_count": 9
        }
      ]
    },
    {
      "cell_type": "markdown",
      "metadata": {
        "id": "sHx0LqQNL1fz"
      },
      "source": [
        "Condition 1.2 : \n",
        "- features : 31 features \n",
        "- household"
      ]
    },
    {
      "cell_type": "code",
      "metadata": {
        "colab": {
          "base_uri": "https://localhost:8080/",
          "height": 142
        },
        "id": "xIEfbklr1buA",
        "outputId": "6864a5a6-30fb-4f69-8fc3-ec43a3b5b93c"
      },
      "source": [
        "#  input table\n",
        "table='household_persistence_31features_testing'\n",
        "# create a our model name\n",
        "model_name='household_persistence_31features_training_model'\n",
        "\n",
        "# hyperparameters\n",
        "res=run_bqml(max_tree_depth=12,learn_rate=0.061)\n",
        "res"
      ],
      "execution_count": 9,
      "outputs": [
        {
          "output_type": "execute_result",
          "data": {
            "application/vnd.google.colaboratory.module+javascript": "\n      import \"https://ssl.gstatic.com/colaboratory/data_table/a6224c040fa35dcf/data_table.js\";\n\n      window.createDataTable({\n        data: [[{\n            'v': 0,\n            'f': \"0\",\n        },\n{\n            'v': 0.792,\n            'f': \"0.792\",\n        },\n{\n            'v': 0.623,\n            'f': \"0.623\",\n        },\n{\n            'v': 0.79,\n            'f': \"0.79\",\n        },\n{\n            'v': 0.697,\n            'f': \"0.697\",\n        },\n{\n            'v': 0.461,\n            'f': \"0.461\",\n        },\n{\n            'v': 0.881,\n            'f': \"0.881\",\n        },\n\"household_persistence_31features_training_model\",\n{\n            'v': 1034.112,\n            'f': \"1034.112\",\n        },\n\"0.0h 17.0min 14.0s\"]],\n        columns: [[\"number\", \"index\"], [\"number\", \"precision\"], [\"number\", \"recall\"], [\"number\", \"accuracy\"], [\"number\", \"f1_score\"], [\"number\", \"log_loss\"], [\"number\", \"roc_auc\"], [\"string\", \"model_name\"], [\"number\", \"time_sec\"], [\"string\", \"time\"]],\n        columnOptions: [{\"width\": \"1px\", \"className\": \"index_column\"}],\n        rowsPerPage: 25,\n        helpUrl: \"https://colab.research.google.com/notebooks/data_table.ipynb\",\n        suppressOutputScrolling: true,\n        minimumWidth: undefined,\n      });\n    ",
            "text/html": [
              "<div>\n",
              "<style scoped>\n",
              "    .dataframe tbody tr th:only-of-type {\n",
              "        vertical-align: middle;\n",
              "    }\n",
              "\n",
              "    .dataframe tbody tr th {\n",
              "        vertical-align: top;\n",
              "    }\n",
              "\n",
              "    .dataframe thead th {\n",
              "        text-align: right;\n",
              "    }\n",
              "</style>\n",
              "<table border=\"1\" class=\"dataframe\">\n",
              "  <thead>\n",
              "    <tr style=\"text-align: right;\">\n",
              "      <th></th>\n",
              "      <th>precision</th>\n",
              "      <th>recall</th>\n",
              "      <th>accuracy</th>\n",
              "      <th>f1_score</th>\n",
              "      <th>log_loss</th>\n",
              "      <th>roc_auc</th>\n",
              "      <th>model_name</th>\n",
              "      <th>time_sec</th>\n",
              "      <th>time</th>\n",
              "    </tr>\n",
              "  </thead>\n",
              "  <tbody>\n",
              "    <tr>\n",
              "      <th>0</th>\n",
              "      <td>0.792</td>\n",
              "      <td>0.623</td>\n",
              "      <td>0.79</td>\n",
              "      <td>0.697</td>\n",
              "      <td>0.461</td>\n",
              "      <td>0.881</td>\n",
              "      <td>household_persistence_31features_training_model</td>\n",
              "      <td>1034.112</td>\n",
              "      <td>0.0h 17.0min 14.0s</td>\n",
              "    </tr>\n",
              "  </tbody>\n",
              "</table>\n",
              "</div>"
            ],
            "text/plain": [
              "   precision  recall  ...  time_sec                time\n",
              "0      0.792   0.623  ...  1034.112  0.0h 17.0min 14.0s\n",
              "\n",
              "[1 rows x 9 columns]"
            ]
          },
          "metadata": {
            "tags": []
          },
          "execution_count": 9
        }
      ]
    },
    {
      "cell_type": "markdown",
      "metadata": {
        "id": "JkTyMSFNJIBS"
      },
      "source": [
        "Condition 2.1 : \n",
        "- features : prd\n",
        "- individual"
      ]
    },
    {
      "cell_type": "code",
      "metadata": {
        "colab": {
          "base_uri": "https://localhost:8080/",
          "height": 110
        },
        "id": "fwGOU_dGeV8q",
        "outputId": "9696556b-c59a-45f0-b293-e99b0bb6476e"
      },
      "source": [
        "#  input table\n",
        "table='individual_persistence_prd_features_testing'\n",
        "# create a our model name\n",
        "model_name='individual_persistence_prd_training_model'\n",
        "\n",
        "# hyperparameters\n",
        "res=run_bqml(table=table,model_name=model_name,max_tree_depth=9,learn_rate=0.082)\n",
        "res"
      ],
      "execution_count": 38,
      "outputs": [
        {
          "output_type": "execute_result",
          "data": {
            "application/vnd.google.colaboratory.module+javascript": "\n      import \"https://ssl.gstatic.com/colaboratory/data_table/a6224c040fa35dcf/data_table.js\";\n\n      window.createDataTable({\n        data: [[{\n            'v': 0,\n            'f': \"0\",\n        },\n{\n            'v': 0.681,\n            'f': \"0.681\",\n        },\n{\n            'v': 0.548,\n            'f': \"0.548\",\n        },\n{\n            'v': 0.722,\n            'f': \"0.722\",\n        },\n{\n            'v': 0.608,\n            'f': \"0.608\",\n        },\n{\n            'v': 0.569,\n            'f': \"0.569\",\n        },\n{\n            'v': 0.774,\n            'f': \"0.774\",\n        },\n\"individual_persistence_prd_training_model\",\n{\n            'v': 391.067,\n            'f': \"391.067\",\n        },\n\"0.0h 6.0min 31.0s\"]],\n        columns: [[\"number\", \"index\"], [\"number\", \"precision\"], [\"number\", \"recall\"], [\"number\", \"accuracy\"], [\"number\", \"f1_score\"], [\"number\", \"log_loss\"], [\"number\", \"roc_auc\"], [\"string\", \"model_name\"], [\"number\", \"time_sec\"], [\"string\", \"time\"]],\n        columnOptions: [{\"width\": \"1px\", \"className\": \"index_column\"}],\n        rowsPerPage: 25,\n        helpUrl: \"https://colab.research.google.com/notebooks/data_table.ipynb\",\n        suppressOutputScrolling: true,\n        minimumWidth: undefined,\n      });\n    ",
            "text/html": [
              "<div>\n",
              "<style scoped>\n",
              "    .dataframe tbody tr th:only-of-type {\n",
              "        vertical-align: middle;\n",
              "    }\n",
              "\n",
              "    .dataframe tbody tr th {\n",
              "        vertical-align: top;\n",
              "    }\n",
              "\n",
              "    .dataframe thead th {\n",
              "        text-align: right;\n",
              "    }\n",
              "</style>\n",
              "<table border=\"1\" class=\"dataframe\">\n",
              "  <thead>\n",
              "    <tr style=\"text-align: right;\">\n",
              "      <th></th>\n",
              "      <th>precision</th>\n",
              "      <th>recall</th>\n",
              "      <th>accuracy</th>\n",
              "      <th>f1_score</th>\n",
              "      <th>log_loss</th>\n",
              "      <th>roc_auc</th>\n",
              "      <th>model_name</th>\n",
              "      <th>time_sec</th>\n",
              "      <th>time</th>\n",
              "    </tr>\n",
              "  </thead>\n",
              "  <tbody>\n",
              "    <tr>\n",
              "      <th>0</th>\n",
              "      <td>0.681</td>\n",
              "      <td>0.548</td>\n",
              "      <td>0.722</td>\n",
              "      <td>0.608</td>\n",
              "      <td>0.569</td>\n",
              "      <td>0.774</td>\n",
              "      <td>individual_persistence_prd_training_model</td>\n",
              "      <td>391.067</td>\n",
              "      <td>0.0h 6.0min 31.0s</td>\n",
              "    </tr>\n",
              "  </tbody>\n",
              "</table>\n",
              "</div>"
            ],
            "text/plain": [
              "   precision  recall  ...  time_sec               time\n",
              "0      0.681   0.548  ...   391.067  0.0h 6.0min 31.0s\n",
              "\n",
              "[1 rows x 9 columns]"
            ]
          },
          "metadata": {
            "tags": []
          },
          "execution_count": 38
        }
      ]
    },
    {
      "cell_type": "markdown",
      "metadata": {
        "id": "JbwJIVSIDE4h"
      },
      "source": [
        "Condition 2.2 : \n",
        "- features : prd\n",
        "- household"
      ]
    },
    {
      "cell_type": "code",
      "metadata": {
        "colab": {
          "base_uri": "https://localhost:8080/",
          "height": 110
        },
        "id": "Qft2S4xHtgIH",
        "outputId": "5896c006-e95d-431e-88d5-2e8d8417715d"
      },
      "source": [
        "# input table\n",
        "table='household_persistence_prd_features_testing'\n",
        "# create a our model name\n",
        "model_name='hh_persistence_prd_training_model'\n",
        "\n",
        "# hyperparameters\n",
        "res=run_bqml(table=table,model_name=model_name,max_tree_depth=10,learn_rate=0.097)\n",
        "res"
      ],
      "execution_count": 42,
      "outputs": [
        {
          "output_type": "execute_result",
          "data": {
            "application/vnd.google.colaboratory.module+javascript": "\n      import \"https://ssl.gstatic.com/colaboratory/data_table/a6224c040fa35dcf/data_table.js\";\n\n      window.createDataTable({\n        data: [[{\n            'v': 0,\n            'f': \"0\",\n        },\n{\n            'v': 0.789,\n            'f': \"0.789\",\n        },\n{\n            'v': 0.465,\n            'f': \"0.465\",\n        },\n{\n            'v': 0.746,\n            'f': \"0.746\",\n        },\n{\n            'v': 0.585,\n            'f': \"0.585\",\n        },\n{\n            'v': 0.54,\n            'f': \"0.54\",\n        },\n{\n            'v': 0.787,\n            'f': \"0.787\",\n        },\n\"hh_persistence_prd_training_model\",\n{\n            'v': 465.347,\n            'f': \"465.347\",\n        },\n\"0.0h 7.0min 45.0s\"]],\n        columns: [[\"number\", \"index\"], [\"number\", \"precision\"], [\"number\", \"recall\"], [\"number\", \"accuracy\"], [\"number\", \"f1_score\"], [\"number\", \"log_loss\"], [\"number\", \"roc_auc\"], [\"string\", \"model_name\"], [\"number\", \"time_sec\"], [\"string\", \"time\"]],\n        columnOptions: [{\"width\": \"1px\", \"className\": \"index_column\"}],\n        rowsPerPage: 25,\n        helpUrl: \"https://colab.research.google.com/notebooks/data_table.ipynb\",\n        suppressOutputScrolling: true,\n        minimumWidth: undefined,\n      });\n    ",
            "text/html": [
              "<div>\n",
              "<style scoped>\n",
              "    .dataframe tbody tr th:only-of-type {\n",
              "        vertical-align: middle;\n",
              "    }\n",
              "\n",
              "    .dataframe tbody tr th {\n",
              "        vertical-align: top;\n",
              "    }\n",
              "\n",
              "    .dataframe thead th {\n",
              "        text-align: right;\n",
              "    }\n",
              "</style>\n",
              "<table border=\"1\" class=\"dataframe\">\n",
              "  <thead>\n",
              "    <tr style=\"text-align: right;\">\n",
              "      <th></th>\n",
              "      <th>precision</th>\n",
              "      <th>recall</th>\n",
              "      <th>accuracy</th>\n",
              "      <th>f1_score</th>\n",
              "      <th>log_loss</th>\n",
              "      <th>roc_auc</th>\n",
              "      <th>model_name</th>\n",
              "      <th>time_sec</th>\n",
              "      <th>time</th>\n",
              "    </tr>\n",
              "  </thead>\n",
              "  <tbody>\n",
              "    <tr>\n",
              "      <th>0</th>\n",
              "      <td>0.789</td>\n",
              "      <td>0.465</td>\n",
              "      <td>0.746</td>\n",
              "      <td>0.585</td>\n",
              "      <td>0.54</td>\n",
              "      <td>0.787</td>\n",
              "      <td>hh_persistence_prd_training_model</td>\n",
              "      <td>465.347</td>\n",
              "      <td>0.0h 7.0min 45.0s</td>\n",
              "    </tr>\n",
              "  </tbody>\n",
              "</table>\n",
              "</div>"
            ],
            "text/plain": [
              "   precision  recall  ...  time_sec               time\n",
              "0      0.789   0.465  ...   465.347  0.0h 7.0min 45.0s\n",
              "\n",
              "[1 rows x 9 columns]"
            ]
          },
          "metadata": {
            "tags": []
          },
          "execution_count": 42
        }
      ]
    },
    {
      "cell_type": "markdown",
      "metadata": {
        "id": "6Jbb7X2iLktM"
      },
      "source": [
        "Condition 3.1 : \n",
        "- features : 31 features with embeddings\n",
        "- individual"
      ]
    },
    {
      "cell_type": "code",
      "metadata": {
        "colab": {
          "base_uri": "https://localhost:8080/",
          "height": 142
        },
        "id": "c6_SlvrMk6ym",
        "outputId": "04a57c74-18d2-4f5d-de97-a28c8e5319db"
      },
      "source": [
        "# input table\n",
        "table='individual_persistence_31features_with_embeddings_testing'\n",
        "# create a our model name\n",
        "model_name='individual_persistence_31features_with_embeddings_training_model'\n",
        "\n",
        "# hyperparameters\n",
        "res=run_bqml(table=table,model_name=model_name,max_tree_depth=11,learn_rate=0.118)\n",
        "res"
      ],
      "execution_count": 34,
      "outputs": [
        {
          "output_type": "execute_result",
          "data": {
            "application/vnd.google.colaboratory.module+javascript": "\n      import \"https://ssl.gstatic.com/colaboratory/data_table/a6224c040fa35dcf/data_table.js\";\n\n      window.createDataTable({\n        data: [[{\n            'v': 0,\n            'f': \"0\",\n        },\n{\n            'v': 0.74,\n            'f': \"0.74\",\n        },\n{\n            'v': 0.647,\n            'f': \"0.647\",\n        },\n{\n            'v': 0.775,\n            'f': \"0.775\",\n        },\n{\n            'v': 0.69,\n            'f': \"0.69\",\n        },\n{\n            'v': 0.475,\n            'f': \"0.475\",\n        },\n{\n            'v': 0.852,\n            'f': \"0.852\",\n        },\n\"individual_persistence_31features_with_embeddings_training_model\",\n{\n            'v': 3515.836,\n            'f': \"3515.836\",\n        },\n\"0.0h 58.0min 36.0s\"]],\n        columns: [[\"number\", \"index\"], [\"number\", \"precision\"], [\"number\", \"recall\"], [\"number\", \"accuracy\"], [\"number\", \"f1_score\"], [\"number\", \"log_loss\"], [\"number\", \"roc_auc\"], [\"string\", \"model_name\"], [\"number\", \"time_sec\"], [\"string\", \"time\"]],\n        columnOptions: [{\"width\": \"1px\", \"className\": \"index_column\"}],\n        rowsPerPage: 25,\n        helpUrl: \"https://colab.research.google.com/notebooks/data_table.ipynb\",\n        suppressOutputScrolling: true,\n        minimumWidth: undefined,\n      });\n    ",
            "text/html": [
              "<div>\n",
              "<style scoped>\n",
              "    .dataframe tbody tr th:only-of-type {\n",
              "        vertical-align: middle;\n",
              "    }\n",
              "\n",
              "    .dataframe tbody tr th {\n",
              "        vertical-align: top;\n",
              "    }\n",
              "\n",
              "    .dataframe thead th {\n",
              "        text-align: right;\n",
              "    }\n",
              "</style>\n",
              "<table border=\"1\" class=\"dataframe\">\n",
              "  <thead>\n",
              "    <tr style=\"text-align: right;\">\n",
              "      <th></th>\n",
              "      <th>precision</th>\n",
              "      <th>recall</th>\n",
              "      <th>accuracy</th>\n",
              "      <th>f1_score</th>\n",
              "      <th>log_loss</th>\n",
              "      <th>roc_auc</th>\n",
              "      <th>model_name</th>\n",
              "      <th>time_sec</th>\n",
              "      <th>time</th>\n",
              "    </tr>\n",
              "  </thead>\n",
              "  <tbody>\n",
              "    <tr>\n",
              "      <th>0</th>\n",
              "      <td>0.74</td>\n",
              "      <td>0.647</td>\n",
              "      <td>0.775</td>\n",
              "      <td>0.69</td>\n",
              "      <td>0.475</td>\n",
              "      <td>0.852</td>\n",
              "      <td>individual_persistence_31features_with_embeddi...</td>\n",
              "      <td>3515.836</td>\n",
              "      <td>0.0h 58.0min 36.0s</td>\n",
              "    </tr>\n",
              "  </tbody>\n",
              "</table>\n",
              "</div>"
            ],
            "text/plain": [
              "   precision  recall  ...  time_sec                time\n",
              "0       0.74   0.647  ...  3515.836  0.0h 58.0min 36.0s\n",
              "\n",
              "[1 rows x 9 columns]"
            ]
          },
          "metadata": {
            "tags": []
          },
          "execution_count": 34
        }
      ]
    },
    {
      "cell_type": "markdown",
      "metadata": {
        "id": "8jwPwy1bLvwZ"
      },
      "source": [
        "Condition 3.2 : \n",
        "- features : 31 features with embeddings\n",
        "- household"
      ]
    },
    {
      "cell_type": "code",
      "metadata": {
        "colab": {
          "base_uri": "https://localhost:8080/",
          "height": 142
        },
        "id": "eJ5YYpf_nOLx",
        "outputId": "745e86ce-8430-44c4-9315-ff4c598816ff"
      },
      "source": [
        "# input table\n",
        "table='household_persistence_31features_with_embeddings_testing'\n",
        "# create a our model name\n",
        "model_name='household_persistence_31features_with_embeddings_training_model'\n",
        "\n",
        "# hyperparameters\n",
        "res=run_bqml(table=table,model_name=model_name,max_tree_depth=14,learn_rate=0.079)\n",
        "res"
      ],
      "execution_count": 44,
      "outputs": [
        {
          "output_type": "execute_result",
          "data": {
            "application/vnd.google.colaboratory.module+javascript": "\n      import \"https://ssl.gstatic.com/colaboratory/data_table/a6224c040fa35dcf/data_table.js\";\n\n      window.createDataTable({\n        data: [[{\n            'v': 0,\n            'f': \"0\",\n        },\n{\n            'v': 0.804,\n            'f': \"0.804\",\n        },\n{\n            'v': 0.64,\n            'f': \"0.64\",\n        },\n{\n            'v': 0.802,\n            'f': \"0.802\",\n        },\n{\n            'v': 0.713,\n            'f': \"0.713\",\n        },\n{\n            'v': 0.42,\n            'f': \"0.42\",\n        },\n{\n            'v': 0.892,\n            'f': \"0.892\",\n        },\n\"household_persistence_31features_with_embeddings_training_model\",\n{\n            'v': 5916.106,\n            'f': \"5916.106\",\n        },\n\"1.0h 38.0min 36.0s\"]],\n        columns: [[\"number\", \"index\"], [\"number\", \"precision\"], [\"number\", \"recall\"], [\"number\", \"accuracy\"], [\"number\", \"f1_score\"], [\"number\", \"log_loss\"], [\"number\", \"roc_auc\"], [\"string\", \"model_name\"], [\"number\", \"time_sec\"], [\"string\", \"time\"]],\n        columnOptions: [{\"width\": \"1px\", \"className\": \"index_column\"}],\n        rowsPerPage: 25,\n        helpUrl: \"https://colab.research.google.com/notebooks/data_table.ipynb\",\n        suppressOutputScrolling: true,\n        minimumWidth: undefined,\n      });\n    ",
            "text/html": [
              "<div>\n",
              "<style scoped>\n",
              "    .dataframe tbody tr th:only-of-type {\n",
              "        vertical-align: middle;\n",
              "    }\n",
              "\n",
              "    .dataframe tbody tr th {\n",
              "        vertical-align: top;\n",
              "    }\n",
              "\n",
              "    .dataframe thead th {\n",
              "        text-align: right;\n",
              "    }\n",
              "</style>\n",
              "<table border=\"1\" class=\"dataframe\">\n",
              "  <thead>\n",
              "    <tr style=\"text-align: right;\">\n",
              "      <th></th>\n",
              "      <th>precision</th>\n",
              "      <th>recall</th>\n",
              "      <th>accuracy</th>\n",
              "      <th>f1_score</th>\n",
              "      <th>log_loss</th>\n",
              "      <th>roc_auc</th>\n",
              "      <th>model_name</th>\n",
              "      <th>time_sec</th>\n",
              "      <th>time</th>\n",
              "    </tr>\n",
              "  </thead>\n",
              "  <tbody>\n",
              "    <tr>\n",
              "      <th>0</th>\n",
              "      <td>0.804</td>\n",
              "      <td>0.64</td>\n",
              "      <td>0.802</td>\n",
              "      <td>0.713</td>\n",
              "      <td>0.42</td>\n",
              "      <td>0.892</td>\n",
              "      <td>household_persistence_31features_with_embeddin...</td>\n",
              "      <td>5916.106</td>\n",
              "      <td>1.0h 38.0min 36.0s</td>\n",
              "    </tr>\n",
              "  </tbody>\n",
              "</table>\n",
              "</div>"
            ],
            "text/plain": [
              "   precision  recall  ...  time_sec                time\n",
              "0      0.804    0.64  ...  5916.106  1.0h 38.0min 36.0s\n",
              "\n",
              "[1 rows x 9 columns]"
            ]
          },
          "metadata": {
            "tags": []
          },
          "execution_count": 44
        }
      ]
    },
    {
      "cell_type": "markdown",
      "metadata": {
        "id": "sHanvM8h9q-d"
      },
      "source": [
        "Condition 4.1 :\n",
        "- features : top 100 features among the 31 features with embeddings\n",
        "- individual"
      ]
    },
    {
      "cell_type": "code",
      "metadata": {
        "colab": {
          "base_uri": "https://localhost:8080/",
          "height": 142
        },
        "id": "uDqEey0o5qsY",
        "outputId": "48c9c271-d35d-40fb-fe50-9ecd2de0660e"
      },
      "source": [
        "# apply model on the training data with the optimal hyperparameter \n",
        "# input table\n",
        "table='individual_persistence_31features_with_embeddings_training'\n",
        "# create a our model name\n",
        "model_name='individual_persistence_31features_with_embeddings_training_model_feature_selection_prepare'\n",
        "\n",
        "res=run_bqml(table=table,model_name=model_name,max_tree_depth=11,learn_rate=0.118)\n",
        "res"
      ],
      "execution_count": 37,
      "outputs": [
        {
          "output_type": "execute_result",
          "data": {
            "application/vnd.google.colaboratory.module+javascript": "\n      import \"https://ssl.gstatic.com/colaboratory/data_table/a6224c040fa35dcf/data_table.js\";\n\n      window.createDataTable({\n        data: [[{\n            'v': 0,\n            'f': \"0\",\n        },\n{\n            'v': 0.745,\n            'f': \"0.745\",\n        },\n{\n            'v': 0.662,\n            'f': \"0.662\",\n        },\n{\n            'v': 0.775,\n            'f': \"0.775\",\n        },\n{\n            'v': 0.701,\n            'f': \"0.701\",\n        },\n{\n            'v': 0.477,\n            'f': \"0.477\",\n        },\n{\n            'v': 0.853,\n            'f': \"0.853\",\n        },\n\"individual_persistence_31features_with_embeddings_training_model_feature_selection_prepare\",\n{\n            'v': 6767.889,\n            'f': \"6767.889\",\n        },\n\"1.0h 52.0min 48.0s\"]],\n        columns: [[\"number\", \"index\"], [\"number\", \"precision\"], [\"number\", \"recall\"], [\"number\", \"accuracy\"], [\"number\", \"f1_score\"], [\"number\", \"log_loss\"], [\"number\", \"roc_auc\"], [\"string\", \"model_name\"], [\"number\", \"time_sec\"], [\"string\", \"time\"]],\n        columnOptions: [{\"width\": \"1px\", \"className\": \"index_column\"}],\n        rowsPerPage: 25,\n        helpUrl: \"https://colab.research.google.com/notebooks/data_table.ipynb\",\n        suppressOutputScrolling: true,\n        minimumWidth: undefined,\n      });\n    ",
            "text/html": [
              "<div>\n",
              "<style scoped>\n",
              "    .dataframe tbody tr th:only-of-type {\n",
              "        vertical-align: middle;\n",
              "    }\n",
              "\n",
              "    .dataframe tbody tr th {\n",
              "        vertical-align: top;\n",
              "    }\n",
              "\n",
              "    .dataframe thead th {\n",
              "        text-align: right;\n",
              "    }\n",
              "</style>\n",
              "<table border=\"1\" class=\"dataframe\">\n",
              "  <thead>\n",
              "    <tr style=\"text-align: right;\">\n",
              "      <th></th>\n",
              "      <th>precision</th>\n",
              "      <th>recall</th>\n",
              "      <th>accuracy</th>\n",
              "      <th>f1_score</th>\n",
              "      <th>log_loss</th>\n",
              "      <th>roc_auc</th>\n",
              "      <th>model_name</th>\n",
              "      <th>time_sec</th>\n",
              "      <th>time</th>\n",
              "    </tr>\n",
              "  </thead>\n",
              "  <tbody>\n",
              "    <tr>\n",
              "      <th>0</th>\n",
              "      <td>0.745</td>\n",
              "      <td>0.662</td>\n",
              "      <td>0.775</td>\n",
              "      <td>0.701</td>\n",
              "      <td>0.477</td>\n",
              "      <td>0.853</td>\n",
              "      <td>individual_persistence_31features_with_embeddi...</td>\n",
              "      <td>6767.889</td>\n",
              "      <td>1.0h 52.0min 48.0s</td>\n",
              "    </tr>\n",
              "  </tbody>\n",
              "</table>\n",
              "</div>"
            ],
            "text/plain": [
              "   precision  recall  ...  time_sec                time\n",
              "0      0.745   0.662  ...  6767.889  1.0h 52.0min 48.0s\n",
              "\n",
              "[1 rows x 9 columns]"
            ]
          },
          "metadata": {
            "tags": []
          },
          "execution_count": 37
        }
      ]
    },
    {
      "cell_type": "code",
      "metadata": {
        "colab": {
          "base_uri": "https://localhost:8080/",
          "height": 623
        },
        "id": "DyuIg4sJgGM7",
        "outputId": "91afcac1-6cde-4b93-dcd0-b2fc800b5d7f"
      },
      "source": [
        "# get the top k feature importance\n",
        "k=100\n",
        "feature_importance=f'''select *\n",
        "from ml.feature_importance(model `{data_set}.{model_name}`)\n",
        "order by importance_gain desc limit {k}'''\n",
        "feature_importace_tbl=client.query(feature_importance).to_dataframe()\n",
        "feature_importace_tbl"
      ],
      "execution_count": 38,
      "outputs": [
        {
          "output_type": "execute_result",
          "data": {
            "application/vnd.google.colaboratory.module+javascript": "\n      import \"https://ssl.gstatic.com/colaboratory/data_table/a6224c040fa35dcf/data_table.js\";\n\n      window.createDataTable({\n        data: [[{\n            'v': 0,\n            'f': \"0\",\n        },\n\"country_code_embedding_country_code_embedding_0\",\n{\n            'v': 346,\n            'f': \"346\",\n        },\n{\n            'v': 1591.925570054914,\n            'f': \"1591.925570054914\",\n        },\n{\n            'v': 100344.23080520234,\n            'f': \"100344.23080520234\",\n        }],\n [{\n            'v': 1,\n            'f': \"1\",\n        },\n\"model_embedding_model_embedding_21\",\n{\n            'v': 50,\n            'f': \"50\",\n        },\n{\n            'v': 1157.8288760399998,\n            'f': \"1157.8288760399998\",\n        },\n{\n            'v': 63362.43506079999,\n            'f': \"63362.43506079999\",\n        }],\n [{\n            'v': 2,\n            'f': \"2\",\n        },\n\"country_code_embedding_country_code_embedding_6\",\n{\n            'v': 54,\n            'f': \"54\",\n        },\n{\n            'v': 492.6515000000002,\n            'f': \"492.6515000000002\",\n        },\n{\n            'v': 106224.56474074072,\n            'f': \"106224.56474074072\",\n        }],\n [{\n            'v': 3,\n            'f': \"3\",\n        },\n\"cluster_size\",\n{\n            'v': 2860,\n            'f': \"2860\",\n        },\n{\n            'v': 444.3987078084953,\n            'f': \"444.3987078084953\",\n        },\n{\n            'v': 44833.705711258706,\n            'f': \"44833.705711258706\",\n        }],\n [{\n            'v': 4,\n            'f': \"4\",\n        },\n\"country_code_embedding_country_code_embedding_2\",\n{\n            'v': 185,\n            'f': \"185\",\n        },\n{\n            'v': 298.7497059999999,\n            'f': \"298.7497059999999\",\n        },\n{\n            'v': 22396.70924681081,\n            'f': \"22396.70924681081\",\n        }],\n [{\n            'v': 5,\n            'f': \"5\",\n        },\n\"gmt_offset_embedding_gmt_offset_embedding_0\",\n{\n            'v': 82,\n            'f': \"82\",\n        },\n{\n            'v': 289.3962968292683,\n            'f': \"289.3962968292683\",\n        },\n{\n            'v': 67560.28310975606,\n            'f': \"67560.28310975606\",\n        }],\n [{\n            'v': 6,\n            'f': \"6\",\n        },\n\"browser_name_embedding_browser_name_embedding_4\",\n{\n            'v': 96,\n            'f': \"96\",\n        },\n{\n            'v': 237.19928812500015,\n            'f': \"237.19928812500015\",\n        },\n{\n            'v': 42889.32554406248,\n            'f': \"42889.32554406248\",\n        }],\n [{\n            'v': 7,\n            'f': \"7\",\n        },\n\"country_code_embedding_country_code_embedding_4\",\n{\n            'v': 116,\n            'f': \"116\",\n        },\n{\n            'v': 230.99674662068966,\n            'f': \"230.99674662068966\",\n        },\n{\n            'v': 28672.741619827575,\n            'f': \"28672.741619827575\",\n        }],\n [{\n            'v': 8,\n            'f': \"8\",\n        },\n\"country_code_embedding_country_code_embedding_3\",\n{\n            'v': 134,\n            'f': \"134\",\n        },\n{\n            'v': 228.56490365671647,\n            'f': \"228.56490365671647\",\n        },\n{\n            'v': 49724.78357611941,\n            'f': \"49724.78357611941\",\n        }],\n [{\n            'v': 9,\n            'f': \"9\",\n        },\n\"tfidf_vector_tfidf_1\",\n{\n            'v': 4071,\n            'f': \"4071\",\n        },\n{\n            'v': 201.49900772783056,\n            'f': \"201.49900772783056\",\n        },\n{\n            'v': 26013.7326844805,\n            'f': \"26013.7326844805\",\n        }],\n [{\n            'v': 10,\n            'f': \"10\",\n        },\n\"day_quadrant_mode_saturday\",\n{\n            'v': 196,\n            'f': \"196\",\n        },\n{\n            'v': 133.73638973979598,\n            'f': \"133.73638973979598\",\n        },\n{\n            'v': 16719.956448673467,\n            'f': \"16719.956448673467\",\n        }],\n [{\n            'v': 11,\n            'f': \"11\",\n        },\n\"tfidf_vector_tfidf_2\",\n{\n            'v': 661,\n            'f': \"661\",\n        },\n{\n            'v': 126.45680263661126,\n            'f': \"126.45680263661126\",\n        },\n{\n            'v': 34611.48444305598,\n            'f': \"34611.48444305598\",\n        }],\n [{\n            'v': 12,\n            'f': \"12\",\n        },\n\"os_name_embedding_os_name_embedding_4\",\n{\n            'v': 79,\n            'f': \"79\",\n        },\n{\n            'v': 123.80260670886064,\n            'f': \"123.80260670886064\",\n        },\n{\n            'v': 7428.09134177215,\n            'f': \"7428.09134177215\",\n        }],\n [{\n            'v': 13,\n            'f': \"13\",\n        },\n\"connection_speed_embedding_connection_speed_embedding_3\",\n{\n            'v': 107,\n            'f': \"107\",\n        },\n{\n            'v': 119.99612642990655,\n            'f': \"119.99612642990655\",\n        },\n{\n            'v': 33384.37821682242,\n            'f': \"33384.37821682242\",\n        }],\n [{\n            'v': 14,\n            'f': \"14\",\n        },\n\"avg_seen_timestamp\",\n{\n            'v': 1316,\n            'f': \"1316\",\n        },\n{\n            'v': 117.8363564536478,\n            'f': \"117.8363564536478\",\n        },\n{\n            'v': 18811.65276109418,\n            'f': \"18811.65276109418\",\n        }],\n [{\n            'v': 15,\n            'f': \"15\",\n        },\n\"country_code_embedding_country_code_embedding_1\",\n{\n            'v': 68,\n            'f': \"68\",\n        },\n{\n            'v': 116.16632499999996,\n            'f': \"116.16632499999996\",\n        },\n{\n            'v': 32379.53880000001,\n            'f': \"32379.53880000001\",\n        }],\n [{\n            'v': 16,\n            'f': \"16\",\n        },\n\"fraction_full_sightings\",\n{\n            'v': 711,\n            'f': \"711\",\n        },\n{\n            'v': 115.93388420534465,\n            'f': \"115.93388420534465\",\n        },\n{\n            'v': 16279.615751814352,\n            'f': \"16279.615751814352\",\n        }],\n [{\n            'v': 17,\n            'f': \"17\",\n        },\n\"domain_name_embedding_domain_name_embedding_109\",\n{\n            'v': 44,\n            'f': \"44\",\n        },\n{\n            'v': 115.19766431818185,\n            'f': \"115.19766431818185\",\n        },\n{\n            'v': 8023.912272727271,\n            'f': \"8023.912272727271\",\n        }],\n [{\n            'v': 18,\n            'f': \"18\",\n        },\n\"domain_name_embedding_domain_name_embedding_54\",\n{\n            'v': 56,\n            'f': \"56\",\n        },\n{\n            'v': 111.91227071428564,\n            'f': \"111.91227071428564\",\n        },\n{\n            'v': 9083.660574999993,\n            'f': \"9083.660574999993\",\n        }],\n [{\n            'v': 19,\n            'f': \"19\",\n        },\n\"domain_name_embedding_domain_name_embedding_36\",\n{\n            'v': 96,\n            'f': \"96\",\n        },\n{\n            'v': 109.77265462499999,\n            'f': \"109.77265462499999\",\n        },\n{\n            'v': 21826.86264229166,\n            'f': \"21826.86264229166\",\n        }],\n [{\n            'v': 20,\n            'f': \"20\",\n        },\n\"model_embedding_model_embedding_39\",\n{\n            'v': 42,\n            'f': \"42\",\n        },\n{\n            'v': 108.42042961904764,\n            'f': \"108.42042961904764\",\n        },\n{\n            'v': 25059.950614285717,\n            'f': \"25059.950614285717\",\n        }],\n [{\n            'v': 21,\n            'f': \"21\",\n        },\n\"domain_name_embedding_domain_name_embedding_48\",\n{\n            'v': 68,\n            'f': \"68\",\n        },\n{\n            'v': 103.90191485294122,\n            'f': \"103.90191485294122\",\n        },\n{\n            'v': 12903.052997352946,\n            'f': \"12903.052997352946\",\n        }],\n [{\n            'v': 22,\n            'f': \"22\",\n        },\n\"day_quadrant_mode_sunday\",\n{\n            'v': 256,\n            'f': \"256\",\n        },\n{\n            'v': 97.55888542734375,\n            'f': \"97.55888542734375\",\n        },\n{\n            'v': 16043.925414375004,\n            'f': \"16043.925414375004\",\n        }],\n [{\n            'v': 23,\n            'f': \"23\",\n        },\n\"tfidf_vector_tfidf_4\",\n{\n            'v': 76,\n            'f': \"76\",\n        },\n{\n            'v': 96.05378573684209,\n            'f': \"96.05378573684209\",\n        },\n{\n            'v': 19408.205133684216,\n            'f': \"19408.205133684216\",\n        }],\n [{\n            'v': 24,\n            'f': \"24\",\n        },\n\"last_seen_timestamp\",\n{\n            'v': 1327,\n            'f': \"1327\",\n        },\n{\n            'v': 88.65717192424235,\n            'f': \"88.65717192424235\",\n        },\n{\n            'v': 17526.098477483036,\n            'f': \"17526.098477483036\",\n        }],\n [{\n            'v': 25,\n            'f': \"25\",\n        },\n\"manufacturer_embedding_manufacturer_embedding_2\",\n{\n            'v': 48,\n            'f': \"48\",\n        },\n{\n            'v': 81.9005105,\n            'f': \"81.9005105\",\n        },\n{\n            'v': 27005.187161666672,\n            'f': \"27005.187161666672\",\n        }],\n [{\n            'v': 26,\n            'f': \"26\",\n        },\n\"first_seen_timestamp\",\n{\n            'v': 826,\n            'f': \"826\",\n        },\n{\n            'v': 76.79196913486687,\n            'f': \"76.79196913486687\",\n        },\n{\n            'v': 22609.60249295401,\n            'f': \"22609.60249295401\",\n        }],\n [{\n            'v': 27,\n            'f': \"27\",\n        },\n\"domain_name_embedding_domain_name_embedding_78\",\n{\n            'v': 58,\n            'f': \"58\",\n        },\n{\n            'v': 75.84072206896555,\n            'f': \"75.84072206896555\",\n        },\n{\n            'v': 13692.022248275853,\n            'f': \"13692.022248275853\",\n        }],\n [{\n            'v': 28,\n            'f': \"28\",\n        },\n\"country_code_embedding_country_code_embedding_5\",\n{\n            'v': 212,\n            'f': \"212\",\n        },\n{\n            'v': 74.28708654716986,\n            'f': \"74.28708654716986\",\n        },\n{\n            'v': 23896.821301886786,\n            'f': \"23896.821301886786\",\n        }],\n [{\n            'v': 29,\n            'f': \"29\",\n        },\n\"domain_name_embedding_domain_name_embedding_55\",\n{\n            'v': 46,\n            'f': \"46\",\n        },\n{\n            'v': 73.1152056521739,\n            'f': \"73.1152056521739\",\n        },\n{\n            'v': 14509.444839130429,\n            'f': \"14509.444839130429\",\n        }],\n [{\n            'v': 30,\n            'f': \"30\",\n        },\n\"domain_name_embedding_domain_name_embedding_53\",\n{\n            'v': 70,\n            'f': \"70\",\n        },\n{\n            'v': 70.43199942857147,\n            'f': \"70.43199942857147\",\n        },\n{\n            'v': 7430.450421428573,\n            'f': \"7430.450421428573\",\n        }],\n [{\n            'v': 31,\n            'f': \"31\",\n        },\n\"carrier_name_embedding_carrier_name_embedding_5\",\n{\n            'v': 62,\n            'f': \"62\",\n        },\n{\n            'v': 70.28944693548385,\n            'f': \"70.28944693548385\",\n        },\n{\n            'v': 17979.25889032258,\n            'f': \"17979.25889032258\",\n        }],\n [{\n            'v': 32,\n            'f': \"32\",\n        },\n\"domain_name_embedding_domain_name_embedding_45\",\n{\n            'v': 90,\n            'f': \"90\",\n        },\n{\n            'v': 66.71587711111111,\n            'f': \"66.71587711111111\",\n        },\n{\n            'v': 15219.3430151111,\n            'f': \"15219.3430151111\",\n        }],\n [{\n            'v': 33,\n            'f': \"33\",\n        },\n\"carrier_name_embedding_carrier_name_embedding_1\",\n{\n            'v': 32,\n            'f': \"32\",\n        },\n{\n            'v': 62.96711343750001,\n            'f': \"62.96711343750001\",\n        },\n{\n            'v': 20625.143731250002,\n            'f': \"20625.143731250002\",\n        }],\n [{\n            'v': 34,\n            'f': \"34\",\n        },\n\"region_code_embedding_region_code_embedding_0\",\n{\n            'v': 409,\n            'f': \"409\",\n        },\n{\n            'v': 59.80004186797061,\n            'f': \"59.80004186797061\",\n        },\n{\n            'v': 17932.665378386304,\n            'f': \"17932.665378386304\",\n        }],\n [{\n            'v': 35,\n            'f': \"35\",\n        },\n\"day_quadrant_mode_tuesday\",\n{\n            'v': 186,\n            'f': \"186\",\n        },\n{\n            'v': 59.75188825806452,\n            'f': \"59.75188825806452\",\n        },\n{\n            'v': 9509.05795451613,\n            'f': \"9509.05795451613\",\n        }],\n [{\n            'v': 36,\n            'f': \"36\",\n        },\n\"day_quadrant_mode_friday\",\n{\n            'v': 282,\n            'f': \"282\",\n        },\n{\n            'v': 57.75454186879433,\n            'f': \"57.75454186879433\",\n        },\n{\n            'v': 11017.685252836885,\n            'f': \"11017.685252836885\",\n        }],\n [{\n            'v': 37,\n            'f': \"37\",\n        },\n\"vendor_embedding_vendor_embedding_8\",\n{\n            'v': 42,\n            'f': \"42\",\n        },\n{\n            'v': 57.410588571428576,\n            'f': \"57.410588571428576\",\n        },\n{\n            'v': 7322.355428571427,\n            'f': \"7322.355428571427\",\n        }],\n [{\n            'v': 38,\n            'f': \"38\",\n        },\n\"domain_name_embedding_domain_name_embedding_9\",\n{\n            'v': 84,\n            'f': \"84\",\n        },\n{\n            'v': 56.22809583333337,\n            'f': \"56.22809583333337\",\n        },\n{\n            'v': 4493.163614523805,\n            'f': \"4493.163614523805\",\n        }],\n [{\n            'v': 39,\n            'f': \"39\",\n        },\n\"manufacturer_embedding_manufacturer_embedding_6\",\n{\n            'v': 54,\n            'f': \"54\",\n        },\n{\n            'v': 54.84177222222223,\n            'f': \"54.84177222222223\",\n        },\n{\n            'v': 8794.835855555555,\n            'f': \"8794.835855555555\",\n        }],\n [{\n            'v': 40,\n            'f': \"40\",\n        },\n\"day_quadrant_mode_wednesday\",\n{\n            'v': 241,\n            'f': \"241\",\n        },\n{\n            'v': 54.70857271327802,\n            'f': \"54.70857271327802\",\n        },\n{\n            'v': 10953.723119585069,\n            'f': \"10953.723119585069\",\n        }],\n [{\n            'v': 41,\n            'f': \"41\",\n        },\n\"domain_name_embedding_domain_name_embedding_97\",\n{\n            'v': 74,\n            'f': \"74\",\n        },\n{\n            'v': 54.37632135135134,\n            'f': \"54.37632135135134\",\n        },\n{\n            'v': 35806.86975675679,\n            'f': \"35806.86975675679\",\n        }],\n [{\n            'v': 42,\n            'f': \"42\",\n        },\n\"domain_name_embedding_domain_name_embedding_51\",\n{\n            'v': 114,\n            'f': \"114\",\n        },\n{\n            'v': 53.688352543859686,\n            'f': \"53.688352543859686\",\n        },\n{\n            'v': 9781.429836842108,\n            'f': \"9781.429836842108\",\n        }],\n [{\n            'v': 43,\n            'f': \"43\",\n        },\n\"os_name_embedding_os_name_embedding_0\",\n{\n            'v': 91,\n            'f': \"91\",\n        },\n{\n            'v': 53.28031336373627,\n            'f': \"53.28031336373627\",\n        },\n{\n            'v': 16966.681808791207,\n            'f': \"16966.681808791207\",\n        }],\n [{\n            'v': 44,\n            'f': \"44\",\n        },\n\"carrier_name_embedding_carrier_name_embedding_2\",\n{\n            'v': 48,\n            'f': \"48\",\n        },\n{\n            'v': 50.88845552083331,\n            'f': \"50.88845552083331\",\n        },\n{\n            'v': 8237.450687083332,\n            'f': \"8237.450687083332\",\n        }],\n [{\n            'v': 45,\n            'f': \"45\",\n        },\n\"manufacturer_embedding_manufacturer_embedding_8\",\n{\n            'v': 45,\n            'f': \"45\",\n        },\n{\n            'v': 48.58586511111109,\n            'f': \"48.58586511111109\",\n        },\n{\n            'v': 20948.9464,\n            'f': \"20948.9464\",\n        }],\n [{\n            'v': 46,\n            'f': \"46\",\n        },\n\"gmt_offset_embedding_gmt_offset_embedding_3\",\n{\n            'v': 42,\n            'f': \"42\",\n        },\n{\n            'v': 46.92075295714286,\n            'f': \"46.92075295714286\",\n        },\n{\n            'v': 13823.287080476191,\n            'f': \"13823.287080476191\",\n        }],\n [{\n            'v': 47,\n            'f': \"47\",\n        },\n\"tfidf_vector_tfidf_6\",\n{\n            'v': 38,\n            'f': \"38\",\n        },\n{\n            'v': 45.588752105263154,\n            'f': \"45.588752105263154\",\n        },\n{\n            'v': 15632.538200000005,\n            'f': \"15632.538200000005\",\n        }],\n [{\n            'v': 48,\n            'f': \"48\",\n        },\n\"domain_name_embedding_domain_name_embedding_58\",\n{\n            'v': 84,\n            'f': \"84\",\n        },\n{\n            'v': 45.40191878571428,\n            'f': \"45.40191878571428\",\n        },\n{\n            'v': 4781.626076190478,\n            'f': \"4781.626076190478\",\n        }],\n [{\n            'v': 49,\n            'f': \"49\",\n        },\n\"domain_name_embedding_domain_name_embedding_99\",\n{\n            'v': 56,\n            'f': \"56\",\n        },\n{\n            'v': 44.51792660714283,\n            'f': \"44.51792660714283\",\n        },\n{\n            'v': 8825.996321428576,\n            'f': \"8825.996321428576\",\n        }],\n [{\n            'v': 50,\n            'f': \"50\",\n        },\n\"day_quadrant_mode_thursday\",\n{\n            'v': 202,\n            'f': \"202\",\n        },\n{\n            'v': 44.46854211386137,\n            'f': \"44.46854211386137\",\n        },\n{\n            'v': 10007.02039118812,\n            'f': \"10007.02039118812\",\n        }],\n [{\n            'v': 51,\n            'f': \"51\",\n        },\n\"domain_name_embedding_domain_name_embedding_107\",\n{\n            'v': 69,\n            'f': \"69\",\n        },\n{\n            'v': 44.33103930434785,\n            'f': \"44.33103930434785\",\n        },\n{\n            'v': 7856.38356521739,\n            'f': \"7856.38356521739\",\n        }],\n [{\n            'v': 52,\n            'f': \"52\",\n        },\n\"domain_name_embedding_domain_name_embedding_103\",\n{\n            'v': 55,\n            'f': \"55\",\n        },\n{\n            'v': 42.828425818181785,\n            'f': \"42.828425818181785\",\n        },\n{\n            'v': 6221.21770909091,\n            'f': \"6221.21770909091\",\n        }],\n [{\n            'v': 53,\n            'f': \"53\",\n        },\n\"domain_name_embedding_domain_name_embedding_44\",\n{\n            'v': 32,\n            'f': \"32\",\n        },\n{\n            'v': 42.78825187499998,\n            'f': \"42.78825187499998\",\n        },\n{\n            'v': 7278.615125,\n            'f': \"7278.615125\",\n        }],\n [{\n            'v': 54,\n            'f': \"54\",\n        },\n\"domain_name_embedding_domain_name_embedding_40\",\n{\n            'v': 62,\n            'f': \"62\",\n        },\n{\n            'v': 41.98534758064516,\n            'f': \"41.98534758064516\",\n        },\n{\n            'v': 9550.406225806455,\n            'f': \"9550.406225806455\",\n        }],\n [{\n            'v': 55,\n            'f': \"55\",\n        },\n\"manufacturer_embedding_manufacturer_embedding_4\",\n{\n            'v': 62,\n            'f': \"62\",\n        },\n{\n            'v': 41.73226112903224,\n            'f': \"41.73226112903224\",\n        },\n{\n            'v': 29560.945374193547,\n            'f': \"29560.945374193547\",\n        }],\n [{\n            'v': 56,\n            'f': \"56\",\n        },\n\"domain_name_embedding_domain_name_embedding_37\",\n{\n            'v': 76,\n            'f': \"76\",\n        },\n{\n            'v': 41.18483552631578,\n            'f': \"41.18483552631578\",\n        },\n{\n            'v': 7325.914168421055,\n            'f': \"7325.914168421055\",\n        }],\n [{\n            'v': 57,\n            'f': \"57\",\n        },\n\"manufacturer_embedding_manufacturer_embedding_3\",\n{\n            'v': 54,\n            'f': \"54\",\n        },\n{\n            'v': 40.680291440740774,\n            'f': \"40.680291440740774\",\n        },\n{\n            'v': 5861.1479896296305,\n            'f': \"5861.1479896296305\",\n        }],\n [{\n            'v': 58,\n            'f': \"58\",\n        },\n\"domain_name_embedding_domain_name_embedding_98\",\n{\n            'v': 37,\n            'f': \"37\",\n        },\n{\n            'v': 40.012511891891904,\n            'f': \"40.012511891891904\",\n        },\n{\n            'v': 7084.908486486489,\n            'f': \"7084.908486486489\",\n        }],\n [{\n            'v': 59,\n            'f': \"59\",\n        },\n\"connection_speed_embedding_connection_speed_embedding_2\",\n{\n            'v': 78,\n            'f': \"78\",\n        },\n{\n            'v': 39.91517200000002,\n            'f': \"39.91517200000002\",\n        },\n{\n            'v': 18059.44587307692,\n            'f': \"18059.44587307692\",\n        }],\n [{\n            'v': 60,\n            'f': \"60\",\n        },\n\"carrier_name_embedding_carrier_name_embedding_6\",\n{\n            'v': 32,\n            'f': \"32\",\n        },\n{\n            'v': 39.19919281249998,\n            'f': \"39.19919281249998\",\n        },\n{\n            'v': 7959.852937500002,\n            'f': \"7959.852937500002\",\n        }],\n [{\n            'v': 61,\n            'f': \"61\",\n        },\n\"domain_name_embedding_domain_name_embedding_33\",\n{\n            'v': 40,\n            'f': \"40\",\n        },\n{\n            'v': 38.971978,\n            'f': \"38.971978\",\n        },\n{\n            'v': 4035.6540999999997,\n            'f': \"4035.6540999999997\",\n        }],\n [{\n            'v': 62,\n            'f': \"62\",\n        },\n\"domain_name_embedding_domain_name_embedding_39\",\n{\n            'v': 56,\n            'f': \"56\",\n        },\n{\n            'v': 37.699511428571455,\n            'f': \"37.699511428571455\",\n        },\n{\n            'v': 1904.8181689285718,\n            'f': \"1904.8181689285718\",\n        }],\n [{\n            'v': 63,\n            'f': \"63\",\n        },\n\"tfidf_vector_tfidf_10\",\n{\n            'v': 44,\n            'f': \"44\",\n        },\n{\n            'v': 36.98840477272727,\n            'f': \"36.98840477272727\",\n        },\n{\n            'v': 20405.448422727273,\n            'f': \"20405.448422727273\",\n        }],\n [{\n            'v': 64,\n            'f': \"64\",\n        },\n\"manufacturer_embedding_manufacturer_embedding_5\",\n{\n            'v': 8,\n            'f': \"8\",\n        },\n{\n            'v': 36.22735850000001,\n            'f': \"36.22735850000001\",\n        },\n{\n            'v': 7124.857775,\n            'f': \"7124.857775\",\n        }],\n [{\n            'v': 65,\n            'f': \"65\",\n        },\n\"manufacturer_embedding_manufacturer_embedding_1\",\n{\n            'v': 36,\n            'f': \"36\",\n        },\n{\n            'v': 35.74102472222223,\n            'f': \"35.74102472222223\",\n        },\n{\n            'v': 19435.029213888884,\n            'f': \"19435.029213888884\",\n        }],\n [{\n            'v': 66,\n            'f': \"66\",\n        },\n\"tfidf_vector_tfidf_7\",\n{\n            'v': 31,\n            'f': \"31\",\n        },\n{\n            'v': 35.65730516129033,\n            'f': \"35.65730516129033\",\n        },\n{\n            'v': 14921.767612903226,\n            'f': \"14921.767612903226\",\n        }],\n [{\n            'v': 67,\n            'f': \"67\",\n        },\n\"domain_name_embedding_domain_name_embedding_43\",\n{\n            'v': 94,\n            'f': \"94\",\n        },\n{\n            'v': 34.97513935106383,\n            'f': \"34.97513935106383\",\n        },\n{\n            'v': 19542.60272340426,\n            'f': \"19542.60272340426\",\n        }],\n [{\n            'v': 68,\n            'f': \"68\",\n        },\n\"domain_name_embedding_domain_name_embedding_65\",\n{\n            'v': 71,\n            'f': \"71\",\n        },\n{\n            'v': 34.49165183098587,\n            'f': \"34.49165183098587\",\n        },\n{\n            'v': 3861.4794647887334,\n            'f': \"3861.4794647887334\",\n        }],\n [{\n            'v': 69,\n            'f': \"69\",\n        },\n\"domain_name_embedding_domain_name_embedding_30\",\n{\n            'v': 61,\n            'f': \"61\",\n        },\n{\n            'v': 34.2557544262295,\n            'f': \"34.2557544262295\",\n        },\n{\n            'v': 4733.3137344262295,\n            'f': \"4733.3137344262295\",\n        }],\n [{\n            'v': 70,\n            'f': \"70\",\n        },\n\"domain_name_embedding_domain_name_embedding_8\",\n{\n            'v': 87,\n            'f': \"87\",\n        },\n{\n            'v': 33.974666367816106,\n            'f': \"33.974666367816106\",\n        },\n{\n            'v': 8351.379008275862,\n            'f': \"8351.379008275862\",\n        }],\n [{\n            'v': 71,\n            'f': \"71\",\n        },\n\"domain_name_embedding_domain_name_embedding_24\",\n{\n            'v': 42,\n            'f': \"42\",\n        },\n{\n            'v': 33.95407690476189,\n            'f': \"33.95407690476189\",\n        },\n{\n            'v': 3932.073723333332,\n            'f': \"3932.073723333332\",\n        }],\n [{\n            'v': 72,\n            'f': \"72\",\n        },\n\"domain_name_embedding_domain_name_embedding_21\",\n{\n            'v': 42,\n            'f': \"42\",\n        },\n{\n            'v': 33.48197095238095,\n            'f': \"33.48197095238095\",\n        },\n{\n            'v': 2742.02034047619,\n            'f': \"2742.02034047619\",\n        }],\n [{\n            'v': 73,\n            'f': \"73\",\n        },\n\"domain_name_embedding_domain_name_embedding_67\",\n{\n            'v': 86,\n            'f': \"86\",\n        },\n{\n            'v': 32.823134069767434,\n            'f': \"32.823134069767434\",\n        },\n{\n            'v': 10233.350109302331,\n            'f': \"10233.350109302331\",\n        }],\n [{\n            'v': 74,\n            'f': \"74\",\n        },\n\"day_quadrant_mode_monday\",\n{\n            'v': 166,\n            'f': \"166\",\n        },\n{\n            'v': 32.698783359638554,\n            'f': \"32.698783359638554\",\n        },\n{\n            'v': 7115.425785060245,\n            'f': \"7115.425785060245\",\n        }],\n [{\n            'v': 75,\n            'f': \"75\",\n        },\n\"domain_name_embedding_domain_name_embedding_62\",\n{\n            'v': 77,\n            'f': \"77\",\n        },\n{\n            'v': 32.580382987013,\n            'f': \"32.580382987013\",\n        },\n{\n            'v': 9311.57977311688,\n            'f': \"9311.57977311688\",\n        }],\n [{\n            'v': 76,\n            'f': \"76\",\n        },\n\"domain_name_embedding_domain_name_embedding_71\",\n{\n            'v': 54,\n            'f': \"54\",\n        },\n{\n            'v': 32.299254999999995,\n            'f': \"32.299254999999995\",\n        },\n{\n            'v': 4583.963248518517,\n            'f': \"4583.963248518517\",\n        }],\n [{\n            'v': 77,\n            'f': \"77\",\n        },\n\"domain_name_embedding_domain_name_embedding_6\",\n{\n            'v': 40,\n            'f': \"40\",\n        },\n{\n            'v': 32.18618255,\n            'f': \"32.18618255\",\n        },\n{\n            'v': 5059.634929000002,\n            'f': \"5059.634929000002\",\n        }],\n [{\n            'v': 78,\n            'f': \"78\",\n        },\n\"carrier_name_embedding_carrier_name_embedding_3\",\n{\n            'v': 18,\n            'f': \"18\",\n        },\n{\n            'v': 31.82074611111111,\n            'f': \"31.82074611111111\",\n        },\n{\n            'v': 8635.104111111108,\n            'f': \"8635.104111111108\",\n        }],\n [{\n            'v': 79,\n            'f': \"79\",\n        },\n\"domain_name_embedding_domain_name_embedding_91\",\n{\n            'v': 96,\n            'f': \"96\",\n        },\n{\n            'v': 31.419059791666655,\n            'f': \"31.419059791666655\",\n        },\n{\n            'v': 8527.713529166662,\n            'f': \"8527.713529166662\",\n        }],\n [{\n            'v': 80,\n            'f': \"80\",\n        },\n\"domain_name_embedding_domain_name_embedding_13\",\n{\n            'v': 74,\n            'f': \"74\",\n        },\n{\n            'v': 31.207128864864863,\n            'f': \"31.207128864864863\",\n        },\n{\n            'v': 4909.991842702703,\n            'f': \"4909.991842702703\",\n        }],\n [{\n            'v': 81,\n            'f': \"81\",\n        },\n\"domain_name_embedding_domain_name_embedding_74\",\n{\n            'v': 50,\n            'f': \"50\",\n        },\n{\n            'v': 31.094010200000028,\n            'f': \"31.094010200000028\",\n        },\n{\n            'v': 3609.7949239999994,\n            'f': \"3609.7949239999994\",\n        }],\n [{\n            'v': 82,\n            'f': \"82\",\n        },\n\"region_code_embedding_region_code_embedding_9\",\n{\n            'v': 71,\n            'f': \"71\",\n        },\n{\n            'v': 30.74879450704226,\n            'f': \"30.74879450704226\",\n        },\n{\n            'v': 1515.1325830985909,\n            'f': \"1515.1325830985909\",\n        }],\n [{\n            'v': 83,\n            'f': \"83\",\n        },\n\"domain_name_embedding_domain_name_embedding_31\",\n{\n            'v': 84,\n            'f': \"84\",\n        },\n{\n            'v': 30.62245845238093,\n            'f': \"30.62245845238093\",\n        },\n{\n            'v': 2546.0749769047625,\n            'f': \"2546.0749769047625\",\n        }],\n [{\n            'v': 84,\n            'f': \"84\",\n        },\n\"max_timestamp_lag\",\n{\n            'v': 872,\n            'f': \"872\",\n        },\n{\n            'v': 30.586080172591778,\n            'f': \"30.586080172591778\",\n        },\n{\n            'v': 8233.542215573401,\n            'f': \"8233.542215573401\",\n        }],\n [{\n            'v': 85,\n            'f': \"85\",\n        },\n\"gmt_offset_embedding_gmt_offset_embedding_1\",\n{\n            'v': 24,\n            'f': \"24\",\n        },\n{\n            'v': 30.384560000000008,\n            'f': \"30.384560000000008\",\n        },\n{\n            'v': 7179.186516666668,\n            'f': \"7179.186516666668\",\n        }],\n [{\n            'v': 86,\n            'f': \"86\",\n        },\n\"manufacturer_embedding_manufacturer_embedding_10\",\n{\n            'v': 6,\n            'f': \"6\",\n        },\n{\n            'v': 30.075760000000002,\n            'f': \"30.075760000000002\",\n        },\n{\n            'v': 3884.970333333333,\n            'f': \"3884.970333333333\",\n        }],\n [{\n            'v': 87,\n            'f': \"87\",\n        },\n\"domain_name_embedding_domain_name_embedding_75\",\n{\n            'v': 50,\n            'f': \"50\",\n        },\n{\n            'v': 30.049197359999994,\n            'f': \"30.049197359999994\",\n        },\n{\n            'v': 4466.923663799998,\n            'f': \"4466.923663799998\",\n        }],\n [{\n            'v': 88,\n            'f': \"88\",\n        },\n\"num_distinct_sightings\",\n{\n            'v': 696,\n            'f': \"696\",\n        },\n{\n            'v': 28.961074060057435,\n            'f': \"28.961074060057435\",\n        },\n{\n            'v': 6222.323478793094,\n            'f': \"6222.323478793094\",\n        }],\n [{\n            'v': 89,\n            'f': \"89\",\n        },\n\"domain_name_embedding_domain_name_embedding_69\",\n{\n            'v': 82,\n            'f': \"82\",\n        },\n{\n            'v': 28.62506846341463,\n            'f': \"28.62506846341463\",\n        },\n{\n            'v': 3512.0440097560986,\n            'f': \"3512.0440097560986\",\n        }],\n [{\n            'v': 90,\n            'f': \"90\",\n        },\n\"domain_name_embedding_domain_name_embedding_49\",\n{\n            'v': 201,\n            'f': \"201\",\n        },\n{\n            'v': 28.448100562189047,\n            'f': \"28.448100562189047\",\n        },\n{\n            'v': 4133.082214626867,\n            'f': \"4133.082214626867\",\n        }],\n [{\n            'v': 91,\n            'f': \"91\",\n        },\n\"postal_code_embedding_postal_code_embedding_76\",\n{\n            'v': 42,\n            'f': \"42\",\n        },\n{\n            'v': 28.087016309523808,\n            'f': \"28.087016309523808\",\n        },\n{\n            'v': 632.2478823809525,\n            'f': \"632.2478823809525\",\n        }],\n [{\n            'v': 92,\n            'f': \"92\",\n        },\n\"metro_code_embedding_metro_code_embedding_12\",\n{\n            'v': 56,\n            'f': \"56\",\n        },\n{\n            'v': 27.95427964285712,\n            'f': \"27.95427964285712\",\n        },\n{\n            'v': 2937.765058928572,\n            'f': \"2937.765058928572\",\n        }],\n [{\n            'v': 93,\n            'f': \"93\",\n        },\n\"domain_name_embedding_domain_name_embedding_105\",\n{\n            'v': 53,\n            'f': \"53\",\n        },\n{\n            'v': 27.832635094339622,\n            'f': \"27.832635094339622\",\n        },\n{\n            'v': 6030.161554716981,\n            'f': \"6030.161554716981\",\n        }],\n [{\n            'v': 94,\n            'f': \"94\",\n        },\n\"domain_name_embedding_domain_name_embedding_18\",\n{\n            'v': 86,\n            'f': \"86\",\n        },\n{\n            'v': 27.774548953488395,\n            'f': \"27.774548953488395\",\n        },\n{\n            'v': 5895.279337209302,\n            'f': \"5895.279337209302\",\n        }],\n [{\n            'v': 95,\n            'f': \"95\",\n        },\n\"domain_name_embedding_domain_name_embedding_57\",\n{\n            'v': 36,\n            'f': \"36\",\n        },\n{\n            'v': 27.28196444444444,\n            'f': \"27.28196444444444\",\n        },\n{\n            'v': 5359.517857777778,\n            'f': \"5359.517857777778\",\n        }],\n [{\n            'v': 96,\n            'f': \"96\",\n        },\n\"domain_name_embedding_domain_name_embedding_73\",\n{\n            'v': 62,\n            'f': \"62\",\n        },\n{\n            'v': 26.89139606451614,\n            'f': \"26.89139606451614\",\n        },\n{\n            'v': 6767.977744193546,\n            'f': \"6767.977744193546\",\n        }],\n [{\n            'v': 97,\n            'f': \"97\",\n        },\n\"vendor_embedding_vendor_embedding_6\",\n{\n            'v': 38,\n            'f': \"38\",\n        },\n{\n            'v': 26.5067435,\n            'f': \"26.5067435\",\n        },\n{\n            'v': 5491.022436842104,\n            'f': \"5491.022436842104\",\n        }],\n [{\n            'v': 98,\n            'f': \"98\",\n        },\n\"domain_name_embedding_domain_name_embedding_111\",\n{\n            'v': 30,\n            'f': \"30\",\n        },\n{\n            'v': 26.417064666666665,\n            'f': \"26.417064666666665\",\n        },\n{\n            'v': 3602.9051466666683,\n            'f': \"3602.9051466666683\",\n        }],\n [{\n            'v': 99,\n            'f': \"99\",\n        },\n\"metro_code_embedding_metro_code_embedding_21\",\n{\n            'v': 100,\n            'f': \"100\",\n        },\n{\n            'v': 26.02171312,\n            'f': \"26.02171312\",\n        },\n{\n            'v': 4034.9442884000005,\n            'f': \"4034.9442884000005\",\n        }]],\n        columns: [[\"number\", \"index\"], [\"string\", \"feature\"], [\"number\", \"importance_weight\"], [\"number\", \"importance_gain\"], [\"number\", \"importance_cover\"]],\n        columnOptions: [{\"width\": \"1px\", \"className\": \"index_column\"}],\n        rowsPerPage: 25,\n        helpUrl: \"https://colab.research.google.com/notebooks/data_table.ipynb\",\n        suppressOutputScrolling: true,\n        minimumWidth: undefined,\n      });\n    ",
            "text/html": [
              "<div>\n",
              "<style scoped>\n",
              "    .dataframe tbody tr th:only-of-type {\n",
              "        vertical-align: middle;\n",
              "    }\n",
              "\n",
              "    .dataframe tbody tr th {\n",
              "        vertical-align: top;\n",
              "    }\n",
              "\n",
              "    .dataframe thead th {\n",
              "        text-align: right;\n",
              "    }\n",
              "</style>\n",
              "<table border=\"1\" class=\"dataframe\">\n",
              "  <thead>\n",
              "    <tr style=\"text-align: right;\">\n",
              "      <th></th>\n",
              "      <th>feature</th>\n",
              "      <th>importance_weight</th>\n",
              "      <th>importance_gain</th>\n",
              "      <th>importance_cover</th>\n",
              "    </tr>\n",
              "  </thead>\n",
              "  <tbody>\n",
              "    <tr>\n",
              "      <th>0</th>\n",
              "      <td>country_code_embedding_country_code_embedding_0</td>\n",
              "      <td>346</td>\n",
              "      <td>1591.925570</td>\n",
              "      <td>100344.230805</td>\n",
              "    </tr>\n",
              "    <tr>\n",
              "      <th>1</th>\n",
              "      <td>model_embedding_model_embedding_21</td>\n",
              "      <td>50</td>\n",
              "      <td>1157.828876</td>\n",
              "      <td>63362.435061</td>\n",
              "    </tr>\n",
              "    <tr>\n",
              "      <th>2</th>\n",
              "      <td>country_code_embedding_country_code_embedding_6</td>\n",
              "      <td>54</td>\n",
              "      <td>492.651500</td>\n",
              "      <td>106224.564741</td>\n",
              "    </tr>\n",
              "    <tr>\n",
              "      <th>3</th>\n",
              "      <td>cluster_size</td>\n",
              "      <td>2860</td>\n",
              "      <td>444.398708</td>\n",
              "      <td>44833.705711</td>\n",
              "    </tr>\n",
              "    <tr>\n",
              "      <th>4</th>\n",
              "      <td>country_code_embedding_country_code_embedding_2</td>\n",
              "      <td>185</td>\n",
              "      <td>298.749706</td>\n",
              "      <td>22396.709247</td>\n",
              "    </tr>\n",
              "    <tr>\n",
              "      <th>...</th>\n",
              "      <td>...</td>\n",
              "      <td>...</td>\n",
              "      <td>...</td>\n",
              "      <td>...</td>\n",
              "    </tr>\n",
              "    <tr>\n",
              "      <th>95</th>\n",
              "      <td>domain_name_embedding_domain_name_embedding_57</td>\n",
              "      <td>36</td>\n",
              "      <td>27.281964</td>\n",
              "      <td>5359.517858</td>\n",
              "    </tr>\n",
              "    <tr>\n",
              "      <th>96</th>\n",
              "      <td>domain_name_embedding_domain_name_embedding_73</td>\n",
              "      <td>62</td>\n",
              "      <td>26.891396</td>\n",
              "      <td>6767.977744</td>\n",
              "    </tr>\n",
              "    <tr>\n",
              "      <th>97</th>\n",
              "      <td>vendor_embedding_vendor_embedding_6</td>\n",
              "      <td>38</td>\n",
              "      <td>26.506743</td>\n",
              "      <td>5491.022437</td>\n",
              "    </tr>\n",
              "    <tr>\n",
              "      <th>98</th>\n",
              "      <td>domain_name_embedding_domain_name_embedding_111</td>\n",
              "      <td>30</td>\n",
              "      <td>26.417065</td>\n",
              "      <td>3602.905147</td>\n",
              "    </tr>\n",
              "    <tr>\n",
              "      <th>99</th>\n",
              "      <td>metro_code_embedding_metro_code_embedding_21</td>\n",
              "      <td>100</td>\n",
              "      <td>26.021713</td>\n",
              "      <td>4034.944288</td>\n",
              "    </tr>\n",
              "  </tbody>\n",
              "</table>\n",
              "<p>100 rows × 4 columns</p>\n",
              "</div>"
            ],
            "text/plain": [
              "                                            feature  ...  importance_cover\n",
              "0   country_code_embedding_country_code_embedding_0  ...     100344.230805\n",
              "1                model_embedding_model_embedding_21  ...      63362.435061\n",
              "2   country_code_embedding_country_code_embedding_6  ...     106224.564741\n",
              "3                                      cluster_size  ...      44833.705711\n",
              "4   country_code_embedding_country_code_embedding_2  ...      22396.709247\n",
              "..                                              ...  ...               ...\n",
              "95   domain_name_embedding_domain_name_embedding_57  ...       5359.517858\n",
              "96   domain_name_embedding_domain_name_embedding_73  ...       6767.977744\n",
              "97              vendor_embedding_vendor_embedding_6  ...       5491.022437\n",
              "98  domain_name_embedding_domain_name_embedding_111  ...       3602.905147\n",
              "99     metro_code_embedding_metro_code_embedding_21  ...       4034.944288\n",
              "\n",
              "[100 rows x 4 columns]"
            ]
          },
          "metadata": {
            "tags": []
          },
          "execution_count": 38
        }
      ]
    },
    {
      "cell_type": "code",
      "metadata": {
        "colab": {
          "base_uri": "https://localhost:8080/",
          "height": 142
        },
        "id": "czTnOERsq3sX",
        "outputId": "fb13efb7-f8fa-4826-cb16-622066ce1a5e"
      },
      "source": [
        "# extract the top k features so we can use them in the bq table\n",
        "features_selected=get_top_k_features_name(model_name=model_name,table=table,k=100)\n",
        "# to test the model\n",
        "table='individual_persistence_31features_with_embeddings_testing'\n",
        "# create a our model name\n",
        "model_name='individual_persistence_31features_with_embeddings_training_model_feature_selection_res'\n",
        "\n",
        "# select the top 100 features in the testing data and apply xgboost on that \n",
        "res=run_bqml_selected_features(table=table,model_name=model_name,selected_features=features_selected,max_tree_depth=11,learn_rate=0.118)\n",
        "res"
      ],
      "execution_count": 44,
      "outputs": [
        {
          "output_type": "execute_result",
          "data": {
            "application/vnd.google.colaboratory.module+javascript": "\n      import \"https://ssl.gstatic.com/colaboratory/data_table/a6224c040fa35dcf/data_table.js\";\n\n      window.createDataTable({\n        data: [[{\n            'v': 0,\n            'f': \"0\",\n        },\n{\n            'v': 0.753,\n            'f': \"0.753\",\n        },\n{\n            'v': 0.663,\n            'f': \"0.663\",\n        },\n{\n            'v': 0.78,\n            'f': \"0.78\",\n        },\n{\n            'v': 0.705,\n            'f': \"0.705\",\n        },\n{\n            'v': 0.476,\n            'f': \"0.476\",\n        },\n{\n            'v': 0.855,\n            'f': \"0.855\",\n        },\n\"individual_persistence_31features_with_embeddings_training_model_feature_selection_res\",\n{\n            'v': 1566.87,\n            'f': \"1566.87\",\n        },\n\"0.0h 26.0min 7.0s\"]],\n        columns: [[\"number\", \"index\"], [\"number\", \"precision\"], [\"number\", \"recall\"], [\"number\", \"accuracy\"], [\"number\", \"f1_score\"], [\"number\", \"log_loss\"], [\"number\", \"roc_auc\"], [\"string\", \"model_name\"], [\"number\", \"time_sec\"], [\"string\", \"time\"]],\n        columnOptions: [{\"width\": \"1px\", \"className\": \"index_column\"}],\n        rowsPerPage: 25,\n        helpUrl: \"https://colab.research.google.com/notebooks/data_table.ipynb\",\n        suppressOutputScrolling: true,\n        minimumWidth: undefined,\n      });\n    ",
            "text/html": [
              "<div>\n",
              "<style scoped>\n",
              "    .dataframe tbody tr th:only-of-type {\n",
              "        vertical-align: middle;\n",
              "    }\n",
              "\n",
              "    .dataframe tbody tr th {\n",
              "        vertical-align: top;\n",
              "    }\n",
              "\n",
              "    .dataframe thead th {\n",
              "        text-align: right;\n",
              "    }\n",
              "</style>\n",
              "<table border=\"1\" class=\"dataframe\">\n",
              "  <thead>\n",
              "    <tr style=\"text-align: right;\">\n",
              "      <th></th>\n",
              "      <th>precision</th>\n",
              "      <th>recall</th>\n",
              "      <th>accuracy</th>\n",
              "      <th>f1_score</th>\n",
              "      <th>log_loss</th>\n",
              "      <th>roc_auc</th>\n",
              "      <th>model_name</th>\n",
              "      <th>time_sec</th>\n",
              "      <th>time</th>\n",
              "    </tr>\n",
              "  </thead>\n",
              "  <tbody>\n",
              "    <tr>\n",
              "      <th>0</th>\n",
              "      <td>0.753</td>\n",
              "      <td>0.663</td>\n",
              "      <td>0.78</td>\n",
              "      <td>0.705</td>\n",
              "      <td>0.476</td>\n",
              "      <td>0.855</td>\n",
              "      <td>individual_persistence_31features_with_embeddi...</td>\n",
              "      <td>1566.87</td>\n",
              "      <td>0.0h 26.0min 7.0s</td>\n",
              "    </tr>\n",
              "  </tbody>\n",
              "</table>\n",
              "</div>"
            ],
            "text/plain": [
              "   precision  recall  ...  time_sec               time\n",
              "0      0.753   0.663  ...   1566.87  0.0h 26.0min 7.0s\n",
              "\n",
              "[1 rows x 9 columns]"
            ]
          },
          "metadata": {
            "tags": []
          },
          "execution_count": 44
        }
      ]
    },
    {
      "cell_type": "markdown",
      "metadata": {
        "id": "24V6j8_k9qrT"
      },
      "source": [
        "Condition 4.2 :\n",
        "- features : top 100 features among the 31 features with embeddings\n",
        "- household"
      ]
    },
    {
      "cell_type": "code",
      "metadata": {
        "colab": {
          "base_uri": "https://localhost:8080/",
          "height": 142
        },
        "id": "i0nh9xcUGqsp",
        "outputId": "8edd446c-2c66-4aa3-9089-7b286517d4ab"
      },
      "source": [
        "# apply model on the training data with the optimal hyperparameter \n",
        "# create a reference to our table\n",
        "table='household_persistence_31features_with_embeddings_training'\n",
        "# create a our model name\n",
        "model_name='household_persistence_31features_with_embeddings_training_model_feature_selection_prepare'\n",
        "\n",
        "res=run_bqml(table=table,model_name=model_name,max_tree_depth=14,learn_rate=0.079)\n",
        "res"
      ],
      "execution_count": 6,
      "outputs": [
        {
          "output_type": "execute_result",
          "data": {
            "application/vnd.google.colaboratory.module+javascript": "\n      import \"https://ssl.gstatic.com/colaboratory/data_table/a6224c040fa35dcf/data_table.js\";\n\n      window.createDataTable({\n        data: [[{\n            'v': 0,\n            'f': \"0\",\n        },\n{\n            'v': 0.801,\n            'f': \"0.801\",\n        },\n{\n            'v': 0.66,\n            'f': \"0.66\",\n        },\n{\n            'v': 0.806,\n            'f': \"0.806\",\n        },\n{\n            'v': 0.723,\n            'f': \"0.723\",\n        },\n{\n            'v': 0.421,\n            'f': \"0.421\",\n        },\n{\n            'v': 0.89,\n            'f': \"0.89\",\n        },\n\"household_persistence_31features_with_embeddings_training_model_feature_selection_prepare\",\n{\n            'v': 6113.706,\n            'f': \"6113.706\",\n        },\n\"1.0h 41.0min 54.0s\"]],\n        columns: [[\"number\", \"index\"], [\"number\", \"precision\"], [\"number\", \"recall\"], [\"number\", \"accuracy\"], [\"number\", \"f1_score\"], [\"number\", \"log_loss\"], [\"number\", \"roc_auc\"], [\"string\", \"model_name\"], [\"number\", \"time_sec\"], [\"string\", \"time\"]],\n        columnOptions: [{\"width\": \"1px\", \"className\": \"index_column\"}],\n        rowsPerPage: 25,\n        helpUrl: \"https://colab.research.google.com/notebooks/data_table.ipynb\",\n        suppressOutputScrolling: true,\n        minimumWidth: undefined,\n      });\n    ",
            "text/html": [
              "<div>\n",
              "<style scoped>\n",
              "    .dataframe tbody tr th:only-of-type {\n",
              "        vertical-align: middle;\n",
              "    }\n",
              "\n",
              "    .dataframe tbody tr th {\n",
              "        vertical-align: top;\n",
              "    }\n",
              "\n",
              "    .dataframe thead th {\n",
              "        text-align: right;\n",
              "    }\n",
              "</style>\n",
              "<table border=\"1\" class=\"dataframe\">\n",
              "  <thead>\n",
              "    <tr style=\"text-align: right;\">\n",
              "      <th></th>\n",
              "      <th>precision</th>\n",
              "      <th>recall</th>\n",
              "      <th>accuracy</th>\n",
              "      <th>f1_score</th>\n",
              "      <th>log_loss</th>\n",
              "      <th>roc_auc</th>\n",
              "      <th>model_name</th>\n",
              "      <th>time_sec</th>\n",
              "      <th>time</th>\n",
              "    </tr>\n",
              "  </thead>\n",
              "  <tbody>\n",
              "    <tr>\n",
              "      <th>0</th>\n",
              "      <td>0.801</td>\n",
              "      <td>0.66</td>\n",
              "      <td>0.806</td>\n",
              "      <td>0.723</td>\n",
              "      <td>0.421</td>\n",
              "      <td>0.89</td>\n",
              "      <td>household_persistence_31features_with_embeddin...</td>\n",
              "      <td>6113.706</td>\n",
              "      <td>1.0h 41.0min 54.0s</td>\n",
              "    </tr>\n",
              "  </tbody>\n",
              "</table>\n",
              "</div>"
            ],
            "text/plain": [
              "   precision  recall  ...  time_sec                time\n",
              "0      0.801    0.66  ...  6113.706  1.0h 41.0min 54.0s\n",
              "\n",
              "[1 rows x 9 columns]"
            ]
          },
          "metadata": {
            "tags": []
          },
          "execution_count": 6
        }
      ]
    },
    {
      "cell_type": "code",
      "metadata": {
        "colab": {
          "base_uri": "https://localhost:8080/",
          "height": 623
        },
        "id": "GPHMA7VUygzp",
        "outputId": "9193c75d-75a3-49ff-98e6-f96e02d98574"
      },
      "source": [
        "# check the top k important features \n",
        "k=100\n",
        "feature_importance=f'''select *\n",
        "from ml.feature_importance(model `{data_set}.{model_name}`)\n",
        "order by importance_gain desc limit {k}'''\n",
        "feature_importace_tbl=client.query(feature_importance).to_dataframe()\n",
        "feature_importace_tbl"
      ],
      "execution_count": 7,
      "outputs": [
        {
          "output_type": "execute_result",
          "data": {
            "application/vnd.google.colaboratory.module+javascript": "\n      import \"https://ssl.gstatic.com/colaboratory/data_table/a6224c040fa35dcf/data_table.js\";\n\n      window.createDataTable({\n        data: [[{\n            'v': 0,\n            'f': \"0\",\n        },\n\"os_name_embedding_os_name_embedding_5\",\n{\n            'v': 62,\n            'f': \"62\",\n        },\n{\n            'v': 933.6040124516137,\n            'f': \"933.6040124516137\",\n        },\n{\n            'v': 89646.58738967741,\n            'f': \"89646.58738967741\",\n        }],\n [{\n            'v': 1,\n            'f': \"1\",\n        },\n\"domain_name_embedding_domain_name_embedding_65\",\n{\n            'v': 302,\n            'f': \"302\",\n        },\n{\n            'v': 402.8229825562915,\n            'f': \"402.8229825562915\",\n        },\n{\n            'v': 63865.150461192075,\n            'f': \"63865.150461192075\",\n        }],\n [{\n            'v': 2,\n            'f': \"2\",\n        },\n\"domain_name_embedding_domain_name_embedding_117\",\n{\n            'v': 264,\n            'f': \"264\",\n        },\n{\n            'v': 298.6304702939392,\n            'f': \"298.6304702939392\",\n        },\n{\n            'v': 44919.747850909094,\n            'f': \"44919.747850909094\",\n        }],\n [{\n            'v': 3,\n            'f': \"3\",\n        },\n\"domain_name_embedding_domain_name_embedding_21\",\n{\n            'v': 294,\n            'f': \"294\",\n        },\n{\n            'v': 288.12742792653034,\n            'f': \"288.12742792653034\",\n        },\n{\n            'v': 32132.81938908163,\n            'f': \"32132.81938908163\",\n        }],\n [{\n            'v': 4,\n            'f': \"4\",\n        },\n\"country_code_embedding_country_code_embedding_5\",\n{\n            'v': 500,\n            'f': \"500\",\n        },\n{\n            'v': 282.9657338419997,\n            'f': \"282.9657338419997\",\n        },\n{\n            'v': 22046.57120567998,\n            'f': \"22046.57120567998\",\n        }],\n [{\n            'v': 5,\n            'f': \"5\",\n        },\n\"cluster_size\",\n{\n            'v': 11324,\n            'f': \"11324\",\n        },\n{\n            'v': 172.15928317007047,\n            'f': \"172.15928317007047\",\n        },\n{\n            'v': 22018.265542935245,\n            'f': \"22018.265542935245\",\n        }],\n [{\n            'v': 6,\n            'f': \"6\",\n        },\n\"country_code_embedding_country_code_embedding_0\",\n{\n            'v': 1282,\n            'f': \"1282\",\n        },\n{\n            'v': 168.43932222948553,\n            'f': \"168.43932222948553\",\n        },\n{\n            'v': 12459.690262964092,\n            'f': \"12459.690262964092\",\n        }],\n [{\n            'v': 7,\n            'f': \"7\",\n        },\n\"os_name_embedding_os_name_embedding_3\",\n{\n            'v': 261,\n            'f': \"261\",\n        },\n{\n            'v': 108.51137303065144,\n            'f': \"108.51137303065144\",\n        },\n{\n            'v': 14293.47361095787,\n            'f': \"14293.47361095787\",\n        }],\n [{\n            'v': 8,\n            'f': \"8\",\n        },\n\"connection_speed_embedding_connection_speed_embedding_1\",\n{\n            'v': 638,\n            'f': \"638\",\n        },\n{\n            'v': 95.25481412695918,\n            'f': \"95.25481412695918\",\n        },\n{\n            'v': 21603.10758401253,\n            'f': \"21603.10758401253\",\n        }],\n [{\n            'v': 9,\n            'f': \"9\",\n        },\n\"domain_name_embedding_domain_name_embedding_12\",\n{\n            'v': 575,\n            'f': \"575\",\n        },\n{\n            'v': 81.53925144173924,\n            'f': \"81.53925144173924\",\n        },\n{\n            'v': 8723.037317078259,\n            'f': \"8723.037317078259\",\n        }],\n [{\n            'v': 10,\n            'f': \"10\",\n        },\n\"country_code_embedding_country_code_embedding_3\",\n{\n            'v': 335,\n            'f': \"335\",\n        },\n{\n            'v': 73.11521039253726,\n            'f': \"73.11521039253726\",\n        },\n{\n            'v': 17876.980552477617,\n            'f': \"17876.980552477617\",\n        }],\n [{\n            'v': 11,\n            'f': \"11\",\n        },\n\"domain_name_embedding_domain_name_embedding_116\",\n{\n            'v': 200,\n            'f': \"200\",\n        },\n{\n            'v': 70.03838926499998,\n            'f': \"70.03838926499998\",\n        },\n{\n            'v': 8338.629449700004,\n            'f': \"8338.629449700004\",\n        }],\n [{\n            'v': 12,\n            'f': \"12\",\n        },\n\"tfidf_vector_tfidf_1\",\n{\n            'v': 11096,\n            'f': \"11096\",\n        },\n{\n            'v': 60.08535061532917,\n            'f': \"60.08535061532917\",\n        },\n{\n            'v': 8795.313259830576,\n            'f': \"8795.313259830576\",\n        }],\n [{\n            'v': 13,\n            'f': \"13\",\n        },\n\"country_code_embedding_country_code_embedding_4\",\n{\n            'v': 642,\n            'f': \"642\",\n        },\n{\n            'v': 57.69092018224307,\n            'f': \"57.69092018224307\",\n        },\n{\n            'v': 10696.392570405,\n            'f': \"10696.392570405\",\n        }],\n [{\n            'v': 14,\n            'f': \"14\",\n        },\n\"country_code_embedding_country_code_embedding_1\",\n{\n            'v': 798,\n            'f': \"798\",\n        },\n{\n            'v': 55.526717633358395,\n            'f': \"55.526717633358395\",\n        },\n{\n            'v': 15680.305859097756,\n            'f': \"15680.305859097756\",\n        }],\n [{\n            'v': 15,\n            'f': \"15\",\n        },\n\"manufacturer_embedding_manufacturer_embedding_6\",\n{\n            'v': 293,\n            'f': \"293\",\n        },\n{\n            'v': 55.30810982047781,\n            'f': \"55.30810982047781\",\n        },\n{\n            'v': 8526.4030925256,\n            'f': \"8526.4030925256\",\n        }],\n [{\n            'v': 16,\n            'f': \"16\",\n        },\n\"domain_name_embedding_domain_name_embedding_97\",\n{\n            'v': 304,\n            'f': \"304\",\n        },\n{\n            'v': 51.74935259868422,\n            'f': \"51.74935259868422\",\n        },\n{\n            'v': 9230.475264868417,\n            'f': \"9230.475264868417\",\n        }],\n [{\n            'v': 17,\n            'f': \"17\",\n        },\n\"domain_name_embedding_domain_name_embedding_73\",\n{\n            'v': 300,\n            'f': \"300\",\n        },\n{\n            'v': 49.2190796733333,\n            'f': \"49.2190796733333\",\n        },\n{\n            'v': 13702.4770658,\n            'f': \"13702.4770658\",\n        }],\n [{\n            'v': 18,\n            'f': \"18\",\n        },\n\"domain_name_embedding_domain_name_embedding_49\",\n{\n            'v': 356,\n            'f': \"356\",\n        },\n{\n            'v': 47.845015736797784,\n            'f': \"47.845015736797784\",\n        },\n{\n            'v': 15685.265921910097,\n            'f': \"15685.265921910097\",\n        }],\n [{\n            'v': 19,\n            'f': \"19\",\n        },\n\"domain_name_embedding_domain_name_embedding_85\",\n{\n            'v': 424,\n            'f': \"424\",\n        },\n{\n            'v': 47.641664672169796,\n            'f': \"47.641664672169796\",\n        },\n{\n            'v': 17228.507603207552,\n            'f': \"17228.507603207552\",\n        }],\n [{\n            'v': 20,\n            'f': \"20\",\n        },\n\"avg_seen_timestamp\",\n{\n            'v': 5654,\n            'f': \"5654\",\n        },\n{\n            'v': 47.62197635260162,\n            'f': \"47.62197635260162\",\n        },\n{\n            'v': 7628.464145210478,\n            'f': \"7628.464145210478\",\n        }],\n [{\n            'v': 21,\n            'f': \"21\",\n        },\n\"vendor_embedding_vendor_embedding_6\",\n{\n            'v': 200,\n            'f': \"200\",\n        },\n{\n            'v': 46.74552684499998,\n            'f': \"46.74552684499998\",\n        },\n{\n            'v': 18296.697992499998,\n            'f': \"18296.697992499998\",\n        }],\n [{\n            'v': 22,\n            'f': \"22\",\n        },\n\"country_code_embedding_country_code_embedding_6\",\n{\n            'v': 407,\n            'f': \"407\",\n        },\n{\n            'v': 46.21042362211311,\n            'f': \"46.21042362211311\",\n        },\n{\n            'v': 9935.349149238338,\n            'f': \"9935.349149238338\",\n        }],\n [{\n            'v': 23,\n            'f': \"23\",\n        },\n\"domain_name_embedding_domain_name_embedding_81\",\n{\n            'v': 275,\n            'f': \"275\",\n        },\n{\n            'v': 41.617246418181814,\n            'f': \"41.617246418181814\",\n        },\n{\n            'v': 5458.77598625454,\n            'f': \"5458.77598625454\",\n        }],\n [{\n            'v': 24,\n            'f': \"24\",\n        },\n\"domain_name_embedding_domain_name_embedding_29\",\n{\n            'v': 321,\n            'f': \"321\",\n        },\n{\n            'v': 39.304165218068526,\n            'f': \"39.304165218068526\",\n        },\n{\n            'v': 2083.8842734267914,\n            'f': \"2083.8842734267914\",\n        }],\n [{\n            'v': 25,\n            'f': \"25\",\n        },\n\"country_code_embedding_country_code_embedding_2\",\n{\n            'v': 676,\n            'f': \"676\",\n        },\n{\n            'v': 39.24439273772189,\n            'f': \"39.24439273772189\",\n        },\n{\n            'v': 6479.574585192315,\n            'f': \"6479.574585192315\",\n        }],\n [{\n            'v': 26,\n            'f': \"26\",\n        },\n\"day_quadrant_mode_friday\",\n{\n            'v': 1840,\n            'f': \"1840\",\n        },\n{\n            'v': 37.87104069553798,\n            'f': \"37.87104069553798\",\n        },\n{\n            'v': 9385.111451326111,\n            'f': \"9385.111451326111\",\n        }],\n [{\n            'v': 27,\n            'f': \"27\",\n        },\n\"vendor_embedding_vendor_embedding_5\",\n{\n            'v': 200,\n            'f': \"200\",\n        },\n{\n            'v': 37.84275864999999,\n            'f': \"37.84275864999999\",\n        },\n{\n            'v': 8986.325304950004,\n            'f': \"8986.325304950004\",\n        }],\n [{\n            'v': 28,\n            'f': \"28\",\n        },\n\"day_quadrant_mode_saturday\",\n{\n            'v': 1620,\n            'f': \"1620\",\n        },\n{\n            'v': 35.1842161965308,\n            'f': \"35.1842161965308\",\n        },\n{\n            'v': 8335.757830438275,\n            'f': \"8335.757830438275\",\n        }],\n [{\n            'v': 29,\n            'f': \"29\",\n        },\n\"domain_name_embedding_domain_name_embedding_47\",\n{\n            'v': 470,\n            'f': \"470\",\n        },\n{\n            'v': 35.07877406170213,\n            'f': \"35.07877406170213\",\n        },\n{\n            'v': 5894.588969872345,\n            'f': \"5894.588969872345\",\n        }],\n [{\n            'v': 30,\n            'f': \"30\",\n        },\n\"num_source_company_ids\",\n{\n            'v': 6325,\n            'f': \"6325\",\n        },\n{\n            'v': 34.476071059051435,\n            'f': \"34.476071059051435\",\n        },\n{\n            'v': 8248.346525182618,\n            'f': \"8248.346525182618\",\n        }],\n [{\n            'v': 31,\n            'f': \"31\",\n        },\n\"domain_name_embedding_domain_name_embedding_78\",\n{\n            'v': 240,\n            'f': \"240\",\n        },\n{\n            'v': 33.94263991666667,\n            'f': \"33.94263991666667\",\n        },\n{\n            'v': 4935.3458935000035,\n            'f': \"4935.3458935000035\",\n        }],\n [{\n            'v': 32,\n            'f': \"32\",\n        },\n\"fraction_full_sightings\",\n{\n            'v': 2552,\n            'f': \"2552\",\n        },\n{\n            'v': 33.462151464263314,\n            'f': \"33.462151464263314\",\n        },\n{\n            'v': 7440.549676869118,\n            'f': \"7440.549676869118\",\n        }],\n [{\n            'v': 33,\n            'f': \"33\",\n        },\n\"domain_name_embedding_domain_name_embedding_18\",\n{\n            'v': 260,\n            'f': \"260\",\n        },\n{\n            'v': 32.74489149923076,\n            'f': \"32.74489149923076\",\n        },\n{\n            'v': 5224.336635076928,\n            'f': \"5224.336635076928\",\n        }],\n [{\n            'v': 34,\n            'f': \"34\",\n        },\n\"id_type\",\n{\n            'v': 1428,\n            'f': \"1428\",\n        },\n{\n            'v': 32.6200322967646,\n            'f': \"32.6200322967646\",\n        },\n{\n            'v': 7300.3911194888115,\n            'f': \"7300.3911194888115\",\n        }],\n [{\n            'v': 35,\n            'f': \"35\",\n        },\n\"first_seen_timestamp\",\n{\n            'v': 5641,\n            'f': \"5641\",\n        },\n{\n            'v': 32.02200079701119,\n            'f': \"32.02200079701119\",\n        },\n{\n            'v': 6417.7452911611335,\n            'f': \"6417.7452911611335\",\n        }],\n [{\n            'v': 36,\n            'f': \"36\",\n        },\n\"day_quadrant_mode_sunday\",\n{\n            'v': 1819,\n            'f': \"1819\",\n        },\n{\n            'v': 31.765670390376044,\n            'f': \"31.765670390376044\",\n        },\n{\n            'v': 9882.163111533819,\n            'f': \"9882.163111533819\",\n        }],\n [{\n            'v': 37,\n            'f': \"37\",\n        },\n\"domain_name_embedding_domain_name_embedding_13\",\n{\n            'v': 610,\n            'f': \"610\",\n        },\n{\n            'v': 31.526627291803205,\n            'f': \"31.526627291803205\",\n        },\n{\n            'v': 5920.276354295085,\n            'f': \"5920.276354295085\",\n        }],\n [{\n            'v': 38,\n            'f': \"38\",\n        },\n\"domain_name_embedding_domain_name_embedding_83\",\n{\n            'v': 266,\n            'f': \"266\",\n        },\n{\n            'v': 31.008940097744393,\n            'f': \"31.008940097744393\",\n        },\n{\n            'v': 1171.7279278195492,\n            'f': \"1171.7279278195492\",\n        }],\n [{\n            'v': 39,\n            'f': \"39\",\n        },\n\"browser_name_embedding_browser_name_embedding_2\",\n{\n            'v': 244,\n            'f': \"244\",\n        },\n{\n            'v': 30.98919902295081,\n            'f': \"30.98919902295081\",\n        },\n{\n            'v': 2582.7937468032796,\n            'f': \"2582.7937468032796\",\n        }],\n [{\n            'v': 40,\n            'f': \"40\",\n        },\n\"domain_name_embedding_domain_name_embedding_110\",\n{\n            'v': 398,\n            'f': \"398\",\n        },\n{\n            'v': 28.66030933165833,\n            'f': \"28.66030933165833\",\n        },\n{\n            'v': 5537.921735477381,\n            'f': \"5537.921735477381\",\n        }],\n [{\n            'v': 41,\n            'f': \"41\",\n        },\n\"domain_name_embedding_domain_name_embedding_35\",\n{\n            'v': 262,\n            'f': \"262\",\n        },\n{\n            'v': 28.595485885496178,\n            'f': \"28.595485885496178\",\n        },\n{\n            'v': 6749.440423740447,\n            'f': \"6749.440423740447\",\n        }],\n [{\n            'v': 42,\n            'f': \"42\",\n        },\n\"domain_name_embedding_domain_name_embedding_23\",\n{\n            'v': 576,\n            'f': \"576\",\n        },\n{\n            'v': 28.04028881076385,\n            'f': \"28.04028881076385\",\n        },\n{\n            'v': 5860.506736458338,\n            'f': \"5860.506736458338\",\n        }],\n [{\n            'v': 43,\n            'f': \"43\",\n        },\n\"domain_name_embedding_domain_name_embedding_58\",\n{\n            'v': 370,\n            'f': \"370\",\n        },\n{\n            'v': 27.38452484999999,\n            'f': \"27.38452484999999\",\n        },\n{\n            'v': 5231.622469189189,\n            'f': \"5231.622469189189\",\n        }],\n [{\n            'v': 44,\n            'f': \"44\",\n        },\n\"domain_name_embedding_domain_name_embedding_114\",\n{\n            'v': 212,\n            'f': \"212\",\n        },\n{\n            'v': 27.316706325471703,\n            'f': \"27.316706325471703\",\n        },\n{\n            'v': 2701.3021260377354,\n            'f': \"2701.3021260377354\",\n        }],\n [{\n            'v': 45,\n            'f': \"45\",\n        },\n\"domain_name_embedding_domain_name_embedding_102\",\n{\n            'v': 302,\n            'f': \"302\",\n        },\n{\n            'v': 27.26283455629141,\n            'f': \"27.26283455629141\",\n        },\n{\n            'v': 6801.062890728477,\n            'f': \"6801.062890728477\",\n        }],\n [{\n            'v': 46,\n            'f': \"46\",\n        },\n\"connection_speed_embedding_connection_speed_embedding_3\",\n{\n            'v': 92,\n            'f': \"92\",\n        },\n{\n            'v': 26.523462173913043,\n            'f': \"26.523462173913043\",\n        },\n{\n            'v': 32496.884130434762,\n            'f': \"32496.884130434762\",\n        }],\n [{\n            'v': 47,\n            'f': \"47\",\n        },\n\"domain_name_embedding_domain_name_embedding_93\",\n{\n            'v': 357,\n            'f': \"357\",\n        },\n{\n            'v': 26.097621663865556,\n            'f': \"26.097621663865556\",\n        },\n{\n            'v': 5053.827876862744,\n            'f': \"5053.827876862744\",\n        }],\n [{\n            'v': 48,\n            'f': \"48\",\n        },\n\"domain_name_embedding_domain_name_embedding_112\",\n{\n            'v': 191,\n            'f': \"191\",\n        },\n{\n            'v': 26.083067759162333,\n            'f': \"26.083067759162333\",\n        },\n{\n            'v': 2386.1309664921446,\n            'f': \"2386.1309664921446\",\n        }],\n [{\n            'v': 49,\n            'f': \"49\",\n        },\n\"domain_name_embedding_domain_name_embedding_82\",\n{\n            'v': 384,\n            'f': \"384\",\n        },\n{\n            'v': 25.46895336197917,\n            'f': \"25.46895336197917\",\n        },\n{\n            'v': 3168.5459416145804,\n            'f': \"3168.5459416145804\",\n        }],\n [{\n            'v': 50,\n            'f': \"50\",\n        },\n\"domain_name_embedding_domain_name_embedding_88\",\n{\n            'v': 258,\n            'f': \"258\",\n        },\n{\n            'v': 25.31797203100773,\n            'f': \"25.31797203100773\",\n        },\n{\n            'v': 3821.969353333334,\n            'f': \"3821.969353333334\",\n        }],\n [{\n            'v': 51,\n            'f': \"51\",\n        },\n\"connection_speed_embedding_connection_speed_embedding_2\",\n{\n            'v': 275,\n            'f': \"275\",\n        },\n{\n            'v': 24.25205098036361,\n            'f': \"24.25205098036361\",\n        },\n{\n            'v': 5753.405024290915,\n            'f': \"5753.405024290915\",\n        }],\n [{\n            'v': 52,\n            'f': \"52\",\n        },\n\"carrier_name_embedding_carrier_name_embedding_4\",\n{\n            'v': 245,\n            'f': \"245\",\n        },\n{\n            'v': 24.222232522857155,\n            'f': \"24.222232522857155\",\n        },\n{\n            'v': 6111.7430866122495,\n            'f': \"6111.7430866122495\",\n        }],\n [{\n            'v': 53,\n            'f': \"53\",\n        },\n\"domain_name_embedding_domain_name_embedding_95\",\n{\n            'v': 206,\n            'f': \"206\",\n        },\n{\n            'v': 23.958346762135903,\n            'f': \"23.958346762135903\",\n        },\n{\n            'v': 3819.682612427185,\n            'f': \"3819.682612427185\",\n        }],\n [{\n            'v': 54,\n            'f': \"54\",\n        },\n\"domain_name_embedding_domain_name_embedding_72\",\n{\n            'v': 402,\n            'f': \"402\",\n        },\n{\n            'v': 23.740410955223922,\n            'f': \"23.740410955223922\",\n        },\n{\n            'v': 4202.148447661691,\n            'f': \"4202.148447661691\",\n        }],\n [{\n            'v': 55,\n            'f': \"55\",\n        },\n\"tfidf_vector_tfidf_4\",\n{\n            'v': 362,\n            'f': \"362\",\n        },\n{\n            'v': 22.666555053149178,\n            'f': \"22.666555053149178\",\n        },\n{\n            'v': 4235.47862734807,\n            'f': \"4235.47862734807\",\n        }],\n [{\n            'v': 56,\n            'f': \"56\",\n        },\n\"domain_name_embedding_domain_name_embedding_50\",\n{\n            'v': 310,\n            'f': \"310\",\n        },\n{\n            'v': 22.51772752580642,\n            'f': \"22.51772752580642\",\n        },\n{\n            'v': 4433.21187670967,\n            'f': \"4433.21187670967\",\n        }],\n [{\n            'v': 57,\n            'f': \"57\",\n        },\n\"domain_name_embedding_domain_name_embedding_64\",\n{\n            'v': 333,\n            'f': \"333\",\n        },\n{\n            'v': 22.347484623423426,\n            'f': \"22.347484623423426\",\n        },\n{\n            'v': 4350.132794474475,\n            'f': \"4350.132794474475\",\n        }],\n [{\n            'v': 58,\n            'f': \"58\",\n        },\n\"day_quadrant_mode_wednesday\",\n{\n            'v': 1734,\n            'f': \"1734\",\n        },\n{\n            'v': 22.29776444418106,\n            'f': \"22.29776444418106\",\n        },\n{\n            'v': 7376.973917560562,\n            'f': \"7376.973917560562\",\n        }],\n [{\n            'v': 59,\n            'f': \"59\",\n        },\n\"domain_name_embedding_domain_name_embedding_4\",\n{\n            'v': 499,\n            'f': \"499\",\n        },\n{\n            'v': 21.611443416032078,\n            'f': \"21.611443416032078\",\n        },\n{\n            'v': 2500.0452255511022,\n            'f': \"2500.0452255511022\",\n        }],\n [{\n            'v': 60,\n            'f': \"60\",\n        },\n\"domain_name_embedding_domain_name_embedding_96\",\n{\n            'v': 320,\n            'f': \"320\",\n        },\n{\n            'v': 20.368022806249996,\n            'f': \"20.368022806249996\",\n        },\n{\n            'v': 3448.539036625001,\n            'f': \"3448.539036625001\",\n        }],\n [{\n            'v': 61,\n            'f': \"61\",\n        },\n\"domain_name_embedding_domain_name_embedding_105\",\n{\n            'v': 445,\n            'f': \"445\",\n        },\n{\n            'v': 19.907028653932578,\n            'f': \"19.907028653932578\",\n        },\n{\n            'v': 5004.516480584273,\n            'f': \"5004.516480584273\",\n        }],\n [{\n            'v': 62,\n            'f': \"62\",\n        },\n\"domain_name_embedding_domain_name_embedding_46\",\n{\n            'v': 288,\n            'f': \"288\",\n        },\n{\n            'v': 18.79181678472223,\n            'f': \"18.79181678472223\",\n        },\n{\n            'v': 3852.184401527777,\n            'f': \"3852.184401527777\",\n        }],\n [{\n            'v': 63,\n            'f': \"63\",\n        },\n\"domain_name_embedding_domain_name_embedding_80\",\n{\n            'v': 406,\n            'f': \"406\",\n        },\n{\n            'v': 18.713451014778315,\n            'f': \"18.713451014778315\",\n        },\n{\n            'v': 4137.650272019706,\n            'f': \"4137.650272019706\",\n        }],\n [{\n            'v': 64,\n            'f': \"64\",\n        },\n\"manufacturer_embedding_manufacturer_embedding_2\",\n{\n            'v': 318,\n            'f': \"318\",\n        },\n{\n            'v': 18.481260053459106,\n            'f': \"18.481260053459106\",\n        },\n{\n            'v': 5739.430020849053,\n            'f': \"5739.430020849053\",\n        }],\n [{\n            'v': 65,\n            'f': \"65\",\n        },\n\"domain_name_embedding_domain_name_embedding_28\",\n{\n            'v': 436,\n            'f': \"436\",\n        },\n{\n            'v': 18.346575648394488,\n            'f': \"18.346575648394488\",\n        },\n{\n            'v': 4820.421017293577,\n            'f': \"4820.421017293577\",\n        }],\n [{\n            'v': 66,\n            'f': \"66\",\n        },\n\"domain_name_embedding_domain_name_embedding_115\",\n{\n            'v': 306,\n            'f': \"306\",\n        },\n{\n            'v': 18.28727694183007,\n            'f': \"18.28727694183007\",\n        },\n{\n            'v': 4575.66697627451,\n            'f': \"4575.66697627451\",\n        }],\n [{\n            'v': 67,\n            'f': \"67\",\n        },\n\"carrier_name_embedding_carrier_name_embedding_5\",\n{\n            'v': 300,\n            'f': \"300\",\n        },\n{\n            'v': 17.99004810333334,\n            'f': \"17.99004810333334\",\n        },\n{\n            'v': 7502.955789866677,\n            'f': \"7502.955789866677\",\n        }],\n [{\n            'v': 68,\n            'f': \"68\",\n        },\n\"connection_speed_embedding_connection_speed_embedding_0\",\n{\n            'v': 440,\n            'f': \"440\",\n        },\n{\n            'v': 17.962532072499986,\n            'f': \"17.962532072499986\",\n        },\n{\n            'v': 3711.5135775000035,\n            'f': \"3711.5135775000035\",\n        }],\n [{\n            'v': 69,\n            'f': \"69\",\n        },\n\"domain_name_embedding_domain_name_embedding_15\",\n{\n            'v': 550,\n            'f': \"550\",\n        },\n{\n            'v': 17.908848615454545,\n            'f': \"17.908848615454545\",\n        },\n{\n            'v': 2760.2743111272725,\n            'f': \"2760.2743111272725\",\n        }],\n [{\n            'v': 70,\n            'f': \"70\",\n        },\n\"domain_name_embedding_domain_name_embedding_75\",\n{\n            'v': 383,\n            'f': \"383\",\n        },\n{\n            'v': 17.4388020287206,\n            'f': \"17.4388020287206\",\n        },\n{\n            'v': 4167.068922663187,\n            'f': \"4167.068922663187\",\n        }],\n [{\n            'v': 71,\n            'f': \"71\",\n        },\n\"domain_name_embedding_domain_name_embedding_16\",\n{\n            'v': 502,\n            'f': \"502\",\n        },\n{\n            'v': 17.42080862111554,\n            'f': \"17.42080862111554\",\n        },\n{\n            'v': 4252.830720199207,\n            'f': \"4252.830720199207\",\n        }],\n [{\n            'v': 72,\n            'f': \"72\",\n        },\n\"browser_name_embedding_browser_name_embedding_1\",\n{\n            'v': 340,\n            'f': \"340\",\n        },\n{\n            'v': 17.38798161382354,\n            'f': \"17.38798161382354\",\n        },\n{\n            'v': 5856.144613323529,\n            'f': \"5856.144613323529\",\n        }],\n [{\n            'v': 73,\n            'f': \"73\",\n        },\n\"domain_name_embedding_domain_name_embedding_36\",\n{\n            'v': 448,\n            'f': \"448\",\n        },\n{\n            'v': 17.207789616071423,\n            'f': \"17.207789616071423\",\n        },\n{\n            'v': 4944.8063002008885,\n            'f': \"4944.8063002008885\",\n        }],\n [{\n            'v': 74,\n            'f': \"74\",\n        },\n\"tfidf_vector_tfidf_10\",\n{\n            'v': 190,\n            'f': \"190\",\n        },\n{\n            'v': 17.172557231578935,\n            'f': \"17.172557231578935\",\n        },\n{\n            'v': 5236.700493052629,\n            'f': \"5236.700493052629\",\n        }],\n [{\n            'v': 75,\n            'f': \"75\",\n        },\n\"domain_name_embedding_domain_name_embedding_31\",\n{\n            'v': 339,\n            'f': \"339\",\n        },\n{\n            'v': 17.155648812389384,\n            'f': \"17.155648812389384\",\n        },\n{\n            'v': 2588.2474969321556,\n            'f': \"2588.2474969321556\",\n        }],\n [{\n            'v': 76,\n            'f': \"76\",\n        },\n\"domain_name_embedding_domain_name_embedding_55\",\n{\n            'v': 350,\n            'f': \"350\",\n        },\n{\n            'v': 17.150608402571436,\n            'f': \"17.150608402571436\",\n        },\n{\n            'v': 8475.288343085727,\n            'f': \"8475.288343085727\",\n        }],\n [{\n            'v': 77,\n            'f': \"77\",\n        },\n\"num_distinct_sightings\",\n{\n            'v': 4311,\n            'f': \"4311\",\n        },\n{\n            'v': 17.07031721764413,\n            'f': \"17.07031721764413\",\n        },\n{\n            'v': 2483.298996511262,\n            'f': \"2483.298996511262\",\n        }],\n [{\n            'v': 78,\n            'f': \"78\",\n        },\n\"region_code_embedding_region_code_embedding_5\",\n{\n            'v': 1132,\n            'f': \"1132\",\n        },\n{\n            'v': 16.99732546051239,\n            'f': \"16.99732546051239\",\n        },\n{\n            'v': 2015.5937090459388,\n            'f': \"2015.5937090459388\",\n        }],\n [{\n            'v': 79,\n            'f': \"79\",\n        },\n\"domain_name_embedding_domain_name_embedding_68\",\n{\n            'v': 472,\n            'f': \"472\",\n        },\n{\n            'v': 16.888621493644063,\n            'f': \"16.888621493644063\",\n        },\n{\n            'v': 5031.561762605942,\n            'f': \"5031.561762605942\",\n        }],\n [{\n            'v': 80,\n            'f': \"80\",\n        },\n\"day_quadrant_mode_thursday\",\n{\n            'v': 1997,\n            'f': \"1997\",\n        },\n{\n            'v': 16.734574796024003,\n            'f': \"16.734574796024003\",\n        },\n{\n            'v': 5815.724319093638,\n            'f': \"5815.724319093638\",\n        }],\n [{\n            'v': 81,\n            'f': \"81\",\n        },\n\"domain_name_embedding_domain_name_embedding_113\",\n{\n            'v': 366,\n            'f': \"366\",\n        },\n{\n            'v': 16.555293519125684,\n            'f': \"16.555293519125684\",\n        },\n{\n            'v': 3239.871122622952,\n            'f': \"3239.871122622952\",\n        }],\n [{\n            'v': 82,\n            'f': \"82\",\n        },\n\"tfidf_vector_tfidf_3\",\n{\n            'v': 756,\n            'f': \"756\",\n        },\n{\n            'v': 16.427740710978785,\n            'f': \"16.427740710978785\",\n        },\n{\n            'v': 3703.2545435978814,\n            'f': \"3703.2545435978814\",\n        }],\n [{\n            'v': 83,\n            'f': \"83\",\n        },\n\"domain_name_embedding_domain_name_embedding_44\",\n{\n            'v': 404,\n            'f': \"404\",\n        },\n{\n            'v': 16.407170282178214,\n            'f': \"16.407170282178214\",\n        },\n{\n            'v': 6578.904352128718,\n            'f': \"6578.904352128718\",\n        }],\n [{\n            'v': 84,\n            'f': \"84\",\n        },\n\"tfidf_vector_tfidf_2\",\n{\n            'v': 2424,\n            'f': \"2424\",\n        },\n{\n            'v': 16.314760292408756,\n            'f': \"16.314760292408756\",\n        },\n{\n            'v': 4487.074602215352,\n            'f': \"4487.074602215352\",\n        }],\n [{\n            'v': 85,\n            'f': \"85\",\n        },\n\"domain_name_embedding_domain_name_embedding_87\",\n{\n            'v': 205,\n            'f': \"205\",\n        },\n{\n            'v': 16.222277053658548,\n            'f': \"16.222277053658548\",\n        },\n{\n            'v': 3570.6054283902445,\n            'f': \"3570.6054283902445\",\n        }],\n [{\n            'v': 86,\n            'f': \"86\",\n        },\n\"vendor_embedding_vendor_embedding_13\",\n{\n            'v': 214,\n            'f': \"214\",\n        },\n{\n            'v': 16.157710411214953,\n            'f': \"16.157710411214953\",\n        },\n{\n            'v': 3019.083966261682,\n            'f': \"3019.083966261682\",\n        }],\n [{\n            'v': 87,\n            'f': \"87\",\n        },\n\"ip_1_embedding_ip_1_embedding_9\",\n{\n            'v': 1019,\n            'f': \"1019\",\n        },\n{\n            'v': 16.11127882531892,\n            'f': \"16.11127882531892\",\n        },\n{\n            'v': 2680.7624942492644,\n            'f': \"2680.7624942492644\",\n        }],\n [{\n            'v': 88,\n            'f': \"88\",\n        },\n\"os_name_embedding_os_name_embedding_2\",\n{\n            'v': 103,\n            'f': \"103\",\n        },\n{\n            'v': 16.040841009708746,\n            'f': \"16.040841009708746\",\n        },\n{\n            'v': 5459.7885126213605,\n            'f': \"5459.7885126213605\",\n        }],\n [{\n            'v': 89,\n            'f': \"89\",\n        },\n\"tfidf_vector_tfidf_5\",\n{\n            'v': 282,\n            'f': \"282\",\n        },\n{\n            'v': 15.873833466312057,\n            'f': \"15.873833466312057\",\n        },\n{\n            'v': 3049.039098156029,\n            'f': \"3049.039098156029\",\n        }],\n [{\n            'v': 90,\n            'f': \"90\",\n        },\n\"domain_name_embedding_domain_name_embedding_77\",\n{\n            'v': 383,\n            'f': \"383\",\n        },\n{\n            'v': 15.805269481462133,\n            'f': \"15.805269481462133\",\n        },\n{\n            'v': 2946.9671358224527,\n            'f': \"2946.9671358224527\",\n        }],\n [{\n            'v': 91,\n            'f': \"91\",\n        },\n\"day_quadrant_mode_monday\",\n{\n            'v': 1878,\n            'f': \"1878\",\n        },\n{\n            'v': 15.792701044595296,\n            'f': \"15.792701044595296\",\n        },\n{\n            'v': 4142.680826970182,\n            'f': \"4142.680826970182\",\n        }],\n [{\n            'v': 92,\n            'f': \"92\",\n        },\n\"domain_name_embedding_domain_name_embedding_90\",\n{\n            'v': 202,\n            'f': \"202\",\n        },\n{\n            'v': 15.204048564356444,\n            'f': \"15.204048564356444\",\n        },\n{\n            'v': 2906.0773420792066,\n            'f': \"2906.0773420792066\",\n        }],\n [{\n            'v': 93,\n            'f': \"93\",\n        },\n\"domain_name_embedding_domain_name_embedding_91\",\n{\n            'v': 218,\n            'f': \"218\",\n        },\n{\n            'v': 14.54354090366973,\n            'f': \"14.54354090366973\",\n        },\n{\n            'v': 3206.7045918348626,\n            'f': \"3206.7045918348626\",\n        }],\n [{\n            'v': 94,\n            'f': \"94\",\n        },\n\"gmt_offset_embedding_gmt_offset_embedding_2\",\n{\n            'v': 120,\n            'f': \"120\",\n        },\n{\n            'v': 14.301156341666664,\n            'f': \"14.301156341666664\",\n        },\n{\n            'v': 1622.2273333333346,\n            'f': \"1622.2273333333346\",\n        }],\n [{\n            'v': 95,\n            'f': \"95\",\n        },\n\"domain_name_embedding_domain_name_embedding_26\",\n{\n            'v': 458,\n            'f': \"458\",\n        },\n{\n            'v': 14.239043795305678,\n            'f': \"14.239043795305678\",\n        },\n{\n            'v': 3601.371918864631,\n            'f': \"3601.371918864631\",\n        }],\n [{\n            'v': 96,\n            'f': \"96\",\n        },\n\"vendor_embedding_vendor_embedding_10\",\n{\n            'v': 175,\n            'f': \"175\",\n        },\n{\n            'v': 14.083220182857133,\n            'f': \"14.083220182857133\",\n        },\n{\n            'v': 4914.386997714287,\n            'f': \"4914.386997714287\",\n        }],\n [{\n            'v': 97,\n            'f': \"97\",\n        },\n\"carrier_name_embedding_carrier_name_embedding_1\",\n{\n            'v': 557,\n            'f': \"557\",\n        },\n{\n            'v': 14.068623331418342,\n            'f': \"14.068623331418342\",\n        },\n{\n            'v': 1685.5090300718127,\n            'f': \"1685.5090300718127\",\n        }],\n [{\n            'v': 98,\n            'f': \"98\",\n        },\n\"domain_name_embedding_domain_name_embedding_25\",\n{\n            'v': 383,\n            'f': \"383\",\n        },\n{\n            'v': 13.929240132637068,\n            'f': \"13.929240132637068\",\n        },\n{\n            'v': 2863.1756456919056,\n            'f': \"2863.1756456919056\",\n        }],\n [{\n            'v': 99,\n            'f': \"99\",\n        },\n\"domain_name_embedding_domain_name_embedding_19\",\n{\n            'v': 345,\n            'f': \"345\",\n        },\n{\n            'v': 13.747340747246364,\n            'f': \"13.747340747246364\",\n        },\n{\n            'v': 3013.1169024347832,\n            'f': \"3013.1169024347832\",\n        }]],\n        columns: [[\"number\", \"index\"], [\"string\", \"feature\"], [\"number\", \"importance_weight\"], [\"number\", \"importance_gain\"], [\"number\", \"importance_cover\"]],\n        columnOptions: [{\"width\": \"1px\", \"className\": \"index_column\"}],\n        rowsPerPage: 25,\n        helpUrl: \"https://colab.research.google.com/notebooks/data_table.ipynb\",\n        suppressOutputScrolling: true,\n        minimumWidth: undefined,\n      });\n    ",
            "text/html": [
              "<div>\n",
              "<style scoped>\n",
              "    .dataframe tbody tr th:only-of-type {\n",
              "        vertical-align: middle;\n",
              "    }\n",
              "\n",
              "    .dataframe tbody tr th {\n",
              "        vertical-align: top;\n",
              "    }\n",
              "\n",
              "    .dataframe thead th {\n",
              "        text-align: right;\n",
              "    }\n",
              "</style>\n",
              "<table border=\"1\" class=\"dataframe\">\n",
              "  <thead>\n",
              "    <tr style=\"text-align: right;\">\n",
              "      <th></th>\n",
              "      <th>feature</th>\n",
              "      <th>importance_weight</th>\n",
              "      <th>importance_gain</th>\n",
              "      <th>importance_cover</th>\n",
              "    </tr>\n",
              "  </thead>\n",
              "  <tbody>\n",
              "    <tr>\n",
              "      <th>0</th>\n",
              "      <td>os_name_embedding_os_name_embedding_5</td>\n",
              "      <td>62</td>\n",
              "      <td>933.604012</td>\n",
              "      <td>89646.587390</td>\n",
              "    </tr>\n",
              "    <tr>\n",
              "      <th>1</th>\n",
              "      <td>domain_name_embedding_domain_name_embedding_65</td>\n",
              "      <td>302</td>\n",
              "      <td>402.822983</td>\n",
              "      <td>63865.150461</td>\n",
              "    </tr>\n",
              "    <tr>\n",
              "      <th>2</th>\n",
              "      <td>domain_name_embedding_domain_name_embedding_117</td>\n",
              "      <td>264</td>\n",
              "      <td>298.630470</td>\n",
              "      <td>44919.747851</td>\n",
              "    </tr>\n",
              "    <tr>\n",
              "      <th>3</th>\n",
              "      <td>domain_name_embedding_domain_name_embedding_21</td>\n",
              "      <td>294</td>\n",
              "      <td>288.127428</td>\n",
              "      <td>32132.819389</td>\n",
              "    </tr>\n",
              "    <tr>\n",
              "      <th>4</th>\n",
              "      <td>country_code_embedding_country_code_embedding_5</td>\n",
              "      <td>500</td>\n",
              "      <td>282.965734</td>\n",
              "      <td>22046.571206</td>\n",
              "    </tr>\n",
              "    <tr>\n",
              "      <th>...</th>\n",
              "      <td>...</td>\n",
              "      <td>...</td>\n",
              "      <td>...</td>\n",
              "      <td>...</td>\n",
              "    </tr>\n",
              "    <tr>\n",
              "      <th>95</th>\n",
              "      <td>domain_name_embedding_domain_name_embedding_26</td>\n",
              "      <td>458</td>\n",
              "      <td>14.239044</td>\n",
              "      <td>3601.371919</td>\n",
              "    </tr>\n",
              "    <tr>\n",
              "      <th>96</th>\n",
              "      <td>vendor_embedding_vendor_embedding_10</td>\n",
              "      <td>175</td>\n",
              "      <td>14.083220</td>\n",
              "      <td>4914.386998</td>\n",
              "    </tr>\n",
              "    <tr>\n",
              "      <th>97</th>\n",
              "      <td>carrier_name_embedding_carrier_name_embedding_1</td>\n",
              "      <td>557</td>\n",
              "      <td>14.068623</td>\n",
              "      <td>1685.509030</td>\n",
              "    </tr>\n",
              "    <tr>\n",
              "      <th>98</th>\n",
              "      <td>domain_name_embedding_domain_name_embedding_25</td>\n",
              "      <td>383</td>\n",
              "      <td>13.929240</td>\n",
              "      <td>2863.175646</td>\n",
              "    </tr>\n",
              "    <tr>\n",
              "      <th>99</th>\n",
              "      <td>domain_name_embedding_domain_name_embedding_19</td>\n",
              "      <td>345</td>\n",
              "      <td>13.747341</td>\n",
              "      <td>3013.116902</td>\n",
              "    </tr>\n",
              "  </tbody>\n",
              "</table>\n",
              "<p>100 rows × 4 columns</p>\n",
              "</div>"
            ],
            "text/plain": [
              "                                            feature  ...  importance_cover\n",
              "0             os_name_embedding_os_name_embedding_5  ...      89646.587390\n",
              "1    domain_name_embedding_domain_name_embedding_65  ...      63865.150461\n",
              "2   domain_name_embedding_domain_name_embedding_117  ...      44919.747851\n",
              "3    domain_name_embedding_domain_name_embedding_21  ...      32132.819389\n",
              "4   country_code_embedding_country_code_embedding_5  ...      22046.571206\n",
              "..                                              ...  ...               ...\n",
              "95   domain_name_embedding_domain_name_embedding_26  ...       3601.371919\n",
              "96             vendor_embedding_vendor_embedding_10  ...       4914.386998\n",
              "97  carrier_name_embedding_carrier_name_embedding_1  ...       1685.509030\n",
              "98   domain_name_embedding_domain_name_embedding_25  ...       2863.175646\n",
              "99   domain_name_embedding_domain_name_embedding_19  ...       3013.116902\n",
              "\n",
              "[100 rows x 4 columns]"
            ]
          },
          "metadata": {
            "tags": []
          },
          "execution_count": 7
        }
      ]
    },
    {
      "cell_type": "code",
      "metadata": {
        "id": "XQEZYw0qHzhG"
      },
      "source": [
        "# extract the top k features so we can use them in the bq table\n",
        "features_selected=get_top_k_features_name(model_name=model_name,table=table,k=100)"
      ],
      "execution_count": 28,
      "outputs": []
    },
    {
      "cell_type": "code",
      "metadata": {
        "colab": {
          "base_uri": "https://localhost:8080/",
          "height": 142
        },
        "id": "t7xUQ_wyHgqI",
        "outputId": "c1869af0-9a06-4062-e337-fabe5c206ef6"
      },
      "source": [
        "# to test the model\n",
        "table='household_persistence_31features_with_embeddings_testing'\n",
        "# create a our model name\n",
        "model_name='household_persistence_31features_with_embeddings_training_model_feature_selection_res'\n",
        "\n",
        "# select the top 100 features in the testing data and apply xgboost on that \n",
        "res=run_bqml_selected_features(table=table,model_name=model_name,selected_features=features_selected,max_tree_depth=14,learn_rate=0.079)\n",
        "res"
      ],
      "execution_count": 31,
      "outputs": [
        {
          "output_type": "execute_result",
          "data": {
            "application/vnd.google.colaboratory.module+javascript": "\n      import \"https://ssl.gstatic.com/colaboratory/data_table/a6224c040fa35dcf/data_table.js\";\n\n      window.createDataTable({\n        data: [[{\n            'v': 0,\n            'f': \"0\",\n        },\n{\n            'v': 0.807,\n            'f': \"0.807\",\n        },\n{\n            'v': 0.643,\n            'f': \"0.643\",\n        },\n{\n            'v': 0.802,\n            'f': \"0.802\",\n        },\n{\n            'v': 0.716,\n            'f': \"0.716\",\n        },\n{\n            'v': 0.43,\n            'f': \"0.43\",\n        },\n{\n            'v': 0.892,\n            'f': \"0.892\",\n        },\n\"household_persistence_31features_with_embeddings_training_model_feature_selection_res\",\n{\n            'v': 3434.249,\n            'f': \"3434.249\",\n        },\n\"0.0h 57.0min 14.0s\"]],\n        columns: [[\"number\", \"index\"], [\"number\", \"precision\"], [\"number\", \"recall\"], [\"number\", \"accuracy\"], [\"number\", \"f1_score\"], [\"number\", \"log_loss\"], [\"number\", \"roc_auc\"], [\"string\", \"model_name\"], [\"number\", \"time_sec\"], [\"string\", \"time\"]],\n        columnOptions: [{\"width\": \"1px\", \"className\": \"index_column\"}],\n        rowsPerPage: 25,\n        helpUrl: \"https://colab.research.google.com/notebooks/data_table.ipynb\",\n        suppressOutputScrolling: true,\n        minimumWidth: undefined,\n      });\n    ",
            "text/html": [
              "<div>\n",
              "<style scoped>\n",
              "    .dataframe tbody tr th:only-of-type {\n",
              "        vertical-align: middle;\n",
              "    }\n",
              "\n",
              "    .dataframe tbody tr th {\n",
              "        vertical-align: top;\n",
              "    }\n",
              "\n",
              "    .dataframe thead th {\n",
              "        text-align: right;\n",
              "    }\n",
              "</style>\n",
              "<table border=\"1\" class=\"dataframe\">\n",
              "  <thead>\n",
              "    <tr style=\"text-align: right;\">\n",
              "      <th></th>\n",
              "      <th>precision</th>\n",
              "      <th>recall</th>\n",
              "      <th>accuracy</th>\n",
              "      <th>f1_score</th>\n",
              "      <th>log_loss</th>\n",
              "      <th>roc_auc</th>\n",
              "      <th>model_name</th>\n",
              "      <th>time_sec</th>\n",
              "      <th>time</th>\n",
              "    </tr>\n",
              "  </thead>\n",
              "  <tbody>\n",
              "    <tr>\n",
              "      <th>0</th>\n",
              "      <td>0.807</td>\n",
              "      <td>0.643</td>\n",
              "      <td>0.802</td>\n",
              "      <td>0.716</td>\n",
              "      <td>0.43</td>\n",
              "      <td>0.892</td>\n",
              "      <td>household_persistence_31features_with_embeddin...</td>\n",
              "      <td>3434.249</td>\n",
              "      <td>0.0h 57.0min 14.0s</td>\n",
              "    </tr>\n",
              "  </tbody>\n",
              "</table>\n",
              "</div>"
            ],
            "text/plain": [
              "   precision  recall  ...  time_sec                time\n",
              "0      0.807   0.643  ...  3434.249  0.0h 57.0min 14.0s\n",
              "\n",
              "[1 rows x 9 columns]"
            ]
          },
          "metadata": {
            "tags": []
          },
          "execution_count": 31
        }
      ]
    },
    {
      "cell_type": "markdown",
      "metadata": {
        "id": "kApivDtihofY"
      },
      "source": [
        "Condition Extra:\n",
        "- replicate the result using a different sampling approach from the DG data\n",
        "- condition : pick the model (HH with embeddings, selected features) that performs the best and see if the new sampling approach can replicate the result"
      ]
    },
    {
      "cell_type": "code",
      "metadata": {
        "id": "yN91Pd8mhoPA"
      },
      "source": [
        "# before we use the farm_fingerprint -- hash code sample the training data and testing data :\n",
        "# the advantage of this is that everytime we do the sampling, it gave us the same sample \n",
        "# here, we want to draw a different sample, so we use rand() instead \n",
        "# STEP 1 -SAME \n",
        "# STEP 2 - 1. use rand() to get 2M rows first , and separtate them into training (odd rand_number) and testing(even rand_number) data set \n",
        "\n",
        "random_pick_2m='''\n",
        "SELECT *, cast(ceiling(rand()*2000000) as int64) as rand_num\n",
        " FROM `tapad-identity-stg.persistence_embedding_sub_pipeline_testing.persistence_embedding_previous2weeks_combined_household` \n",
        " where rand()<2100000/4845354\n",
        " limit 2000000\n",
        "'''\n",
        "\n"
      ],
      "execution_count": null,
      "outputs": []
    },
    {
      "cell_type": "markdown",
      "metadata": {
        "id": "4ZlH-gXW0Alh"
      },
      "source": [
        "###Helper function"
      ]
    },
    {
      "cell_type": "markdown",
      "metadata": {
        "id": "u15TXykBTEz-"
      },
      "source": [
        "Flatten the table"
      ]
    },
    {
      "cell_type": "code",
      "metadata": {
        "id": "kC5mYUaFTEcA"
      },
      "source": [
        "# the code was written in dynamic sql\n",
        "# not quite sure if it can be implemented into a python notebook.\n",
        "# to successfuly run in the bq, replace {} with the actual string\n",
        "\n",
        "# logic of this sql function: \n",
        "# extract the column names from schema --> change it to an array --> to a string\n",
        "# --> use the column names to create a new table (flat)\n",
        "def flatten_table(input_table=None,output_table=None):\n",
        "  sql_code=f'''\n",
        "      -- Declare a variable to hold names as an array.\n",
        "  DECLARE\n",
        "    col_names ARRAY<string>;\n",
        "  DECLARE\n",
        "    sql STRING;\n",
        "    -- get the filed_path and get rid of the record name\n",
        "  SET\n",
        "    col_names = (\n",
        "    SELECT\n",
        "      ARRAY_AGG(field_path)\n",
        "    FROM\n",
        "      `tapad-identity-stg`.{data_set}.INFORMATION_SCHEMA.COLUMN_FIELD_PATHS\n",
        "    WHERE\n",
        "      table_name=\"{input_table}\"\n",
        "      AND data_type IN (\"FLOAT64\",\"INT64\",\"STRING\"));\n",
        "    -- create the flattened table\n",
        "  SET\n",
        "    sql = CONCAT('create table `{data_set}.{output_table}` as ','(select ',\" \", ARRAY_TO_STRING(col_names,\",\"), \" \", \" from `{project_id}.{data_set}.{input_table}`)\");\n",
        "  EXECUTE IMMEDIATE\n",
        "    sql ;\n",
        "  '''\n",
        "  query_job=client.query(sql_code)\n",
        "  query_job.result()\n",
        "  return"
      ],
      "execution_count": 9,
      "outputs": []
    },
    {
      "cell_type": "markdown",
      "metadata": {
        "id": "maxyuBlg1KHq"
      },
      "source": [
        "run bqml"
      ]
    },
    {
      "cell_type": "code",
      "metadata": {
        "id": "nTdvH7id0HhR"
      },
      "source": [
        "# run bqml\n",
        "# return evaluation staistics and the time cost \n",
        "def run_bqml(dataset=data_set,model_name=model_name,table=table,max_tree_depth=None,learn_rate=None):\n",
        "  sql_code= f'''\n",
        "      CREATE OR REPLACE MODEL {data_set}.{model_name} OPTIONS(MODEL_TYPE='BOOSTED_TREE_CLASSIFIER',\n",
        "      BOOSTER_TYPE = 'GBTREE',\n",
        "      NUM_PARALLEL_TREE = 1,\n",
        "      MAX_ITERATIONS = 100,\n",
        "      MAX_TREE_DEPTH = {max_tree_depth},\n",
        "      LEARN_RATE = {learn_rate},\n",
        "      EARLY_STOP = TRUE,\n",
        "      INPUT_LABEL_COLS = ['label']) AS\n",
        "  SELECT\n",
        "    features.*\n",
        "  FROM\n",
        "    `{project_id}.{data_set}.{table}`\n",
        "            '''\n",
        "  query_job=client.query(sql_code)\n",
        "\n",
        "  rows=query_job.result()\n",
        "  # for row in rows:\n",
        "  #   print(row.name)\n",
        "  # get the training info\n",
        "  # training_info= f'''\n",
        "  #    SELECT\n",
        "  #   *\n",
        "  # FROM\n",
        "  #   ML.TRAINING_INFO(MODEL `{data_set}.{model_name}`)\n",
        "  # ORDER BY iteration \n",
        "  #            '''\n",
        "  evaluation_stats=f'''\n",
        "  SELECT\n",
        "    *\n",
        "  FROM ML.EVALUATE(MODEL `{data_set}.{model_name}`)\n",
        "      '''\n",
        "\n",
        "  eval_tbl=client.query(evaluation_stats).to_dataframe()\n",
        "  eval=round(eval_tbl,3)\n",
        "  eval['model_name']=model_name\n",
        "\n",
        "  # total training time \n",
        "  training_time_s=f'''SELECT\n",
        "    SUM(duration_ms)/1000 as train_s\n",
        "  FROM\n",
        "    ML.TRAINING_INFO(MODEL `{data_set}.{model_name}`)'''\n",
        "\n",
        "  training_time=client.query(training_time_s).to_dataframe()\n",
        "  training_time_sec=training_time.iloc[0]['train_s']\n",
        "  hrs=training_time_sec//3600\n",
        "  min=(training_time_sec-3600*hrs)//60\n",
        "  s=round(training_time_sec%60,0)\n",
        "\n",
        "  train_time_string=f'{hrs}h {min}min {s}s'\n",
        "\n",
        "  # combine the previous eval with the time \n",
        "  eval['time_sec']=training_time_sec\n",
        "  eval['time']=train_time_string\n",
        "  return eval"
      ],
      "execution_count": 10,
      "outputs": []
    },
    {
      "cell_type": "markdown",
      "metadata": {
        "id": "R9i9v-aG1O84"
      },
      "source": [
        "run bqml with selected features"
      ]
    },
    {
      "cell_type": "code",
      "metadata": {
        "id": "27zCEqiYx-1E"
      },
      "source": [
        "# run bqml with selected features\n",
        "# return evaluation staistics and the time cost \n",
        "def run_bqml_selected_features(dataset=data_set,model_name=model_name,table=table,selected_features=None,max_tree_depth=None,learn_rate=None):\n",
        "  sql_code= f'''\n",
        "      CREATE OR REPLACE MODEL {data_set}.{model_name} OPTIONS(MODEL_TYPE='BOOSTED_TREE_CLASSIFIER',\n",
        "      BOOSTER_TYPE = 'GBTREE',\n",
        "      NUM_PARALLEL_TREE = 1,\n",
        "      MAX_ITERATIONS = 100,\n",
        "      MAX_TREE_DEPTH = {max_tree_depth},\n",
        "      LEARN_RATE = {learn_rate},\n",
        "      EARLY_STOP = TRUE,\n",
        "      INPUT_LABEL_COLS = ['label']) AS\n",
        "  SELECT\n",
        "    features.label,{selected_features}\n",
        "  FROM\n",
        "    `{project_id}.{data_set}.{table}`\n",
        "            '''\n",
        "  query_job=client.query(sql_code)\n",
        "\n",
        "  rows=query_job.result()\n",
        "  # for row in rows:\n",
        "  #   print(row.name)\n",
        "  # get the training info\n",
        "  # training_info= f'''\n",
        "  #    SELECT\n",
        "  #   *\n",
        "  # FROM\n",
        "  #   ML.TRAINING_INFO(MODEL `{data_set}.{model_name}`)\n",
        "  # ORDER BY iteration \n",
        "  #            '''\n",
        "  evaluation_stats=f'''\n",
        "  SELECT\n",
        "    *\n",
        "  FROM ML.EVALUATE(MODEL `{data_set}.{model_name}`)\n",
        "      '''\n",
        "\n",
        "  eval_tbl=client.query(evaluation_stats).to_dataframe()\n",
        "  eval=round(eval_tbl,3)\n",
        "  eval['model_name']=model_name\n",
        "\n",
        "  # total training time \n",
        "  training_time_s=f'''SELECT\n",
        "    SUM(duration_ms)/1000 as train_s\n",
        "  FROM\n",
        "    ML.TRAINING_INFO(MODEL `{data_set}.{model_name}`)'''\n",
        "\n",
        "  training_time=client.query(training_time_s).to_dataframe()\n",
        "  training_time_sec=training_time.iloc[0]['train_s']\n",
        "  hrs=training_time_sec//3600\n",
        "  min=(training_time_sec-3600*hrs)//60\n",
        "  s=round(training_time_sec%60,0)\n",
        "\n",
        "  train_time_string=f'{hrs}h {min}min {s}s'\n",
        "\n",
        "  # combine the previous eval with the time \n",
        "  eval['time_sec']=training_time_sec\n",
        "  eval['time']=train_time_string\n",
        "  return eval"
      ],
      "execution_count": 11,
      "outputs": []
    },
    {
      "cell_type": "markdown",
      "metadata": {
        "id": "5APhKTj01TX3"
      },
      "source": [
        "feature selection"
      ]
    },
    {
      "cell_type": "code",
      "metadata": {
        "id": "zuolOLKR-A9W"
      },
      "source": [
        "# this function is to format the colnames so they match the actual colnames in the bq table\n",
        "# example : \n",
        "# the name in the ml.feature_importance looks like xxx_xxx_...\n",
        "#             the names in the bq data  looks like xxx.xxx.xxx\n",
        "def get_top_k_features_name(data_set=data_set,model_name=model_name,table=table,k=100):\n",
        "  import re\n",
        "  # get the feature importance\n",
        "  feature_importance=f'''select *\n",
        "  from ml.feature_importance(model `{data_set}.{model_name}`)\n",
        "  order by importance_gain desc limit {k}'''\n",
        "  feature_importace_tbl=client.query(feature_importance).to_dataframe()\n",
        "  feature_importace_tbl\n",
        "\n",
        "  top_k_features=feature_importace_tbl.loc[:,'feature']\n",
        "  # get record name \n",
        "  record_name_sql=f'''\n",
        "  SELECT\n",
        "      ARRAY_AGG(field_path)\n",
        "    FROM\n",
        "      `tapad-identity-stg`.{data_set}.INFORMATION_SCHEMA.COLUMN_FIELD_PATHS\n",
        "    WHERE\n",
        "      table_name=\"{table}\"\n",
        "      AND data_type NOT IN (\"FLOAT64\",\"INT64\",\"STRING\")\n",
        "\n",
        "  '''\n",
        "  record_names=client.query(record_name_sql).to_dataframe()\n",
        "  record_names=record_names.iloc[0,:].values\n",
        "  record_names=record_names[0]\n",
        "  # change the formatting to match the colnames in the bq data\n",
        "  features_selected=[]\n",
        "  for feature in top_k_features:\n",
        "    nested_feature=feature\n",
        "    # non embeddings\n",
        "    if re.match(\"tfidf\",feature):\n",
        "      nested_feature=re.sub(\"tfidf_vector_\",\"tfidf_vector.\",feature)\n",
        "    elif re.match(\"day_quadrant_mode\",feature):\n",
        "      nested_feature=re.sub(\"day_quadrant_mode_\",\"day_quadrant_mode.\",feature)\n",
        "    else:\n",
        "      # embeddings\n",
        "      for record_name in record_names:\n",
        "        if \".\" in record_name:\n",
        "          prefix,record=record_name.split(\".\")\n",
        "          if re.match(f\"^{record}_{record}.*\",feature):\n",
        "            nested_feature=re.sub(f\"^{record}_{record}\",f\"{record}.{record}\",feature)\n",
        "            break\n",
        "    \n",
        "        \n",
        "    nested_feature=\"features.\"+nested_feature\n",
        "    features_selected.append(nested_feature)\n",
        "\n",
        "  return \",\".join(features_selected)"
      ],
      "execution_count": 27,
      "outputs": []
    },
    {
      "cell_type": "code",
      "metadata": {
        "id": "8FPJ2GP-yvFP"
      },
      "source": [
        ""
      ],
      "execution_count": 12,
      "outputs": []
    }
  ]
}